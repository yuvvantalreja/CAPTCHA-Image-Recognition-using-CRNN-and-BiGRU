{
  "nbformat": 4,
  "nbformat_minor": 0,
  "metadata": {
    "colab": {
      "provenance": [],
      "gpuType": "T4",
      "authorship_tag": "ABX9TyPfezf02dq5FLZeMXlNPT7H",
      "include_colab_link": true
    },
    "kernelspec": {
      "name": "python3",
      "display_name": "Python 3"
    },
    "language_info": {
      "name": "python"
    },
    "accelerator": "GPU",
    "widgets": {
      "application/vnd.jupyter.widget-state+json": {
        "c7ac0c5e0a1742eda4df5830859beab2": {
          "model_module": "@jupyter-widgets/controls",
          "model_name": "HBoxModel",
          "model_module_version": "1.5.0",
          "state": {
            "_dom_classes": [],
            "_model_module": "@jupyter-widgets/controls",
            "_model_module_version": "1.5.0",
            "_model_name": "HBoxModel",
            "_view_count": null,
            "_view_module": "@jupyter-widgets/controls",
            "_view_module_version": "1.5.0",
            "_view_name": "HBoxView",
            "box_style": "",
            "children": [
              "IPY_MODEL_2335495ee7de444a921a4375d7debb8d",
              "IPY_MODEL_f6ed063c171543238a5d191c07dde429",
              "IPY_MODEL_2917a6fa366c45859edc3b25a3ca4e34"
            ],
            "layout": "IPY_MODEL_e3e87aefbaaa41aeb589485b0f713120"
          }
        },
        "2335495ee7de444a921a4375d7debb8d": {
          "model_module": "@jupyter-widgets/controls",
          "model_name": "HTMLModel",
          "model_module_version": "1.5.0",
          "state": {
            "_dom_classes": [],
            "_model_module": "@jupyter-widgets/controls",
            "_model_module_version": "1.5.0",
            "_model_name": "HTMLModel",
            "_view_count": null,
            "_view_module": "@jupyter-widgets/controls",
            "_view_module_version": "1.5.0",
            "_view_name": "HTMLView",
            "description": "",
            "description_tooltip": null,
            "layout": "IPY_MODEL_8ccba4e494734de58d24ea168ed0b346",
            "placeholder": "​",
            "style": "IPY_MODEL_ba3dd35f09da4944bce30b7b44e7b88d",
            "value": "100%"
          }
        },
        "f6ed063c171543238a5d191c07dde429": {
          "model_module": "@jupyter-widgets/controls",
          "model_name": "FloatProgressModel",
          "model_module_version": "1.5.0",
          "state": {
            "_dom_classes": [],
            "_model_module": "@jupyter-widgets/controls",
            "_model_module_version": "1.5.0",
            "_model_name": "FloatProgressModel",
            "_view_count": null,
            "_view_module": "@jupyter-widgets/controls",
            "_view_module_version": "1.5.0",
            "_view_name": "ProgressView",
            "bar_style": "success",
            "description": "",
            "description_tooltip": null,
            "layout": "IPY_MODEL_37b925cae1bf4510acbbbce578cac037",
            "max": 52,
            "min": 0,
            "orientation": "horizontal",
            "style": "IPY_MODEL_f67006a2849740e69a9c82f89cc045e7",
            "value": 52
          }
        },
        "2917a6fa366c45859edc3b25a3ca4e34": {
          "model_module": "@jupyter-widgets/controls",
          "model_name": "HTMLModel",
          "model_module_version": "1.5.0",
          "state": {
            "_dom_classes": [],
            "_model_module": "@jupyter-widgets/controls",
            "_model_module_version": "1.5.0",
            "_model_name": "HTMLModel",
            "_view_count": null,
            "_view_module": "@jupyter-widgets/controls",
            "_view_module_version": "1.5.0",
            "_view_name": "HTMLView",
            "description": "",
            "description_tooltip": null,
            "layout": "IPY_MODEL_177960120ebc419e9bc903ddd5eca5e8",
            "placeholder": "​",
            "style": "IPY_MODEL_f073ff1f29df47b388b1c198a1aaba5b",
            "value": " 52/52 [00:01&lt;00:00, 61.04it/s]"
          }
        },
        "e3e87aefbaaa41aeb589485b0f713120": {
          "model_module": "@jupyter-widgets/base",
          "model_name": "LayoutModel",
          "model_module_version": "1.2.0",
          "state": {
            "_model_module": "@jupyter-widgets/base",
            "_model_module_version": "1.2.0",
            "_model_name": "LayoutModel",
            "_view_count": null,
            "_view_module": "@jupyter-widgets/base",
            "_view_module_version": "1.2.0",
            "_view_name": "LayoutView",
            "align_content": null,
            "align_items": null,
            "align_self": null,
            "border": null,
            "bottom": null,
            "display": null,
            "flex": null,
            "flex_flow": null,
            "grid_area": null,
            "grid_auto_columns": null,
            "grid_auto_flow": null,
            "grid_auto_rows": null,
            "grid_column": null,
            "grid_gap": null,
            "grid_row": null,
            "grid_template_areas": null,
            "grid_template_columns": null,
            "grid_template_rows": null,
            "height": null,
            "justify_content": null,
            "justify_items": null,
            "left": null,
            "margin": null,
            "max_height": null,
            "max_width": null,
            "min_height": null,
            "min_width": null,
            "object_fit": null,
            "object_position": null,
            "order": null,
            "overflow": null,
            "overflow_x": null,
            "overflow_y": null,
            "padding": null,
            "right": null,
            "top": null,
            "visibility": null,
            "width": null
          }
        },
        "8ccba4e494734de58d24ea168ed0b346": {
          "model_module": "@jupyter-widgets/base",
          "model_name": "LayoutModel",
          "model_module_version": "1.2.0",
          "state": {
            "_model_module": "@jupyter-widgets/base",
            "_model_module_version": "1.2.0",
            "_model_name": "LayoutModel",
            "_view_count": null,
            "_view_module": "@jupyter-widgets/base",
            "_view_module_version": "1.2.0",
            "_view_name": "LayoutView",
            "align_content": null,
            "align_items": null,
            "align_self": null,
            "border": null,
            "bottom": null,
            "display": null,
            "flex": null,
            "flex_flow": null,
            "grid_area": null,
            "grid_auto_columns": null,
            "grid_auto_flow": null,
            "grid_auto_rows": null,
            "grid_column": null,
            "grid_gap": null,
            "grid_row": null,
            "grid_template_areas": null,
            "grid_template_columns": null,
            "grid_template_rows": null,
            "height": null,
            "justify_content": null,
            "justify_items": null,
            "left": null,
            "margin": null,
            "max_height": null,
            "max_width": null,
            "min_height": null,
            "min_width": null,
            "object_fit": null,
            "object_position": null,
            "order": null,
            "overflow": null,
            "overflow_x": null,
            "overflow_y": null,
            "padding": null,
            "right": null,
            "top": null,
            "visibility": null,
            "width": null
          }
        },
        "ba3dd35f09da4944bce30b7b44e7b88d": {
          "model_module": "@jupyter-widgets/controls",
          "model_name": "DescriptionStyleModel",
          "model_module_version": "1.5.0",
          "state": {
            "_model_module": "@jupyter-widgets/controls",
            "_model_module_version": "1.5.0",
            "_model_name": "DescriptionStyleModel",
            "_view_count": null,
            "_view_module": "@jupyter-widgets/base",
            "_view_module_version": "1.2.0",
            "_view_name": "StyleView",
            "description_width": ""
          }
        },
        "37b925cae1bf4510acbbbce578cac037": {
          "model_module": "@jupyter-widgets/base",
          "model_name": "LayoutModel",
          "model_module_version": "1.2.0",
          "state": {
            "_model_module": "@jupyter-widgets/base",
            "_model_module_version": "1.2.0",
            "_model_name": "LayoutModel",
            "_view_count": null,
            "_view_module": "@jupyter-widgets/base",
            "_view_module_version": "1.2.0",
            "_view_name": "LayoutView",
            "align_content": null,
            "align_items": null,
            "align_self": null,
            "border": null,
            "bottom": null,
            "display": null,
            "flex": null,
            "flex_flow": null,
            "grid_area": null,
            "grid_auto_columns": null,
            "grid_auto_flow": null,
            "grid_auto_rows": null,
            "grid_column": null,
            "grid_gap": null,
            "grid_row": null,
            "grid_template_areas": null,
            "grid_template_columns": null,
            "grid_template_rows": null,
            "height": null,
            "justify_content": null,
            "justify_items": null,
            "left": null,
            "margin": null,
            "max_height": null,
            "max_width": null,
            "min_height": null,
            "min_width": null,
            "object_fit": null,
            "object_position": null,
            "order": null,
            "overflow": null,
            "overflow_x": null,
            "overflow_y": null,
            "padding": null,
            "right": null,
            "top": null,
            "visibility": null,
            "width": null
          }
        },
        "f67006a2849740e69a9c82f89cc045e7": {
          "model_module": "@jupyter-widgets/controls",
          "model_name": "ProgressStyleModel",
          "model_module_version": "1.5.0",
          "state": {
            "_model_module": "@jupyter-widgets/controls",
            "_model_module_version": "1.5.0",
            "_model_name": "ProgressStyleModel",
            "_view_count": null,
            "_view_module": "@jupyter-widgets/base",
            "_view_module_version": "1.2.0",
            "_view_name": "StyleView",
            "bar_color": null,
            "description_width": ""
          }
        },
        "177960120ebc419e9bc903ddd5eca5e8": {
          "model_module": "@jupyter-widgets/base",
          "model_name": "LayoutModel",
          "model_module_version": "1.2.0",
          "state": {
            "_model_module": "@jupyter-widgets/base",
            "_model_module_version": "1.2.0",
            "_model_name": "LayoutModel",
            "_view_count": null,
            "_view_module": "@jupyter-widgets/base",
            "_view_module_version": "1.2.0",
            "_view_name": "LayoutView",
            "align_content": null,
            "align_items": null,
            "align_self": null,
            "border": null,
            "bottom": null,
            "display": null,
            "flex": null,
            "flex_flow": null,
            "grid_area": null,
            "grid_auto_columns": null,
            "grid_auto_flow": null,
            "grid_auto_rows": null,
            "grid_column": null,
            "grid_gap": null,
            "grid_row": null,
            "grid_template_areas": null,
            "grid_template_columns": null,
            "grid_template_rows": null,
            "height": null,
            "justify_content": null,
            "justify_items": null,
            "left": null,
            "margin": null,
            "max_height": null,
            "max_width": null,
            "min_height": null,
            "min_width": null,
            "object_fit": null,
            "object_position": null,
            "order": null,
            "overflow": null,
            "overflow_x": null,
            "overflow_y": null,
            "padding": null,
            "right": null,
            "top": null,
            "visibility": null,
            "width": null
          }
        },
        "f073ff1f29df47b388b1c198a1aaba5b": {
          "model_module": "@jupyter-widgets/controls",
          "model_name": "DescriptionStyleModel",
          "model_module_version": "1.5.0",
          "state": {
            "_model_module": "@jupyter-widgets/controls",
            "_model_module_version": "1.5.0",
            "_model_name": "DescriptionStyleModel",
            "_view_count": null,
            "_view_module": "@jupyter-widgets/base",
            "_view_module_version": "1.2.0",
            "_view_name": "StyleView",
            "description_width": ""
          }
        }
      }
    }
  },
  "cells": [
    {
      "cell_type": "markdown",
      "metadata": {
        "id": "view-in-github",
        "colab_type": "text"
      },
      "source": [
        "<a href=\"https://colab.research.google.com/github/yuvvantalreja/CAPTCHA-Image-Recognition-using-CRNN-and-BiGRU/blob/main/CAPTCHA_Text_Recognition.ipynb\" target=\"_parent\"><img src=\"https://colab.research.google.com/assets/colab-badge.svg\" alt=\"Open In Colab\"/></a>"
      ]
    },
    {
      "cell_type": "markdown",
      "source": [
        "## Importing Libraries"
      ],
      "metadata": {
        "id": "N6yRbgwJsRB3"
      }
    },
    {
      "cell_type": "code",
      "source": [
        "import torch\n",
        "from torch import nn\n",
        "\n",
        "torch.__version__"
      ],
      "metadata": {
        "colab": {
          "base_uri": "https://localhost:8080/",
          "height": 36
        },
        "id": "8tO5ycIFH21G",
        "outputId": "46f285f9-87d5-441c-ef2a-8d04ae8ec09e"
      },
      "execution_count": 41,
      "outputs": [
        {
          "output_type": "execute_result",
          "data": {
            "text/plain": [
              "'2.3.0+cu121'"
            ],
            "application/vnd.google.colaboratory.intrinsic+json": {
              "type": "string"
            }
          },
          "metadata": {},
          "execution_count": 41
        }
      ]
    },
    {
      "cell_type": "code",
      "source": [
        "device = \"cuda\" if torch.cuda.is_available() else \"cpu\"\n",
        "device"
      ],
      "metadata": {
        "colab": {
          "base_uri": "https://localhost:8080/",
          "height": 36
        },
        "id": "9EYlpF29H23v",
        "outputId": "75ffdacb-527e-4245-d6ec-293425cee6bb"
      },
      "execution_count": 42,
      "outputs": [
        {
          "output_type": "execute_result",
          "data": {
            "text/plain": [
              "'cuda'"
            ],
            "application/vnd.google.colaboratory.intrinsic+json": {
              "type": "string"
            }
          },
          "metadata": {},
          "execution_count": 42
        }
      ]
    },
    {
      "cell_type": "code",
      "source": [
        "!nvidia-smi"
      ],
      "metadata": {
        "colab": {
          "base_uri": "https://localhost:8080/"
        },
        "id": "he3PxxbIUgQY",
        "outputId": "bf5bb49c-a206-4876-9b43-4b3101df0a76"
      },
      "execution_count": 83,
      "outputs": [
        {
          "output_type": "stream",
          "name": "stdout",
          "text": [
            "Mon Jun  3 18:18:08 2024       \n",
            "+---------------------------------------------------------------------------------------+\n",
            "| NVIDIA-SMI 535.104.05             Driver Version: 535.104.05   CUDA Version: 12.2     |\n",
            "|-----------------------------------------+----------------------+----------------------+\n",
            "| GPU  Name                 Persistence-M | Bus-Id        Disp.A | Volatile Uncorr. ECC |\n",
            "| Fan  Temp   Perf          Pwr:Usage/Cap |         Memory-Usage | GPU-Util  Compute M. |\n",
            "|                                         |                      |               MIG M. |\n",
            "|=========================================+======================+======================|\n",
            "|   0  Tesla T4                       Off | 00000000:00:04.0 Off |                    0 |\n",
            "| N/A   74C    P0              44W /  70W |    551MiB / 15360MiB |      9%      Default |\n",
            "|                                         |                      |                  N/A |\n",
            "+-----------------------------------------+----------------------+----------------------+\n",
            "                                                                                         \n",
            "+---------------------------------------------------------------------------------------+\n",
            "| Processes:                                                                            |\n",
            "|  GPU   GI   CI        PID   Type   Process name                            GPU Memory |\n",
            "|        ID   ID                                                             Usage      |\n",
            "|=======================================================================================|\n",
            "+---------------------------------------------------------------------------------------+\n"
          ]
        }
      ]
    },
    {
      "cell_type": "code",
      "source": [
        "import requests\n",
        "import os\n",
        "import zipfile\n",
        "from tqdm.auto import tqdm\n",
        "from pathlib import Path\n",
        "import matplotlib.pyplot as plt\n",
        "import numpy as np\n",
        "from torch.utils.data import DataLoader\n",
        "from torchvision import datasets, transforms\n",
        "import torch.optim\n",
        "import torch.nn.functional as F"
      ],
      "metadata": {
        "id": "KsDKkNmJH26Q"
      },
      "execution_count": 43,
      "outputs": []
    },
    {
      "cell_type": "markdown",
      "source": [
        "## Data Preprocessing"
      ],
      "metadata": {
        "id": "BI2fzJiSsXap"
      }
    },
    {
      "cell_type": "code",
      "source": [
        "data_path = Path(\"\")\n",
        "\n",
        "# If image folder doesn't exist commence download\n",
        "if data_path.is_dir():\n",
        "  print(f\"{data_path} directory already exists... skipping download\")\n",
        "else:\n",
        "  print(f\"Image path doesn't exist creating one...\")\n",
        "  data_path.mkdir(parents = True, exist_ok = True)\n",
        "\n",
        "with open(data_path/\"data.zip\", \"wb\") as f:\n",
        "  request = requests.get(\"https://github.com/yuvvantalreja/CAPTCHA-Image-Recognition-using-CRNN-and-BiGRU/raw/main/data.zip\")\n",
        "  print(\"Downloading data\")\n",
        "  f.write(request.content)\n",
        "\n",
        "# Unzip pizza, steak, sushi data\n",
        "with zipfile.ZipFile(data_path/\"data.zip\", \"r\") as zip_ref:\n",
        "  print(\"Unzipping data\")\n",
        "  zip_ref.extractall(data_path)"
      ],
      "metadata": {
        "colab": {
          "base_uri": "https://localhost:8080/"
        },
        "id": "eAeIjcKLH28f",
        "outputId": "707bcbbf-c220-4911-9f80-8351c63cedfd"
      },
      "execution_count": 44,
      "outputs": [
        {
          "output_type": "stream",
          "name": "stdout",
          "text": [
            ". directory already exists... skipping download\n",
            "Downloading data\n",
            "Unzipping data\n"
          ]
        }
      ]
    },
    {
      "cell_type": "code",
      "source": [
        "image_fns = os.listdir(data_path/\"data\")\n",
        "print(len(image_fns))\n",
        "print(np.unique([len(image_fn.split(\".\")[0]) for image_fn in image_fns]))"
      ],
      "metadata": {
        "colab": {
          "base_uri": "https://localhost:8080/"
        },
        "id": "csp4-98nfp4j",
        "outputId": "3bafc202-3f6c-4417-8c95-8568e188d257"
      },
      "execution_count": 45,
      "outputs": [
        {
          "output_type": "stream",
          "name": "stdout",
          "text": [
            "1071\n",
            "[0 5]\n"
          ]
        }
      ]
    },
    {
      "cell_type": "code",
      "source": [
        "for idx, image_fn in enumerate(image_fns):\n",
        "    if len(image_fn.split(\".\")[0]) != 5:\n",
        "           print(idx, image_fn)\n",
        "           image_fns.remove(image_fn)"
      ],
      "metadata": {
        "colab": {
          "base_uri": "https://localhost:8080/"
        },
        "id": "knmG_5Pdf_0F",
        "outputId": "7a692443-18fa-4bac-b9b7-ba2cdff679a9"
      },
      "execution_count": 46,
      "outputs": [
        {
          "output_type": "stream",
          "name": "stdout",
          "text": [
            "877 .DS_Store\n"
          ]
        }
      ]
    },
    {
      "cell_type": "code",
      "source": [
        "image_ns = [image_fn.split(\".\")[0] for image_fn in image_fns]\n",
        "image_ns = \"\".join(image_ns)\n",
        "letters = sorted(list(set(list(image_ns))))\n",
        "print(len(letters))\n",
        "print(letters)"
      ],
      "metadata": {
        "colab": {
          "base_uri": "https://localhost:8080/"
        },
        "id": "JjH1q4fzgH02",
        "outputId": "0d004016-b9b6-43fa-8566-57a3c1f820f2"
      },
      "execution_count": 47,
      "outputs": [
        {
          "output_type": "stream",
          "name": "stdout",
          "text": [
            "19\n",
            "['2', '3', '4', '5', '6', '7', '8', 'b', 'c', 'd', 'e', 'f', 'g', 'm', 'n', 'p', 'w', 'x', 'y']\n"
          ]
        }
      ]
    },
    {
      "cell_type": "code",
      "source": [
        "vocabulary = [\"-\"] + letters\n",
        "print(len(vocabulary))\n",
        "print(vocabulary)\n",
        "idx2char = {k:v for k,v in enumerate(vocabulary, start=0)}\n",
        "print(idx2char)\n",
        "char2idx = {v:k for k,v in idx2char.items()}\n",
        "print(char2idx)"
      ],
      "metadata": {
        "colab": {
          "base_uri": "https://localhost:8080/"
        },
        "id": "RNmdE-SegMIm",
        "outputId": "418651a9-ecc7-4eda-fcd5-c7f13971d7ad"
      },
      "execution_count": 48,
      "outputs": [
        {
          "output_type": "stream",
          "name": "stdout",
          "text": [
            "20\n",
            "['-', '2', '3', '4', '5', '6', '7', '8', 'b', 'c', 'd', 'e', 'f', 'g', 'm', 'n', 'p', 'w', 'x', 'y']\n",
            "{0: '-', 1: '2', 2: '3', 3: '4', 4: '5', 5: '6', 6: '7', 7: '8', 8: 'b', 9: 'c', 10: 'd', 11: 'e', 12: 'f', 13: 'g', 14: 'm', 15: 'n', 16: 'p', 17: 'w', 18: 'x', 19: 'y'}\n",
            "{'-': 0, '2': 1, '3': 2, '4': 3, '5': 4, '6': 5, '7': 6, '8': 7, 'b': 8, 'c': 9, 'd': 10, 'e': 11, 'f': 12, 'g': 13, 'm': 14, 'n': 15, 'p': 16, 'w': 17, 'x': 18, 'y': 19}\n"
          ]
        }
      ]
    },
    {
      "cell_type": "code",
      "source": [
        "import random\n",
        "from PIL import Image\n",
        "\n",
        "image_path_list = list(data_path.glob(\"*/*.png\"))\n",
        "image_path_list[0]"
      ],
      "metadata": {
        "colab": {
          "base_uri": "https://localhost:8080/"
        },
        "id": "e1bYyiEbH2-m",
        "outputId": "6b1bbd43-aa62-4cff-904e-c1d8a595b6a1"
      },
      "execution_count": 49,
      "outputs": [
        {
          "output_type": "execute_result",
          "data": {
            "text/plain": [
              "PosixPath('data/wgnwp.png')"
            ]
          },
          "metadata": {},
          "execution_count": 49
        }
      ]
    },
    {
      "cell_type": "code",
      "source": [
        "# Split into train and test data\n",
        "from sklearn.model_selection import train_test_split\n",
        "\n",
        "train_set, test_set = train_test_split(image_path_list, test_size = 0.2, train_size = 0.8, random_state = 42)\n",
        "\n",
        "len(train_set), len(test_set)"
      ],
      "metadata": {
        "colab": {
          "base_uri": "https://localhost:8080/"
        },
        "id": "4-MktdM1H3A3",
        "outputId": "03042751-edfc-466f-cedb-6ba5432d8328"
      },
      "execution_count": 50,
      "outputs": [
        {
          "output_type": "execute_result",
          "data": {
            "text/plain": [
              "(832, 208)"
            ]
          },
          "metadata": {},
          "execution_count": 50
        }
      ]
    },
    {
      "cell_type": "code",
      "source": [
        "random.seed(42)\n",
        "random_img = random.choice(image_path_list)\n",
        "img = Image.open(random_img).convert('RGB')\n",
        "print(f\"Image Label: {str(random_img.stem)}\")\n",
        "img"
      ],
      "metadata": {
        "colab": {
          "base_uri": "https://localhost:8080/",
          "height": 84
        },
        "id": "cSTEicbYTdbT",
        "outputId": "0b4d1b35-9764-46e5-e060-45c9ba0c1a4d"
      },
      "execution_count": 51,
      "outputs": [
        {
          "output_type": "stream",
          "name": "stdout",
          "text": [
            "Image Label: nbfx5\n"
          ]
        },
        {
          "output_type": "execute_result",
          "data": {
            "text/plain": [
              "<PIL.Image.Image image mode=RGB size=200x50>"
            ],
            "image/png": "[encoded data removed]"
          },
          "metadata": {},
          "execution_count": 51
        }
      ]
    },
    {
      "cell_type": "code",
      "source": [
        "img_as_array = np.asarray(img)\n",
        "\n",
        "plt.figure(figsize = (4, 3))\n",
        "plt.imshow(img_as_array)\n",
        "plt.axis(False)\n",
        "plt.title(f\"Image_Label: {str(random_img.stem)} | Image Shape: {img_as_array.shape}\")"
      ],
      "metadata": {
        "colab": {
          "base_uri": "https://localhost:8080/",
          "height": 153
        },
        "id": "S6opsgLQln5q",
        "outputId": "60127b16-e0db-4642-8a09-718b65425166"
      },
      "execution_count": 52,
      "outputs": [
        {
          "output_type": "execute_result",
          "data": {
            "text/plain": [
              "Text(0.5, 1.0, 'Image_Label: nbfx5 | Image Shape: (50, 200, 3)')"
            ]
          },
          "metadata": {},
          "execution_count": 52
        },
        {
          "output_type": "display_data",
          "data": {
            "text/plain": [
              "<Figure size 400x300 with 1 Axes>"
            ],
            "image/png": "[encoded data removed]"
          },
          "metadata": {}
        }
      ]
    },
    {
      "cell_type": "code",
      "source": [
        "import os\n",
        "import pathlib\n",
        "import torch\n",
        "from PIL import Image\n",
        "from torch.utils.data import Dataset\n",
        "from torchvision import transforms\n",
        "from typing import Tuple, Dict, List"
      ],
      "metadata": {
        "id": "yr-KqKJuUK-G"
      },
      "execution_count": 53,
      "outputs": []
    },
    {
      "cell_type": "code",
      "source": [
        "# Creating custom dataset\n",
        "\n",
        "class CaptchaDataset(Dataset):\n",
        "  def __init__(self, data_dir: str, image_fns: list):\n",
        "    self.data_dir = data_dir\n",
        "    self.image_fns = image_fns\n",
        "\n",
        "  def __len__(self):\n",
        "    return len(self.image_fns)\n",
        "\n",
        "  def __getitem__(self, input: int):\n",
        "    image_fn = self.image_fns[input]\n",
        "    # image_fp = os.path.join(self.data_dir, image_fn)\n",
        "    image = Image.open(image_fn).convert('RGB')\n",
        "    image = self.transform(image)\n",
        "    text = str(image_fn.stem)\n",
        "    return image, text\n",
        "\n",
        "  def transform(self, image):\n",
        "        transform_ops = transforms.Compose([\n",
        "            transforms.ToTensor(),\n",
        "            transforms.Normalize(mean=(0.485, 0.456, 0.406), std=(0.229, 0.224, 0.225))\n",
        "        ])\n",
        "        return transform_ops(image)"
      ],
      "metadata": {
        "id": "lM3-c8rcH3a6"
      },
      "execution_count": 54,
      "outputs": []
    },
    {
      "cell_type": "code",
      "source": [
        "train_dataset = CaptchaDataset(\"data/\", train_set)\n",
        "test_dataset = CaptchaDataset(\"data/\", test_set)\n",
        "train_dataset.__getitem__(0)"
      ],
      "metadata": {
        "colab": {
          "base_uri": "https://localhost:8080/"
        },
        "id": "S1lZq8tssaOz",
        "outputId": "d356ccac-4e75-450c-f192-43efb776564c"
      },
      "execution_count": 55,
      "outputs": [
        {
          "output_type": "execute_result",
          "data": {
            "text/plain": [
              "(tensor([[[1.1700, 1.1700, 1.1700,  ..., 2.1804, 2.1804, 2.1804],\n",
              "          [1.1700, 1.1700, 1.1700,  ..., 2.1804, 2.1804, 2.1804],\n",
              "          [1.1700, 1.1700, 1.1700,  ..., 2.1804, 2.1804, 2.1804],\n",
              "          ...,\n",
              "          [1.2214, 1.2214, 1.2214,  ..., 2.2318, 2.2318, 2.2318],\n",
              "          [1.2214, 1.2214, 1.2214,  ..., 2.2318, 2.2318, 2.2318],\n",
              "          [1.2214, 1.2214, 1.2214,  ..., 2.2318, 2.2318, 2.2318]],\n",
              " \n",
              "         [[1.3256, 1.3256, 1.3256,  ..., 2.3585, 2.3585, 2.3585],\n",
              "          [1.3256, 1.3256, 1.3256,  ..., 2.3585, 2.3585, 2.3585],\n",
              "          [1.3256, 1.3256, 1.3256,  ..., 2.3585, 2.3585, 2.3585],\n",
              "          ...,\n",
              "          [1.3782, 1.3782, 1.3782,  ..., 2.4111, 2.4111, 2.4111],\n",
              "          [1.3782, 1.3782, 1.3782,  ..., 2.4111, 2.4111, 2.4111],\n",
              "          [1.3782, 1.3782, 1.3782,  ..., 2.4111, 2.4111, 2.4111]],\n",
              " \n",
              "         [[1.5420, 1.5420, 1.5420,  ..., 2.5703, 2.5703, 2.5703],\n",
              "          [1.5420, 1.5420, 1.5420,  ..., 2.5703, 2.5703, 2.5703],\n",
              "          [1.5420, 1.5420, 1.5420,  ..., 2.5703, 2.5703, 2.5703],\n",
              "          ...,\n",
              "          [1.5942, 1.5942, 1.5942,  ..., 2.6226, 2.6226, 2.6226],\n",
              "          [1.5942, 1.5942, 1.5942,  ..., 2.6226, 2.6226, 2.6226],\n",
              "          [1.5942, 1.5942, 1.5942,  ..., 2.6226, 2.6226, 2.6226]]]),\n",
              " '44ype')"
            ]
          },
          "metadata": {},
          "execution_count": 55
        }
      ]
    },
    {
      "cell_type": "code",
      "source": [
        "torch.manual_seed(0)\n",
        "fig = plt.figure(figsize = (9, 9))\n",
        "rows, cols = 3, 3\n",
        "\n",
        "for i in range(1, rows*cols + 1):\n",
        "  random_idx = torch.randint(0, train_dataset.__len__(), size = [1]).item()\n",
        "  image, labels = train_dataset[random_idx]\n",
        "  fig.add_subplot(rows, cols, i)\n",
        "  plt.imshow(image.squeeze().permute(1, 2, 0))\n",
        "  plt.title(train_set[random_idx].stem)\n",
        "  plt.axis(True)"
      ],
      "metadata": {
        "colab": {
          "base_uri": "https://localhost:8080/",
          "height": 799
        },
        "id": "LVzJQdfVmemY",
        "outputId": "b2f2371f-a87b-4de9-a3dd-9ed5f7289328"
      },
      "execution_count": 56,
      "outputs": [
        {
          "output_type": "stream",
          "name": "stderr",
          "text": [
            "WARNING:matplotlib.image:Clipping input data to the valid range for imshow with RGB data ([0..1] for floats or [0..255] for integers).\n",
            "WARNING:matplotlib.image:Clipping input data to the valid range for imshow with RGB data ([0..1] for floats or [0..255] for integers).\n",
            "WARNING:matplotlib.image:Clipping input data to the valid range for imshow with RGB data ([0..1] for floats or [0..255] for integers).\n",
            "WARNING:matplotlib.image:Clipping input data to the valid range for imshow with RGB data ([0..1] for floats or [0..255] for integers).\n",
            "WARNING:matplotlib.image:Clipping input data to the valid range for imshow with RGB data ([0..1] for floats or [0..255] for integers).\n",
            "WARNING:matplotlib.image:Clipping input data to the valid range for imshow with RGB data ([0..1] for floats or [0..255] for integers).\n",
            "WARNING:matplotlib.image:Clipping input data to the valid range for imshow with RGB data ([0..1] for floats or [0..255] for integers).\n",
            "WARNING:matplotlib.image:Clipping input data to the valid range for imshow with RGB data ([0..1] for floats or [0..255] for integers).\n",
            "WARNING:matplotlib.image:Clipping input data to the valid range for imshow with RGB data ([0..1] for floats or [0..255] for integers).\n"
          ]
        },
        {
          "output_type": "display_data",
          "data": {
            "text/plain": [
              "<Figure size 900x900 with 9 Axes>"
            ],
            "image/png": "[encoded data removed]"
          },
          "metadata": {}
        }
      ]
    },
    {
      "cell_type": "code",
      "source": [
        "os.cpu_count()"
      ],
      "metadata": {
        "colab": {
          "base_uri": "https://localhost:8080/"
        },
        "id": "V8fOGD9Eo1i4",
        "outputId": "67b44353-a9c8-42ba-c11e-e61ebaa54574"
      },
      "execution_count": 57,
      "outputs": [
        {
          "output_type": "execute_result",
          "data": {
            "text/plain": [
              "2"
            ]
          },
          "metadata": {},
          "execution_count": 57
        }
      ]
    },
    {
      "cell_type": "code",
      "source": [
        "# Dataloader\n",
        "\n",
        "BATCH_SIZE = 16\n",
        "\n",
        "train_dataloader = DataLoader(train_dataset, BATCH_SIZE, num_workers = os.cpu_count(), shuffle = True)\n",
        "test_dataloader = DataLoader(test_dataset, BATCH_SIZE, num_workers = os.cpu_count(), shuffle = False)\n",
        "\n",
        "train_dataloader, test_dataloader"
      ],
      "metadata": {
        "colab": {
          "base_uri": "https://localhost:8080/"
        },
        "id": "pibFq0kneZiQ",
        "outputId": "9291c631-a04a-4ded-ee0e-d0f0df9e2664"
      },
      "execution_count": 58,
      "outputs": [
        {
          "output_type": "execute_result",
          "data": {
            "text/plain": [
              "(<torch.utils.data.dataloader.DataLoader at 0x7bf810426860>,\n",
              " <torch.utils.data.dataloader.DataLoader at 0x7bf810367a00>)"
            ]
          },
          "metadata": {},
          "execution_count": 58
        }
      ]
    },
    {
      "cell_type": "code",
      "source": [
        "len(train_dataloader), len(test_dataloader)"
      ],
      "metadata": {
        "colab": {
          "base_uri": "https://localhost:8080/"
        },
        "id": "HyIXcIBFeZkM",
        "outputId": "8a74c5b3-75d5-4ff3-f892-99680c1bddd1"
      },
      "execution_count": 59,
      "outputs": [
        {
          "output_type": "execute_result",
          "data": {
            "text/plain": [
              "(52, 13)"
            ]
          },
          "metadata": {},
          "execution_count": 59
        }
      ]
    },
    {
      "cell_type": "code",
      "source": [
        "image_batch, text_batch = iter(train_dataloader).__next__()\n",
        "print(image_batch.shape, len(text_batch))"
      ],
      "metadata": {
        "id": "29YtfY0VL1q6",
        "colab": {
          "base_uri": "https://localhost:8080/"
        },
        "outputId": "df989c96-14b0-4d83-c881-91923f0543f1"
      },
      "execution_count": 60,
      "outputs": [
        {
          "output_type": "stream",
          "name": "stdout",
          "text": [
            "torch.Size([16, 3, 50, 200]) 16\n"
          ]
        }
      ]
    },
    {
      "cell_type": "code",
      "source": [
        "image_batch[0]"
      ],
      "metadata": {
        "colab": {
          "base_uri": "https://localhost:8080/"
        },
        "id": "W-_T-gr3QrR7",
        "outputId": "57447e2e-ee6d-4a3f-9edb-498b752b5b5c"
      },
      "execution_count": 61,
      "outputs": [
        {
          "output_type": "execute_result",
          "data": {
            "text/plain": [
              "tensor([[[1.1700, 1.1700, 1.1700,  ..., 2.1804, 2.1804, 2.1804],\n",
              "         [1.1700, 1.1700, 1.1700,  ..., 2.1804, 2.1804, 2.1804],\n",
              "         [1.1700, 1.1700, 1.1700,  ..., 2.1804, 2.1804, 2.1804],\n",
              "         ...,\n",
              "         [1.2214, 1.2214, 1.2214,  ..., 2.2318, 2.2318, 2.2318],\n",
              "         [1.2214, 1.2214, 1.2214,  ..., 2.2318, 2.2318, 2.2318],\n",
              "         [1.2214, 1.2214, 1.2214,  ..., 2.2318, 2.2318, 2.2318]],\n",
              "\n",
              "        [[1.3256, 1.3256, 1.3256,  ..., 2.3585, 2.3585, 2.3585],\n",
              "         [1.3256, 1.3256, 1.3256,  ..., 2.3585, 2.3585, 2.3585],\n",
              "         [1.3256, 1.3256, 1.3256,  ..., 2.3585, 2.3585, 2.3585],\n",
              "         ...,\n",
              "         [1.3782, 1.3782, 1.3782,  ..., 2.4111, 2.4111, 2.4111],\n",
              "         [1.3782, 1.3782, 1.3782,  ..., 2.4111, 2.4111, 2.4111],\n",
              "         [1.3782, 1.3782, 1.3782,  ..., 2.4111, 2.4111, 2.4111]],\n",
              "\n",
              "        [[1.5420, 1.5420, 1.5420,  ..., 2.5703, 2.5703, 2.5703],\n",
              "         [1.5420, 1.5420, 1.5420,  ..., 2.5703, 2.5703, 2.5703],\n",
              "         [1.5420, 1.5420, 1.5420,  ..., 2.5703, 2.5703, 2.5703],\n",
              "         ...,\n",
              "         [1.5942, 1.5942, 1.5942,  ..., 2.6226, 2.6226, 2.6226],\n",
              "         [1.5942, 1.5942, 1.5942,  ..., 2.6226, 2.6226, 2.6226],\n",
              "         [1.5942, 1.5942, 1.5942,  ..., 2.6226, 2.6226, 2.6226]]])"
            ]
          },
          "metadata": {},
          "execution_count": 61
        }
      ]
    },
    {
      "cell_type": "markdown",
      "source": [
        "## Model Creation"
      ],
      "metadata": {
        "id": "d24fA3zLscWr"
      }
    },
    {
      "cell_type": "code",
      "source": [
        "num_chars = len(char2idx)\n",
        "rnn_hidden_units = 256"
      ],
      "metadata": {
        "id": "Ti2C3W8xH3dL"
      },
      "execution_count": 62,
      "outputs": []
    },
    {
      "cell_type": "code",
      "source": [
        "from torchvision.models import resnet18\n",
        "resnet = resnet18(pretrained = True)\n",
        "list(resnet.children())[:-3]"
      ],
      "metadata": {
        "id": "x6GiViv3H3ff",
        "colab": {
          "base_uri": "https://localhost:8080/"
        },
        "outputId": "61850eee-b5d9-4a9d-c1db-507bfbd83bdc"
      },
      "execution_count": 63,
      "outputs": [
        {
          "output_type": "execute_result",
          "data": {
            "text/plain": [
              "[Conv2d(3, 64, kernel_size=(7, 7), stride=(2, 2), padding=(3, 3), bias=False),\n",
              " BatchNorm2d(64, eps=1e-05, momentum=0.1, affine=True, track_running_stats=True),\n",
              " ReLU(inplace=True),\n",
              " MaxPool2d(kernel_size=3, stride=2, padding=1, dilation=1, ceil_mode=False),\n",
              " Sequential(\n",
              "   (0): BasicBlock(\n",
              "     (conv1): Conv2d(64, 64, kernel_size=(3, 3), stride=(1, 1), padding=(1, 1), bias=False)\n",
              "     (bn1): BatchNorm2d(64, eps=1e-05, momentum=0.1, affine=True, track_running_stats=True)\n",
              "     (relu): ReLU(inplace=True)\n",
              "     (conv2): Conv2d(64, 64, kernel_size=(3, 3), stride=(1, 1), padding=(1, 1), bias=False)\n",
              "     (bn2): BatchNorm2d(64, eps=1e-05, momentum=0.1, affine=True, track_running_stats=True)\n",
              "   )\n",
              "   (1): BasicBlock(\n",
              "     (conv1): Conv2d(64, 64, kernel_size=(3, 3), stride=(1, 1), padding=(1, 1), bias=False)\n",
              "     (bn1): BatchNorm2d(64, eps=1e-05, momentum=0.1, affine=True, track_running_stats=True)\n",
              "     (relu): ReLU(inplace=True)\n",
              "     (conv2): Conv2d(64, 64, kernel_size=(3, 3), stride=(1, 1), padding=(1, 1), bias=False)\n",
              "     (bn2): BatchNorm2d(64, eps=1e-05, momentum=0.1, affine=True, track_running_stats=True)\n",
              "   )\n",
              " ),\n",
              " Sequential(\n",
              "   (0): BasicBlock(\n",
              "     (conv1): Conv2d(64, 128, kernel_size=(3, 3), stride=(2, 2), padding=(1, 1), bias=False)\n",
              "     (bn1): BatchNorm2d(128, eps=1e-05, momentum=0.1, affine=True, track_running_stats=True)\n",
              "     (relu): ReLU(inplace=True)\n",
              "     (conv2): Conv2d(128, 128, kernel_size=(3, 3), stride=(1, 1), padding=(1, 1), bias=False)\n",
              "     (bn2): BatchNorm2d(128, eps=1e-05, momentum=0.1, affine=True, track_running_stats=True)\n",
              "     (downsample): Sequential(\n",
              "       (0): Conv2d(64, 128, kernel_size=(1, 1), stride=(2, 2), bias=False)\n",
              "       (1): BatchNorm2d(128, eps=1e-05, momentum=0.1, affine=True, track_running_stats=True)\n",
              "     )\n",
              "   )\n",
              "   (1): BasicBlock(\n",
              "     (conv1): Conv2d(128, 128, kernel_size=(3, 3), stride=(1, 1), padding=(1, 1), bias=False)\n",
              "     (bn1): BatchNorm2d(128, eps=1e-05, momentum=0.1, affine=True, track_running_stats=True)\n",
              "     (relu): ReLU(inplace=True)\n",
              "     (conv2): Conv2d(128, 128, kernel_size=(3, 3), stride=(1, 1), padding=(1, 1), bias=False)\n",
              "     (bn2): BatchNorm2d(128, eps=1e-05, momentum=0.1, affine=True, track_running_stats=True)\n",
              "   )\n",
              " ),\n",
              " Sequential(\n",
              "   (0): BasicBlock(\n",
              "     (conv1): Conv2d(128, 256, kernel_size=(3, 3), stride=(2, 2), padding=(1, 1), bias=False)\n",
              "     (bn1): BatchNorm2d(256, eps=1e-05, momentum=0.1, affine=True, track_running_stats=True)\n",
              "     (relu): ReLU(inplace=True)\n",
              "     (conv2): Conv2d(256, 256, kernel_size=(3, 3), stride=(1, 1), padding=(1, 1), bias=False)\n",
              "     (bn2): BatchNorm2d(256, eps=1e-05, momentum=0.1, affine=True, track_running_stats=True)\n",
              "     (downsample): Sequential(\n",
              "       (0): Conv2d(128, 256, kernel_size=(1, 1), stride=(2, 2), bias=False)\n",
              "       (1): BatchNorm2d(256, eps=1e-05, momentum=0.1, affine=True, track_running_stats=True)\n",
              "     )\n",
              "   )\n",
              "   (1): BasicBlock(\n",
              "     (conv1): Conv2d(256, 256, kernel_size=(3, 3), stride=(1, 1), padding=(1, 1), bias=False)\n",
              "     (bn1): BatchNorm2d(256, eps=1e-05, momentum=0.1, affine=True, track_running_stats=True)\n",
              "     (relu): ReLU(inplace=True)\n",
              "     (conv2): Conv2d(256, 256, kernel_size=(3, 3), stride=(1, 1), padding=(1, 1), bias=False)\n",
              "     (bn2): BatchNorm2d(256, eps=1e-05, momentum=0.1, affine=True, track_running_stats=True)\n",
              "   )\n",
              " )]"
            ]
          },
          "metadata": {},
          "execution_count": 63
        }
      ]
    },
    {
      "cell_type": "markdown",
      "source": [
        "* ResNet documentation: https://pytorch.org/vision/main/models/generated/torchvision.models.resnet18.html\n",
        "* GRU Documentation: https://pytorch.org/docs/stable/generated/torch.nn.GRU.html\n",
        "* GRU vs BiGRU: https://pub.aimind.so/what-is-the-difference-between-a-gru-and-a-bigru-fbde0fbe2950\n",
        "* BiGRU Explained (Papers with Code): https://paperswithcode.com/method/bigru\n",
        "* Paper on combining ResNet and BiGRU Techniques for OCR:  https://www.internationaljournalssrg.org/IJECE/2024/Volume11-Issue1/IJECE-V11I1P101.pdf"
      ],
      "metadata": {
        "id": "qwayYhWxCvf3"
      }
    },
    {
      "cell_type": "code",
      "source": [
        "class CRNN(nn.Module):\n",
        "  def __init__(self, num_chars, rnn_hidden_units = 256, dropout = 0.1): # dropout --> used to reduce overfitting and memorization of trends in the data\n",
        "    super().__init__()\n",
        "    self.num_chars = num_chars\n",
        "    self.rnn_hidden_units = rnn_hidden_units\n",
        "    self.dropout = dropout\n",
        "\n",
        "    resnet_modules = list(resnet.children())[:-3] # Using all except last 3 blocks of ResNet\n",
        "    self.CNN1 = nn.Sequential(*resnet_modules)\n",
        "\n",
        "    self.CNN2 = nn.Sequential(\n",
        "        nn.Conv2d(256, 256, kernel_size = (3, 6), stride = 1, padding = 1),\n",
        "        nn.BatchNorm2d(256),\n",
        "        nn.ReLU(inplace = True)\n",
        "    )\n",
        "    self.linear1 = nn.Linear(1024, 256)\n",
        "\n",
        "    # RNN (BiGRU)\n",
        "\n",
        "    self.rnn1 = nn.GRU(input_size = rnn_hidden_units,\n",
        "                       hidden_size = rnn_hidden_units,\n",
        "                       bidirectional = True,\n",
        "                       batch_first = True\n",
        "                       )\n",
        "    self.rnn2 = nn.GRU(input_size = rnn_hidden_units,\n",
        "                       hidden_size = rnn_hidden_units,\n",
        "                       bidirectional = True,\n",
        "                       batch_first = True\n",
        "                       )\n",
        "    self.linear2 = nn.Linear(self.rnn_hidden_units * 2, num_chars) # Why hidden_units * 2 ???\n",
        "\n",
        "  def forward(self, batch):\n",
        "        batch = self.CNN1(batch)\n",
        "        # print(batch.size()) # torch.Size([-1, 256, 4, 13])\n",
        "\n",
        "        batch = self.CNN2(batch) # [batch_size, channels, height, width]\n",
        "        # print(batch.size())# torch.Size([-1, 256, 4, 10])\n",
        "\n",
        "        batch = batch.permute(0, 3, 1, 2) # [batch_size, width, channels, height]\n",
        "        # print(batch.size()) # torch.Size([-1, 10, 256, 4])\n",
        "\n",
        "        batch_size = batch.size(0)\n",
        "        T = batch.size(1)\n",
        "        batch = batch.view(batch_size, T, -1) # [batch_size, T==width, num_features==channels*height]\n",
        "        # print(batch.size()) # torch.Size([-1, 10, 1024])\n",
        "\n",
        "        batch = self.linear1(batch)\n",
        "        # print(batch.size()) # torch.Size([-1, 10, 256])\n",
        "\n",
        "        batch, hidden = self.rnn1(batch)\n",
        "        feature_size = batch.size(2)\n",
        "        batch = batch[:, :, :feature_size//2] + batch[:, :, feature_size//2:]\n",
        "        # print(batch.size()) # torch.Size([-1, 10, 256])\n",
        "\n",
        "        batch, hidden = self.rnn2(batch)\n",
        "        # print(batch.size()) # torch.Size([-1, 10, 512])\n",
        "\n",
        "        batch = self.linear2(batch)\n",
        "        # print(batch.size()) # torch.Size([-1, 10, 20])\n",
        "\n",
        "        batch = batch.permute(1, 0, 2) # [T==10, batch_size, num_classes==num_features]\n",
        "        # print(batch.size()) # torch.Size([10, -1, 20])\n",
        "\n",
        "        return batch"
      ],
      "metadata": {
        "id": "xPeXtqPVH3hu"
      },
      "execution_count": 64,
      "outputs": []
    },
    {
      "cell_type": "code",
      "source": [
        "# Initializing of weights using Xavier Uniform prevents vanishing or exploding gradients during training\n",
        "def weights_init(m):\n",
        "    classname = m.__class__.__name__\n",
        "    if type(m) in [nn.Linear, nn.Conv2d, nn.Conv1d]:\n",
        "        torch.nn.init.xavier_uniform_(m.weight)\n",
        "        if m.bias is not None:\n",
        "            m.bias.data.fill_(0.01)\n",
        "    elif classname.find('BatchNorm') != -1:\n",
        "        m.weight.data.normal_(1.0, 0.02)\n",
        "        m.bias.data.fill_(0)"
      ],
      "metadata": {
        "id": "ff5wJ-EIH3kC"
      },
      "execution_count": 65,
      "outputs": []
    },
    {
      "cell_type": "code",
      "source": [
        "crnn = CRNN(num_chars, rnn_hidden_units=rnn_hidden_units)\n",
        "crnn.apply(weights_init)\n",
        "crnn = crnn.to(device)"
      ],
      "metadata": {
        "id": "fKtWxdiGCDnl"
      },
      "execution_count": 66,
      "outputs": []
    },
    {
      "cell_type": "code",
      "source": [
        "text_batch_logits = crnn(image_batch.to(device))\n",
        "print(text_batch)\n",
        "print(text_batch_logits.shape)"
      ],
      "metadata": {
        "colab": {
          "base_uri": "https://localhost:8080/"
        },
        "id": "Tjndgk1rGuUq",
        "outputId": "014e8de6-c962-46bc-e2d8-10b9201069f4"
      },
      "execution_count": 67,
      "outputs": [
        {
          "output_type": "stream",
          "name": "stdout",
          "text": [
            "('pybee', 'w46ep', '3ndxd', 'wc2bd', '8d8ep', 'ymp7g', 'w48cw', 'gxxpf', '4f8yp', '56m6y', 'cfn53', '5mcy7', 'n5n8b', 'mbp2y', '23mdg', 'ccn2x')\n",
            "torch.Size([10, 16, 20])\n"
          ]
        }
      ]
    },
    {
      "cell_type": "code",
      "source": [
        "# Loss Definitions\n",
        "loss_fn = nn.CTCLoss(blank = 0)"
      ],
      "metadata": {
        "id": "9URZqJM5Fui1"
      },
      "execution_count": 68,
      "outputs": []
    },
    {
      "cell_type": "code",
      "source": [
        "def encode_text_batch(text_batch):\n",
        "\n",
        "    text_batch_targets_lens = [len(text) for text in text_batch]\n",
        "    text_batch_targets_lens = torch.IntTensor(text_batch_targets_lens)\n",
        "\n",
        "    text_batch_concat = \"\".join(text_batch)\n",
        "    text_batch_targets = [char2idx[c] for c in text_batch_concat]\n",
        "    text_batch_targets = torch.IntTensor(text_batch_targets)\n",
        "\n",
        "    return text_batch_targets, text_batch_targets_lens"
      ],
      "metadata": {
        "id": "vUXd2dHkF8Pa"
      },
      "execution_count": 69,
      "outputs": []
    },
    {
      "cell_type": "code",
      "source": [
        "def compute_loss(text_batch, text_batch_logits):\n",
        "    \"\"\"\n",
        "    text_batch: list of strings of length equal to batch size\n",
        "    text_batch_logits: Tensor of size([T, batch_size, num_classes])\n",
        "    \"\"\"\n",
        "    text_batch_logps = F.log_softmax(text_batch_logits, 2) # [T, batch_size, num_classes]\n",
        "    text_batch_logps_lens = torch.full(size=(text_batch_logps.size(1),),\n",
        "                                       fill_value=text_batch_logps.size(0),\n",
        "                                       dtype=torch.int32).to(device) # [batch_size]\n",
        "    #print(text_batch_logps.shape)\n",
        "    #print(text_batch_logps_lens)\n",
        "    text_batch_targets, text_batch_targets_lens = encode_text_batch(text_batch)\n",
        "    #print(text_batch_targets)\n",
        "    #print(text_batch_targets_lens)\n",
        "    loss = loss_fn(text_batch_logps, text_batch_targets, text_batch_logps_lens, text_batch_targets_lens)\n",
        "\n",
        "    return loss"
      ],
      "metadata": {
        "id": "a0UzTQDmF8RN"
      },
      "execution_count": 70,
      "outputs": []
    },
    {
      "cell_type": "code",
      "source": [
        "compute_loss(text_batch, text_batch_logits)"
      ],
      "metadata": {
        "colab": {
          "base_uri": "https://localhost:8080/"
        },
        "id": "BufpV8OaF8UA",
        "outputId": "e6aa09e0-b425-4896-ac63-0c5a3ecc7170"
      },
      "execution_count": 71,
      "outputs": [
        {
          "output_type": "execute_result",
          "data": {
            "text/plain": [
              "tensor(4.5757, device='cuda:0', grad_fn=<MeanBackward0>)"
            ]
          },
          "metadata": {},
          "execution_count": 71
        }
      ]
    },
    {
      "cell_type": "markdown",
      "source": [
        "## Training"
      ],
      "metadata": {
        "id": "Uq7UMowaHuBm"
      }
    },
    {
      "cell_type": "code",
      "source": [
        "epochs = 50\n",
        "lr = 0.01\n",
        "decay = 1e-3\n",
        "clip_norm = 5"
      ],
      "metadata": {
        "id": "TLSlRfXUF8WW"
      },
      "execution_count": 72,
      "outputs": []
    },
    {
      "cell_type": "code",
      "source": [
        "optimizer = torch.optim.Adam(params = crnn.parameters(), lr = lr, weight_decay = decay)\n",
        "lr_scheduler = torch.optim.lr_scheduler.ReduceLROnPlateau(optimizer, verbose=True, patience=5) # makes lr dynamic to prevent vanishing/exploding gradients\n",
        "optimizer"
      ],
      "metadata": {
        "colab": {
          "base_uri": "https://localhost:8080/"
        },
        "id": "LLJltMK2IIsJ",
        "outputId": "fd6af3d9-15cf-4c03-d59d-770a0589f2d9"
      },
      "execution_count": 73,
      "outputs": [
        {
          "output_type": "execute_result",
          "data": {
            "text/plain": [
              "Adam (\n",
              "Parameter Group 0\n",
              "    amsgrad: False\n",
              "    betas: (0.9, 0.999)\n",
              "    capturable: False\n",
              "    differentiable: False\n",
              "    eps: 1e-08\n",
              "    foreach: None\n",
              "    fused: None\n",
              "    lr: 0.01\n",
              "    maximize: False\n",
              "    weight_decay: 0.001\n",
              ")"
            ]
          },
          "metadata": {},
          "execution_count": 73
        }
      ]
    },
    {
      "cell_type": "code",
      "source": [
        "crnn = CRNN(num_chars, rnn_hidden_units=rnn_hidden_units)\n",
        "crnn.apply(weights_init)\n",
        "crnn = crnn.to(device)"
      ],
      "metadata": {
        "id": "7qUJSraYF8Yu"
      },
      "execution_count": 74,
      "outputs": []
    },
    {
      "cell_type": "code",
      "source": [
        "from timeit import default_timer as timer\n",
        "def print_total_time(start, end):\n",
        "    total_time = total_time = end-start\n",
        "    print(f\"Train time on {device}: {total_time: .3f} seconds\")\n",
        "    return total_time"
      ],
      "metadata": {
        "id": "89Oqh4z7FirD"
      },
      "execution_count": 75,
      "outputs": []
    },
    {
      "cell_type": "code",
      "source": [
        "# Training loop\n",
        "\n",
        "# Structure: optimizer.zero_grad() --> training logits --> computing loss --> backpropagation --> gradient descent\n",
        "\n",
        "epoch_losses = []\n",
        "iteration_losses = []\n",
        "num_updates_epochs = []\n",
        "\n",
        "start_time = timer()\n",
        "for epoch in range(1, epochs + 1):\n",
        "\n",
        "  epoch_loss_list = []\n",
        "  num_updates_epoch = 0\n",
        "\n",
        "  for image_batch, text_batch in train_dataloader:\n",
        "    optimizer.zero_grad()\n",
        "    text_batch_logits = crnn(image_batch.to(device))\n",
        "    loss = compute_loss(text_batch, text_batch_logits)\n",
        "    iteration_loss = loss.item()\n",
        "\n",
        "    num_updates_epoch += 1\n",
        "    iteration_losses.append(iteration_loss)\n",
        "    epoch_loss_list.append(iteration_loss)\n",
        "    loss.backward()\n",
        "\n",
        "    # Gradient clipping used to prevent exploding gradients during training nn.\n",
        "    # This becomes when the gradients become too large leading to instability and divergence during training.\n",
        "\n",
        "    nn.utils.clip_grad_norm(crnn.parameters(), clip_norm)\n",
        "    optimizer.step()\n",
        "\n",
        "  epoch_loss = np.mean(epoch_loss_list)\n",
        "  epoch_losses.append(epoch_loss)\n",
        "  num_updates_epochs.append(num_updates_epoch)\n",
        "  lr_scheduler.step(epoch_loss)\n",
        "  if epoch % 5 == 0:\n",
        "    print(f\"Epoch: {epoch} | Validation Loss: {epoch_loss} | Updates: {num_updates_epoch}\")\n",
        "end_time = timer()\n",
        "print(print_total_time(start_time, end_time))"
      ],
      "metadata": {
        "colab": {
          "base_uri": "https://localhost:8080/"
        },
        "id": "AM5r8vnAF8a0",
        "outputId": "8fdb92af-cb51-4f58-95f2-1d8763f11e6f"
      },
      "execution_count": 76,
      "outputs": [
        {
          "output_type": "stream",
          "name": "stderr",
          "text": [
            "<ipython-input-76-00201f6bd061>:29: UserWarning: torch.nn.utils.clip_grad_norm is now deprecated in favor of torch.nn.utils.clip_grad_norm_.\n",
            "  nn.utils.clip_grad_norm(crnn.parameters(), clip_norm)\n"
          ]
        },
        {
          "output_type": "stream",
          "name": "stdout",
          "text": [
            "Epoch: 5 | Validation Loss: 1.8143847263776338 | Updates: 52\n",
            "Epoch: 10 | Validation Loss: 1.48362405025042 | Updates: 52\n",
            "Epoch: 15 | Validation Loss: 1.3444308523948376 | Updates: 52\n",
            "Epoch: 20 | Validation Loss: 1.333052552663363 | Updates: 52\n",
            "Epoch: 25 | Validation Loss: 1.345157687480633 | Updates: 52\n",
            "Epoch: 30 | Validation Loss: 1.2847372132998247 | Updates: 52\n",
            "Epoch: 35 | Validation Loss: 1.268214578811939 | Updates: 52\n",
            "Epoch: 40 | Validation Loss: 1.2671664563509135 | Updates: 52\n",
            "Epoch: 45 | Validation Loss: 1.0055964302558165 | Updates: 52\n",
            "Epoch: 50 | Validation Loss: 0.9916015874881011 | Updates: 52\n",
            "Train time on cuda:  76.591 seconds\n",
            "76.59140570099999\n"
          ]
        }
      ]
    },
    {
      "cell_type": "code",
      "source": [
        "fig, (ax1, ax2) = plt.subplots(1,2, figsize = (10, 7))\n",
        "\n",
        "ax1.plot(epoch_losses)\n",
        "ax1.set_xlabel(\"Epochs\")\n",
        "ax1.set_ylabel(\"Loss\")\n",
        "\n",
        "ax2.plot(iteration_losses)\n",
        "ax2.set_xlabel(\"Iterations\")\n",
        "ax2.set_ylabel(\"Loss\")"
      ],
      "metadata": {
        "colab": {
          "base_uri": "https://localhost:8080/",
          "height": 636
        },
        "id": "YJP9NpnMIU1e",
        "outputId": "bba12700-00ee-42e6-fb3f-6e86f3aecdd7"
      },
      "execution_count": 77,
      "outputs": [
        {
          "output_type": "execute_result",
          "data": {
            "text/plain": [
              "Text(0, 0.5, 'Loss')"
            ]
          },
          "metadata": {},
          "execution_count": 77
        },
        {
          "output_type": "display_data",
          "data": {
            "text/plain": [
              "<Figure size 1000x700 with 2 Axes>"
            ],
            "image/png": "[encoded data removed]"
          },
          "metadata": {}
        }
      ]
    },
    {
      "cell_type": "code",
      "source": [
        "# # Saving the model\n",
        "# MODEL_PATH = Path(\"MODELS\")\n",
        "\n",
        "# MODEL_PATH.mkdir(parents = True, exist_ok = True)\n",
        "\n",
        "# MODEL_NAME = 'weights01.pt'\n",
        "# MODEL_SAVE_PATH = MODEL_PATH/MODEL_NAME\n",
        "# # torch.save(model, Path)\n",
        "# print(MODEL_SAVE_PATH)\n",
        "# torch.save(crnn.state_dict(), MODEL_SAVE_PATH)"
      ],
      "metadata": {
        "id": "TyCgKENOIU3Y"
      },
      "execution_count": 78,
      "outputs": []
    },
    {
      "cell_type": "markdown",
      "source": [
        "## Making Predictions"
      ],
      "metadata": {
        "id": "h4_fwgEnLYZY"
      }
    },
    {
      "cell_type": "code",
      "source": [
        "# Import trained weights from github"
      ],
      "metadata": {
        "id": "1lh-AANgRvse"
      },
      "execution_count": 79,
      "outputs": []
    },
    {
      "cell_type": "code",
      "source": [
        "# model = CRNN(num_chars, rnn_hidden_units=rnn_hidden_units)\n",
        "# model.load_state_dict(torch.load(f = \"/content/weights01.pt\", map_location=torch.device(device)))"
      ],
      "metadata": {
        "id": "7HN5h35_PHot"
      },
      "execution_count": 80,
      "outputs": []
    },
    {
      "cell_type": "code",
      "source": [
        "def decode_predictions(text_batch_logits):\n",
        "    text_batch_tokens = F.softmax(text_batch_logits, 2).argmax(2) # [T, batch_size]\n",
        "    text_batch_tokens = text_batch_tokens.numpy().T # [batch_size, T]\n",
        "\n",
        "    text_batch_tokens_new = []\n",
        "    for text_tokens in text_batch_tokens:\n",
        "        text = [idx2char[idx] for idx in text_tokens]\n",
        "        text = \"\".join(text)\n",
        "        text_batch_tokens_new.append(text)\n",
        "\n",
        "    return text_batch_tokens_new"
      ],
      "metadata": {
        "id": "a7rOocnZIU5o"
      },
      "execution_count": 81,
      "outputs": []
    },
    {
      "cell_type": "code",
      "source": [
        "train_loader = DataLoader(train_dataset, batch_size=16, num_workers=1, shuffle=False)\n",
        "crnn.eval()\n",
        "with torch.inference_mode():\n",
        "  for image_batch, text_batch in tqdm(train_dataloader, leave=True):\n",
        "        text_batch_logits = crnn(image_batch.to(device)) # [T, batch_size, num_classes==num_features]\n",
        "        text_batch_pred = decode_predictions(text_batch_logits.cpu())\n",
        "text_batch, text_batch_pred"
      ],
      "metadata": {
        "colab": {
          "base_uri": "https://localhost:8080/",
          "height": 604,
          "referenced_widgets": [
            "c7ac0c5e0a1742eda4df5830859beab2",
            "2335495ee7de444a921a4375d7debb8d",
            "f6ed063c171543238a5d191c07dde429",
            "2917a6fa366c45859edc3b25a3ca4e34",
            "e3e87aefbaaa41aeb589485b0f713120",
            "8ccba4e494734de58d24ea168ed0b346",
            "ba3dd35f09da4944bce30b7b44e7b88d",
            "37b925cae1bf4510acbbbce578cac037",
            "f67006a2849740e69a9c82f89cc045e7",
            "177960120ebc419e9bc903ddd5eca5e8",
            "f073ff1f29df47b388b1c198a1aaba5b"
          ]
        },
        "id": "OzrJyz-zIU7n",
        "outputId": "3eae1877-eba7-4d87-85e0-74c8ecdc5d0f"
      },
      "execution_count": 84,
      "outputs": [
        {
          "output_type": "display_data",
          "data": {
            "text/plain": [
              "  0%|          | 0/52 [00:00<?, ?it/s]"
            ],
            "application/vnd.jupyter.widget-view+json": {
              "version_major": 2,
              "version_minor": 0,
              "model_id": "c7ac0c5e0a1742eda4df5830859beab2"
            }
          },
          "metadata": {}
        },
        {
          "output_type": "execute_result",
          "data": {
            "text/plain": [
              "(('77387',\n",
              "  'pm47f',\n",
              "  'yx2d4',\n",
              "  'ywn6f',\n",
              "  'bc8nf',\n",
              "  '3x5fm',\n",
              "  'm6n4x',\n",
              "  'efx34',\n",
              "  'b84xc',\n",
              "  '5mgn4',\n",
              "  'p4nm4',\n",
              "  'e667x',\n",
              "  'gcx6f',\n",
              "  'y2xg4',\n",
              "  'f7cey',\n",
              "  'fxpw3'),\n",
              " ['7773877---',\n",
              "  'ppmm47ff--',\n",
              "  'yyx22d44--',\n",
              "  'yywwn66f--',\n",
              "  'bbc8nnff--',\n",
              "  '3xx5ffm---',\n",
              "  'm66nn4xx--',\n",
              "  'effx344---',\n",
              "  'bb84xxcc--',\n",
              "  '5mmgnn4---',\n",
              "  'p44nnm44--',\n",
              "  'e66677xx--',\n",
              "  'ggcxx6ff--',\n",
              "  'y22xxg44--',\n",
              "  'f77ceey---',\n",
              "  'fxxxww33--'])"
            ]
          },
          "metadata": {},
          "execution_count": 84
        }
      ]
    },
    {
      "cell_type": "code",
      "source": [],
      "metadata": {
        "id": "83uT85rJIU9x"
      },
      "execution_count": 82,
      "outputs": []
    },
    {
      "cell_type": "code",
      "source": [],
      "metadata": {
        "id": "EPc9bU_sIU_t"
      },
      "execution_count": 82,
      "outputs": []
    },
    {
      "cell_type": "code",
      "source": [],
      "metadata": {
        "id": "a5ASm2d6F8dI"
      },
      "execution_count": 82,
      "outputs": []
    }
  ]
}