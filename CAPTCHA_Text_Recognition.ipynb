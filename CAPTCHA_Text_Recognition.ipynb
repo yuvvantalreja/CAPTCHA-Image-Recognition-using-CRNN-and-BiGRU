{
  "nbformat": 4,
  "nbformat_minor": 0,
  "metadata": {
    "colab": {
      "provenance": [],
      "gpuType": "T4",
      "authorship_tag": "ABX9TyM6x3lWcito3Q3U27GtPO2b",
      "include_colab_link": true
    },
    "kernelspec": {
      "name": "python3",
      "display_name": "Python 3"
    },
    "language_info": {
      "name": "python"
    },
    "widgets": {
      "application/vnd.jupyter.widget-state+json": {
        "5ccaf21a98ab471c805d88e8a94adb6c": {
          "model_module": "@jupyter-widgets/controls",
          "model_name": "HBoxModel",
          "model_module_version": "1.5.0",
          "state": {
            "_dom_classes": [],
            "_model_module": "@jupyter-widgets/controls",
            "_model_module_version": "1.5.0",
            "_model_name": "HBoxModel",
            "_view_count": null,
            "_view_module": "@jupyter-widgets/controls",
            "_view_module_version": "1.5.0",
            "_view_name": "HBoxView",
            "box_style": "",
            "children": [
              "IPY_MODEL_8217aac6c8a14d329cf705795b80ff6e",
              "IPY_MODEL_68552f17148949849272d93a1a7a68ec",
              "IPY_MODEL_2c91054861c8495087fdb5efad6f57b4"
            ],
            "layout": "IPY_MODEL_a3717eb2c3bf4dbf83a8b02e15a6acd7"
          }
        },
        "8217aac6c8a14d329cf705795b80ff6e": {
          "model_module": "@jupyter-widgets/controls",
          "model_name": "HTMLModel",
          "model_module_version": "1.5.0",
          "state": {
            "_dom_classes": [],
            "_model_module": "@jupyter-widgets/controls",
            "_model_module_version": "1.5.0",
            "_model_name": "HTMLModel",
            "_view_count": null,
            "_view_module": "@jupyter-widgets/controls",
            "_view_module_version": "1.5.0",
            "_view_name": "HTMLView",
            "description": "",
            "description_tooltip": null,
            "layout": "IPY_MODEL_148b58890df14ba28cf16f9b01e08001",
            "placeholder": "​",
            "style": "IPY_MODEL_f751ef06c65f44829f0fd158a7f8f7e1",
            "value": "100%"
          }
        },
        "68552f17148949849272d93a1a7a68ec": {
          "model_module": "@jupyter-widgets/controls",
          "model_name": "FloatProgressModel",
          "model_module_version": "1.5.0",
          "state": {
            "_dom_classes": [],
            "_model_module": "@jupyter-widgets/controls",
            "_model_module_version": "1.5.0",
            "_model_name": "FloatProgressModel",
            "_view_count": null,
            "_view_module": "@jupyter-widgets/controls",
            "_view_module_version": "1.5.0",
            "_view_name": "ProgressView",
            "bar_style": "success",
            "description": "",
            "description_tooltip": null,
            "layout": "IPY_MODEL_24220fa187fb45019b884b048b14b54b",
            "max": 13,
            "min": 0,
            "orientation": "horizontal",
            "style": "IPY_MODEL_1210ee25f6764e5f8ca2d287f00a9cde",
            "value": 13
          }
        },
        "2c91054861c8495087fdb5efad6f57b4": {
          "model_module": "@jupyter-widgets/controls",
          "model_name": "HTMLModel",
          "model_module_version": "1.5.0",
          "state": {
            "_dom_classes": [],
            "_model_module": "@jupyter-widgets/controls",
            "_model_module_version": "1.5.0",
            "_model_name": "HTMLModel",
            "_view_count": null,
            "_view_module": "@jupyter-widgets/controls",
            "_view_module_version": "1.5.0",
            "_view_name": "HTMLView",
            "description": "",
            "description_tooltip": null,
            "layout": "IPY_MODEL_9536e319fa204b4db7c54afe8f196433",
            "placeholder": "​",
            "style": "IPY_MODEL_b392e1f916d84c3db51a1a55b52c4342",
            "value": " 13/13 [00:00&lt;00:00, 22.64it/s]"
          }
        },
        "a3717eb2c3bf4dbf83a8b02e15a6acd7": {
          "model_module": "@jupyter-widgets/base",
          "model_name": "LayoutModel",
          "model_module_version": "1.2.0",
          "state": {
            "_model_module": "@jupyter-widgets/base",
            "_model_module_version": "1.2.0",
            "_model_name": "LayoutModel",
            "_view_count": null,
            "_view_module": "@jupyter-widgets/base",
            "_view_module_version": "1.2.0",
            "_view_name": "LayoutView",
            "align_content": null,
            "align_items": null,
            "align_self": null,
            "border": null,
            "bottom": null,
            "display": null,
            "flex": null,
            "flex_flow": null,
            "grid_area": null,
            "grid_auto_columns": null,
            "grid_auto_flow": null,
            "grid_auto_rows": null,
            "grid_column": null,
            "grid_gap": null,
            "grid_row": null,
            "grid_template_areas": null,
            "grid_template_columns": null,
            "grid_template_rows": null,
            "height": null,
            "justify_content": null,
            "justify_items": null,
            "left": null,
            "margin": null,
            "max_height": null,
            "max_width": null,
            "min_height": null,
            "min_width": null,
            "object_fit": null,
            "object_position": null,
            "order": null,
            "overflow": null,
            "overflow_x": null,
            "overflow_y": null,
            "padding": null,
            "right": null,
            "top": null,
            "visibility": null,
            "width": null
          }
        },
        "148b58890df14ba28cf16f9b01e08001": {
          "model_module": "@jupyter-widgets/base",
          "model_name": "LayoutModel",
          "model_module_version": "1.2.0",
          "state": {
            "_model_module": "@jupyter-widgets/base",
            "_model_module_version": "1.2.0",
            "_model_name": "LayoutModel",
            "_view_count": null,
            "_view_module": "@jupyter-widgets/base",
            "_view_module_version": "1.2.0",
            "_view_name": "LayoutView",
            "align_content": null,
            "align_items": null,
            "align_self": null,
            "border": null,
            "bottom": null,
            "display": null,
            "flex": null,
            "flex_flow": null,
            "grid_area": null,
            "grid_auto_columns": null,
            "grid_auto_flow": null,
            "grid_auto_rows": null,
            "grid_column": null,
            "grid_gap": null,
            "grid_row": null,
            "grid_template_areas": null,
            "grid_template_columns": null,
            "grid_template_rows": null,
            "height": null,
            "justify_content": null,
            "justify_items": null,
            "left": null,
            "margin": null,
            "max_height": null,
            "max_width": null,
            "min_height": null,
            "min_width": null,
            "object_fit": null,
            "object_position": null,
            "order": null,
            "overflow": null,
            "overflow_x": null,
            "overflow_y": null,
            "padding": null,
            "right": null,
            "top": null,
            "visibility": null,
            "width": null
          }
        },
        "f751ef06c65f44829f0fd158a7f8f7e1": {
          "model_module": "@jupyter-widgets/controls",
          "model_name": "DescriptionStyleModel",
          "model_module_version": "1.5.0",
          "state": {
            "_model_module": "@jupyter-widgets/controls",
            "_model_module_version": "1.5.0",
            "_model_name": "DescriptionStyleModel",
            "_view_count": null,
            "_view_module": "@jupyter-widgets/base",
            "_view_module_version": "1.2.0",
            "_view_name": "StyleView",
            "description_width": ""
          }
        },
        "24220fa187fb45019b884b048b14b54b": {
          "model_module": "@jupyter-widgets/base",
          "model_name": "LayoutModel",
          "model_module_version": "1.2.0",
          "state": {
            "_model_module": "@jupyter-widgets/base",
            "_model_module_version": "1.2.0",
            "_model_name": "LayoutModel",
            "_view_count": null,
            "_view_module": "@jupyter-widgets/base",
            "_view_module_version": "1.2.0",
            "_view_name": "LayoutView",
            "align_content": null,
            "align_items": null,
            "align_self": null,
            "border": null,
            "bottom": null,
            "display": null,
            "flex": null,
            "flex_flow": null,
            "grid_area": null,
            "grid_auto_columns": null,
            "grid_auto_flow": null,
            "grid_auto_rows": null,
            "grid_column": null,
            "grid_gap": null,
            "grid_row": null,
            "grid_template_areas": null,
            "grid_template_columns": null,
            "grid_template_rows": null,
            "height": null,
            "justify_content": null,
            "justify_items": null,
            "left": null,
            "margin": null,
            "max_height": null,
            "max_width": null,
            "min_height": null,
            "min_width": null,
            "object_fit": null,
            "object_position": null,
            "order": null,
            "overflow": null,
            "overflow_x": null,
            "overflow_y": null,
            "padding": null,
            "right": null,
            "top": null,
            "visibility": null,
            "width": null
          }
        },
        "1210ee25f6764e5f8ca2d287f00a9cde": {
          "model_module": "@jupyter-widgets/controls",
          "model_name": "ProgressStyleModel",
          "model_module_version": "1.5.0",
          "state": {
            "_model_module": "@jupyter-widgets/controls",
            "_model_module_version": "1.5.0",
            "_model_name": "ProgressStyleModel",
            "_view_count": null,
            "_view_module": "@jupyter-widgets/base",
            "_view_module_version": "1.2.0",
            "_view_name": "StyleView",
            "bar_color": null,
            "description_width": ""
          }
        },
        "9536e319fa204b4db7c54afe8f196433": {
          "model_module": "@jupyter-widgets/base",
          "model_name": "LayoutModel",
          "model_module_version": "1.2.0",
          "state": {
            "_model_module": "@jupyter-widgets/base",
            "_model_module_version": "1.2.0",
            "_model_name": "LayoutModel",
            "_view_count": null,
            "_view_module": "@jupyter-widgets/base",
            "_view_module_version": "1.2.0",
            "_view_name": "LayoutView",
            "align_content": null,
            "align_items": null,
            "align_self": null,
            "border": null,
            "bottom": null,
            "display": null,
            "flex": null,
            "flex_flow": null,
            "grid_area": null,
            "grid_auto_columns": null,
            "grid_auto_flow": null,
            "grid_auto_rows": null,
            "grid_column": null,
            "grid_gap": null,
            "grid_row": null,
            "grid_template_areas": null,
            "grid_template_columns": null,
            "grid_template_rows": null,
            "height": null,
            "justify_content": null,
            "justify_items": null,
            "left": null,
            "margin": null,
            "max_height": null,
            "max_width": null,
            "min_height": null,
            "min_width": null,
            "object_fit": null,
            "object_position": null,
            "order": null,
            "overflow": null,
            "overflow_x": null,
            "overflow_y": null,
            "padding": null,
            "right": null,
            "top": null,
            "visibility": null,
            "width": null
          }
        },
        "b392e1f916d84c3db51a1a55b52c4342": {
          "model_module": "@jupyter-widgets/controls",
          "model_name": "DescriptionStyleModel",
          "model_module_version": "1.5.0",
          "state": {
            "_model_module": "@jupyter-widgets/controls",
            "_model_module_version": "1.5.0",
            "_model_name": "DescriptionStyleModel",
            "_view_count": null,
            "_view_module": "@jupyter-widgets/base",
            "_view_module_version": "1.2.0",
            "_view_name": "StyleView",
            "description_width": ""
          }
        },
        "e5edf1283ca0425fbcca7f1d8edf9b6d": {
          "model_module": "@jupyter-widgets/controls",
          "model_name": "HBoxModel",
          "model_module_version": "1.5.0",
          "state": {
            "_dom_classes": [],
            "_model_module": "@jupyter-widgets/controls",
            "_model_module_version": "1.5.0",
            "_model_name": "HBoxModel",
            "_view_count": null,
            "_view_module": "@jupyter-widgets/controls",
            "_view_module_version": "1.5.0",
            "_view_name": "HBoxView",
            "box_style": "",
            "children": [
              "IPY_MODEL_99e2394c4ca84723978d5dfb4b1f42a5",
              "IPY_MODEL_40b5f9c51130449db530f75d42c61f46",
              "IPY_MODEL_7acd0bb7b02246b6a2037f2af8724b06"
            ],
            "layout": "IPY_MODEL_9d9f84f4518c4c8db1521180db092f55"
          }
        },
        "99e2394c4ca84723978d5dfb4b1f42a5": {
          "model_module": "@jupyter-widgets/controls",
          "model_name": "HTMLModel",
          "model_module_version": "1.5.0",
          "state": {
            "_dom_classes": [],
            "_model_module": "@jupyter-widgets/controls",
            "_model_module_version": "1.5.0",
            "_model_name": "HTMLModel",
            "_view_count": null,
            "_view_module": "@jupyter-widgets/controls",
            "_view_module_version": "1.5.0",
            "_view_name": "HTMLView",
            "description": "",
            "description_tooltip": null,
            "layout": "IPY_MODEL_6a78fd1190ce46faa3289344ed0a1e09",
            "placeholder": "​",
            "style": "IPY_MODEL_09c9cdc695d04639b6bc1360f3ab0c1b",
            "value": "100%"
          }
        },
        "40b5f9c51130449db530f75d42c61f46": {
          "model_module": "@jupyter-widgets/controls",
          "model_name": "FloatProgressModel",
          "model_module_version": "1.5.0",
          "state": {
            "_dom_classes": [],
            "_model_module": "@jupyter-widgets/controls",
            "_model_module_version": "1.5.0",
            "_model_name": "FloatProgressModel",
            "_view_count": null,
            "_view_module": "@jupyter-widgets/controls",
            "_view_module_version": "1.5.0",
            "_view_name": "ProgressView",
            "bar_style": "success",
            "description": "",
            "description_tooltip": null,
            "layout": "IPY_MODEL_383b963873224b2f85db0084299095e0",
            "max": 13,
            "min": 0,
            "orientation": "horizontal",
            "style": "IPY_MODEL_9a5434a741514db9b2d899cf0e3e814a",
            "value": 13
          }
        },
        "7acd0bb7b02246b6a2037f2af8724b06": {
          "model_module": "@jupyter-widgets/controls",
          "model_name": "HTMLModel",
          "model_module_version": "1.5.0",
          "state": {
            "_dom_classes": [],
            "_model_module": "@jupyter-widgets/controls",
            "_model_module_version": "1.5.0",
            "_model_name": "HTMLModel",
            "_view_count": null,
            "_view_module": "@jupyter-widgets/controls",
            "_view_module_version": "1.5.0",
            "_view_name": "HTMLView",
            "description": "",
            "description_tooltip": null,
            "layout": "IPY_MODEL_f8fa27ca74494b17817b1e0dc27931b1",
            "placeholder": "​",
            "style": "IPY_MODEL_b7f9b96e76324fa183ef3af06681ae07",
            "value": " 13/13 [00:00&lt;00:00, 24.51it/s]"
          }
        },
        "9d9f84f4518c4c8db1521180db092f55": {
          "model_module": "@jupyter-widgets/base",
          "model_name": "LayoutModel",
          "model_module_version": "1.2.0",
          "state": {
            "_model_module": "@jupyter-widgets/base",
            "_model_module_version": "1.2.0",
            "_model_name": "LayoutModel",
            "_view_count": null,
            "_view_module": "@jupyter-widgets/base",
            "_view_module_version": "1.2.0",
            "_view_name": "LayoutView",
            "align_content": null,
            "align_items": null,
            "align_self": null,
            "border": null,
            "bottom": null,
            "display": null,
            "flex": null,
            "flex_flow": null,
            "grid_area": null,
            "grid_auto_columns": null,
            "grid_auto_flow": null,
            "grid_auto_rows": null,
            "grid_column": null,
            "grid_gap": null,
            "grid_row": null,
            "grid_template_areas": null,
            "grid_template_columns": null,
            "grid_template_rows": null,
            "height": null,
            "justify_content": null,
            "justify_items": null,
            "left": null,
            "margin": null,
            "max_height": null,
            "max_width": null,
            "min_height": null,
            "min_width": null,
            "object_fit": null,
            "object_position": null,
            "order": null,
            "overflow": null,
            "overflow_x": null,
            "overflow_y": null,
            "padding": null,
            "right": null,
            "top": null,
            "visibility": null,
            "width": null
          }
        },
        "6a78fd1190ce46faa3289344ed0a1e09": {
          "model_module": "@jupyter-widgets/base",
          "model_name": "LayoutModel",
          "model_module_version": "1.2.0",
          "state": {
            "_model_module": "@jupyter-widgets/base",
            "_model_module_version": "1.2.0",
            "_model_name": "LayoutModel",
            "_view_count": null,
            "_view_module": "@jupyter-widgets/base",
            "_view_module_version": "1.2.0",
            "_view_name": "LayoutView",
            "align_content": null,
            "align_items": null,
            "align_self": null,
            "border": null,
            "bottom": null,
            "display": null,
            "flex": null,
            "flex_flow": null,
            "grid_area": null,
            "grid_auto_columns": null,
            "grid_auto_flow": null,
            "grid_auto_rows": null,
            "grid_column": null,
            "grid_gap": null,
            "grid_row": null,
            "grid_template_areas": null,
            "grid_template_columns": null,
            "grid_template_rows": null,
            "height": null,
            "justify_content": null,
            "justify_items": null,
            "left": null,
            "margin": null,
            "max_height": null,
            "max_width": null,
            "min_height": null,
            "min_width": null,
            "object_fit": null,
            "object_position": null,
            "order": null,
            "overflow": null,
            "overflow_x": null,
            "overflow_y": null,
            "padding": null,
            "right": null,
            "top": null,
            "visibility": null,
            "width": null
          }
        },
        "09c9cdc695d04639b6bc1360f3ab0c1b": {
          "model_module": "@jupyter-widgets/controls",
          "model_name": "DescriptionStyleModel",
          "model_module_version": "1.5.0",
          "state": {
            "_model_module": "@jupyter-widgets/controls",
            "_model_module_version": "1.5.0",
            "_model_name": "DescriptionStyleModel",
            "_view_count": null,
            "_view_module": "@jupyter-widgets/base",
            "_view_module_version": "1.2.0",
            "_view_name": "StyleView",
            "description_width": ""
          }
        },
        "383b963873224b2f85db0084299095e0": {
          "model_module": "@jupyter-widgets/base",
          "model_name": "LayoutModel",
          "model_module_version": "1.2.0",
          "state": {
            "_model_module": "@jupyter-widgets/base",
            "_model_module_version": "1.2.0",
            "_model_name": "LayoutModel",
            "_view_count": null,
            "_view_module": "@jupyter-widgets/base",
            "_view_module_version": "1.2.0",
            "_view_name": "LayoutView",
            "align_content": null,
            "align_items": null,
            "align_self": null,
            "border": null,
            "bottom": null,
            "display": null,
            "flex": null,
            "flex_flow": null,
            "grid_area": null,
            "grid_auto_columns": null,
            "grid_auto_flow": null,
            "grid_auto_rows": null,
            "grid_column": null,
            "grid_gap": null,
            "grid_row": null,
            "grid_template_areas": null,
            "grid_template_columns": null,
            "grid_template_rows": null,
            "height": null,
            "justify_content": null,
            "justify_items": null,
            "left": null,
            "margin": null,
            "max_height": null,
            "max_width": null,
            "min_height": null,
            "min_width": null,
            "object_fit": null,
            "object_position": null,
            "order": null,
            "overflow": null,
            "overflow_x": null,
            "overflow_y": null,
            "padding": null,
            "right": null,
            "top": null,
            "visibility": null,
            "width": null
          }
        },
        "9a5434a741514db9b2d899cf0e3e814a": {
          "model_module": "@jupyter-widgets/controls",
          "model_name": "ProgressStyleModel",
          "model_module_version": "1.5.0",
          "state": {
            "_model_module": "@jupyter-widgets/controls",
            "_model_module_version": "1.5.0",
            "_model_name": "ProgressStyleModel",
            "_view_count": null,
            "_view_module": "@jupyter-widgets/base",
            "_view_module_version": "1.2.0",
            "_view_name": "StyleView",
            "bar_color": null,
            "description_width": ""
          }
        },
        "f8fa27ca74494b17817b1e0dc27931b1": {
          "model_module": "@jupyter-widgets/base",
          "model_name": "LayoutModel",
          "model_module_version": "1.2.0",
          "state": {
            "_model_module": "@jupyter-widgets/base",
            "_model_module_version": "1.2.0",
            "_model_name": "LayoutModel",
            "_view_count": null,
            "_view_module": "@jupyter-widgets/base",
            "_view_module_version": "1.2.0",
            "_view_name": "LayoutView",
            "align_content": null,
            "align_items": null,
            "align_self": null,
            "border": null,
            "bottom": null,
            "display": null,
            "flex": null,
            "flex_flow": null,
            "grid_area": null,
            "grid_auto_columns": null,
            "grid_auto_flow": null,
            "grid_auto_rows": null,
            "grid_column": null,
            "grid_gap": null,
            "grid_row": null,
            "grid_template_areas": null,
            "grid_template_columns": null,
            "grid_template_rows": null,
            "height": null,
            "justify_content": null,
            "justify_items": null,
            "left": null,
            "margin": null,
            "max_height": null,
            "max_width": null,
            "min_height": null,
            "min_width": null,
            "object_fit": null,
            "object_position": null,
            "order": null,
            "overflow": null,
            "overflow_x": null,
            "overflow_y": null,
            "padding": null,
            "right": null,
            "top": null,
            "visibility": null,
            "width": null
          }
        },
        "b7f9b96e76324fa183ef3af06681ae07": {
          "model_module": "@jupyter-widgets/controls",
          "model_name": "DescriptionStyleModel",
          "model_module_version": "1.5.0",
          "state": {
            "_model_module": "@jupyter-widgets/controls",
            "_model_module_version": "1.5.0",
            "_model_name": "DescriptionStyleModel",
            "_view_count": null,
            "_view_module": "@jupyter-widgets/base",
            "_view_module_version": "1.2.0",
            "_view_name": "StyleView",
            "description_width": ""
          }
        },
        "99ed297f3610403987bb77fb51692d03": {
          "model_module": "@jupyter-widgets/controls",
          "model_name": "HBoxModel",
          "model_module_version": "1.5.0",
          "state": {
            "_dom_classes": [],
            "_model_module": "@jupyter-widgets/controls",
            "_model_module_version": "1.5.0",
            "_model_name": "HBoxModel",
            "_view_count": null,
            "_view_module": "@jupyter-widgets/controls",
            "_view_module_version": "1.5.0",
            "_view_name": "HBoxView",
            "box_style": "",
            "children": [
              "IPY_MODEL_63176847173d45d3b74bc8adec06310f",
              "IPY_MODEL_b5c4a30fb9844d22a0fb1b5c0403c17e",
              "IPY_MODEL_6081f63cf7d84c858c555347fc24158c"
            ],
            "layout": "IPY_MODEL_e16b966165f7471e8e9f7c281fb0177a"
          }
        },
        "63176847173d45d3b74bc8adec06310f": {
          "model_module": "@jupyter-widgets/controls",
          "model_name": "HTMLModel",
          "model_module_version": "1.5.0",
          "state": {
            "_dom_classes": [],
            "_model_module": "@jupyter-widgets/controls",
            "_model_module_version": "1.5.0",
            "_model_name": "HTMLModel",
            "_view_count": null,
            "_view_module": "@jupyter-widgets/controls",
            "_view_module_version": "1.5.0",
            "_view_name": "HTMLView",
            "description": "",
            "description_tooltip": null,
            "layout": "IPY_MODEL_27040797340c47e88690213eb03e2345",
            "placeholder": "​",
            "style": "IPY_MODEL_692451a7339243ed98ba2d3f9eaaea84",
            "value": "100%"
          }
        },
        "b5c4a30fb9844d22a0fb1b5c0403c17e": {
          "model_module": "@jupyter-widgets/controls",
          "model_name": "FloatProgressModel",
          "model_module_version": "1.5.0",
          "state": {
            "_dom_classes": [],
            "_model_module": "@jupyter-widgets/controls",
            "_model_module_version": "1.5.0",
            "_model_name": "FloatProgressModel",
            "_view_count": null,
            "_view_module": "@jupyter-widgets/controls",
            "_view_module_version": "1.5.0",
            "_view_name": "ProgressView",
            "bar_style": "success",
            "description": "",
            "description_tooltip": null,
            "layout": "IPY_MODEL_0c2111d3d28c4cc8a379f83b2cfd4fa3",
            "max": 52,
            "min": 0,
            "orientation": "horizontal",
            "style": "IPY_MODEL_62758ec562234b10b87876420b9bbbea",
            "value": 52
          }
        },
        "6081f63cf7d84c858c555347fc24158c": {
          "model_module": "@jupyter-widgets/controls",
          "model_name": "HTMLModel",
          "model_module_version": "1.5.0",
          "state": {
            "_dom_classes": [],
            "_model_module": "@jupyter-widgets/controls",
            "_model_module_version": "1.5.0",
            "_model_name": "HTMLModel",
            "_view_count": null,
            "_view_module": "@jupyter-widgets/controls",
            "_view_module_version": "1.5.0",
            "_view_name": "HTMLView",
            "description": "",
            "description_tooltip": null,
            "layout": "IPY_MODEL_6ece79d764004a86a9a3f66d29c7878d",
            "placeholder": "​",
            "style": "IPY_MODEL_f998af39cace40b599ac7decc7c1ab8f",
            "value": " 52/52 [00:01&lt;00:00, 36.46it/s]"
          }
        },
        "e16b966165f7471e8e9f7c281fb0177a": {
          "model_module": "@jupyter-widgets/base",
          "model_name": "LayoutModel",
          "model_module_version": "1.2.0",
          "state": {
            "_model_module": "@jupyter-widgets/base",
            "_model_module_version": "1.2.0",
            "_model_name": "LayoutModel",
            "_view_count": null,
            "_view_module": "@jupyter-widgets/base",
            "_view_module_version": "1.2.0",
            "_view_name": "LayoutView",
            "align_content": null,
            "align_items": null,
            "align_self": null,
            "border": null,
            "bottom": null,
            "display": null,
            "flex": null,
            "flex_flow": null,
            "grid_area": null,
            "grid_auto_columns": null,
            "grid_auto_flow": null,
            "grid_auto_rows": null,
            "grid_column": null,
            "grid_gap": null,
            "grid_row": null,
            "grid_template_areas": null,
            "grid_template_columns": null,
            "grid_template_rows": null,
            "height": null,
            "justify_content": null,
            "justify_items": null,
            "left": null,
            "margin": null,
            "max_height": null,
            "max_width": null,
            "min_height": null,
            "min_width": null,
            "object_fit": null,
            "object_position": null,
            "order": null,
            "overflow": null,
            "overflow_x": null,
            "overflow_y": null,
            "padding": null,
            "right": null,
            "top": null,
            "visibility": null,
            "width": null
          }
        },
        "27040797340c47e88690213eb03e2345": {
          "model_module": "@jupyter-widgets/base",
          "model_name": "LayoutModel",
          "model_module_version": "1.2.0",
          "state": {
            "_model_module": "@jupyter-widgets/base",
            "_model_module_version": "1.2.0",
            "_model_name": "LayoutModel",
            "_view_count": null,
            "_view_module": "@jupyter-widgets/base",
            "_view_module_version": "1.2.0",
            "_view_name": "LayoutView",
            "align_content": null,
            "align_items": null,
            "align_self": null,
            "border": null,
            "bottom": null,
            "display": null,
            "flex": null,
            "flex_flow": null,
            "grid_area": null,
            "grid_auto_columns": null,
            "grid_auto_flow": null,
            "grid_auto_rows": null,
            "grid_column": null,
            "grid_gap": null,
            "grid_row": null,
            "grid_template_areas": null,
            "grid_template_columns": null,
            "grid_template_rows": null,
            "height": null,
            "justify_content": null,
            "justify_items": null,
            "left": null,
            "margin": null,
            "max_height": null,
            "max_width": null,
            "min_height": null,
            "min_width": null,
            "object_fit": null,
            "object_position": null,
            "order": null,
            "overflow": null,
            "overflow_x": null,
            "overflow_y": null,
            "padding": null,
            "right": null,
            "top": null,
            "visibility": null,
            "width": null
          }
        },
        "692451a7339243ed98ba2d3f9eaaea84": {
          "model_module": "@jupyter-widgets/controls",
          "model_name": "DescriptionStyleModel",
          "model_module_version": "1.5.0",
          "state": {
            "_model_module": "@jupyter-widgets/controls",
            "_model_module_version": "1.5.0",
            "_model_name": "DescriptionStyleModel",
            "_view_count": null,
            "_view_module": "@jupyter-widgets/base",
            "_view_module_version": "1.2.0",
            "_view_name": "StyleView",
            "description_width": ""
          }
        },
        "0c2111d3d28c4cc8a379f83b2cfd4fa3": {
          "model_module": "@jupyter-widgets/base",
          "model_name": "LayoutModel",
          "model_module_version": "1.2.0",
          "state": {
            "_model_module": "@jupyter-widgets/base",
            "_model_module_version": "1.2.0",
            "_model_name": "LayoutModel",
            "_view_count": null,
            "_view_module": "@jupyter-widgets/base",
            "_view_module_version": "1.2.0",
            "_view_name": "LayoutView",
            "align_content": null,
            "align_items": null,
            "align_self": null,
            "border": null,
            "bottom": null,
            "display": null,
            "flex": null,
            "flex_flow": null,
            "grid_area": null,
            "grid_auto_columns": null,
            "grid_auto_flow": null,
            "grid_auto_rows": null,
            "grid_column": null,
            "grid_gap": null,
            "grid_row": null,
            "grid_template_areas": null,
            "grid_template_columns": null,
            "grid_template_rows": null,
            "height": null,
            "justify_content": null,
            "justify_items": null,
            "left": null,
            "margin": null,
            "max_height": null,
            "max_width": null,
            "min_height": null,
            "min_width": null,
            "object_fit": null,
            "object_position": null,
            "order": null,
            "overflow": null,
            "overflow_x": null,
            "overflow_y": null,
            "padding": null,
            "right": null,
            "top": null,
            "visibility": null,
            "width": null
          }
        },
        "62758ec562234b10b87876420b9bbbea": {
          "model_module": "@jupyter-widgets/controls",
          "model_name": "ProgressStyleModel",
          "model_module_version": "1.5.0",
          "state": {
            "_model_module": "@jupyter-widgets/controls",
            "_model_module_version": "1.5.0",
            "_model_name": "ProgressStyleModel",
            "_view_count": null,
            "_view_module": "@jupyter-widgets/base",
            "_view_module_version": "1.2.0",
            "_view_name": "StyleView",
            "bar_color": null,
            "description_width": ""
          }
        },
        "6ece79d764004a86a9a3f66d29c7878d": {
          "model_module": "@jupyter-widgets/base",
          "model_name": "LayoutModel",
          "model_module_version": "1.2.0",
          "state": {
            "_model_module": "@jupyter-widgets/base",
            "_model_module_version": "1.2.0",
            "_model_name": "LayoutModel",
            "_view_count": null,
            "_view_module": "@jupyter-widgets/base",
            "_view_module_version": "1.2.0",
            "_view_name": "LayoutView",
            "align_content": null,
            "align_items": null,
            "align_self": null,
            "border": null,
            "bottom": null,
            "display": null,
            "flex": null,
            "flex_flow": null,
            "grid_area": null,
            "grid_auto_columns": null,
            "grid_auto_flow": null,
            "grid_auto_rows": null,
            "grid_column": null,
            "grid_gap": null,
            "grid_row": null,
            "grid_template_areas": null,
            "grid_template_columns": null,
            "grid_template_rows": null,
            "height": null,
            "justify_content": null,
            "justify_items": null,
            "left": null,
            "margin": null,
            "max_height": null,
            "max_width": null,
            "min_height": null,
            "min_width": null,
            "object_fit": null,
            "object_position": null,
            "order": null,
            "overflow": null,
            "overflow_x": null,
            "overflow_y": null,
            "padding": null,
            "right": null,
            "top": null,
            "visibility": null,
            "width": null
          }
        },
        "f998af39cace40b599ac7decc7c1ab8f": {
          "model_module": "@jupyter-widgets/controls",
          "model_name": "DescriptionStyleModel",
          "model_module_version": "1.5.0",
          "state": {
            "_model_module": "@jupyter-widgets/controls",
            "_model_module_version": "1.5.0",
            "_model_name": "DescriptionStyleModel",
            "_view_count": null,
            "_view_module": "@jupyter-widgets/base",
            "_view_module_version": "1.2.0",
            "_view_name": "StyleView",
            "description_width": ""
          }
        }
      }
    },
    "accelerator": "GPU"
  },
  "cells": [
    {
      "cell_type": "markdown",
      "metadata": {
        "id": "view-in-github",
        "colab_type": "text"
      },
      "source": [
        "<a href=\"https://colab.research.google.com/github/yuvvantalreja/CAPTCHA-Image-Recognition-using-CRNN-and-BiGRU/blob/main/CAPTCHA_Text_Recognition.ipynb\" target=\"_parent\"><img src=\"https://colab.research.google.com/assets/colab-badge.svg\" alt=\"Open In Colab\"/></a>"
      ]
    },
    {
      "cell_type": "markdown",
      "source": [
        "## Importing Libraries"
      ],
      "metadata": {
        "id": "N6yRbgwJsRB3"
      }
    },
    {
      "cell_type": "code",
      "source": [
        "import torch\n",
        "from torch import nn\n",
        "\n",
        "torch.__version__"
      ],
      "metadata": {
        "colab": {
          "base_uri": "https://localhost:8080/",
          "height": 56
        },
        "id": "8tO5ycIFH21G",
        "outputId": "be8c1609-8584-41a8-d268-507c04b110ee"
      },
      "execution_count": 2,
      "outputs": [
        {
          "output_type": "execute_result",
          "data": {
            "text/plain": [
              "'2.6.0+cu124'"
            ],
            "application/vnd.google.colaboratory.intrinsic+json": {
              "type": "string"
            }
          },
          "metadata": {},
          "execution_count": 2
        }
      ]
    },
    {
      "cell_type": "code",
      "source": [
        "device = \"cuda\" if torch.cuda.is_available() else \"cpu\"\n",
        "device"
      ],
      "metadata": {
        "colab": {
          "base_uri": "https://localhost:8080/",
          "height": 56
        },
        "id": "9EYlpF29H23v",
        "outputId": "6adddedf-497b-4afe-b595-cf88e87d3239"
      },
      "execution_count": 3,
      "outputs": [
        {
          "output_type": "execute_result",
          "data": {
            "text/plain": [
              "'cuda'"
            ],
            "application/vnd.google.colaboratory.intrinsic+json": {
              "type": "string"
            }
          },
          "metadata": {},
          "execution_count": 3
        }
      ]
    },
    {
      "cell_type": "code",
      "source": [
        "!nvidia-smi"
      ],
      "metadata": {
        "colab": {
          "base_uri": "https://localhost:8080/"
        },
        "id": "he3PxxbIUgQY",
        "outputId": "eac972e6-9ec1-48fe-c522-6ac91068747c"
      },
      "execution_count": 4,
      "outputs": [
        {
          "output_type": "stream",
          "name": "stdout",
          "text": [
            "Wed Aug 13 17:55:30 2025       \n",
            "+-----------------------------------------------------------------------------------------+\n",
            "| NVIDIA-SMI 550.54.15              Driver Version: 550.54.15      CUDA Version: 12.4     |\n",
            "|-----------------------------------------+------------------------+----------------------+\n",
            "| GPU  Name                 Persistence-M | Bus-Id          Disp.A | Volatile Uncorr. ECC |\n",
            "| Fan  Temp   Perf          Pwr:Usage/Cap |           Memory-Usage | GPU-Util  Compute M. |\n",
            "|                                         |                        |               MIG M. |\n",
            "|=========================================+========================+======================|\n",
            "|   0  Tesla T4                       Off |   00000000:00:04.0 Off |                    0 |\n",
            "| N/A   64C    P8             16W /   70W |       2MiB /  15360MiB |      0%      Default |\n",
            "|                                         |                        |                  N/A |\n",
            "+-----------------------------------------+------------------------+----------------------+\n",
            "                                                                                         \n",
            "+-----------------------------------------------------------------------------------------+\n",
            "| Processes:                                                                              |\n",
            "|  GPU   GI   CI        PID   Type   Process name                              GPU Memory |\n",
            "|        ID   ID                                                               Usage      |\n",
            "|=========================================================================================|\n",
            "|  No running processes found                                                             |\n",
            "+-----------------------------------------------------------------------------------------+\n"
          ]
        }
      ]
    },
    {
      "cell_type": "code",
      "source": [
        "import requests\n",
        "import os\n",
        "import zipfile\n",
        "from tqdm.auto import tqdm\n",
        "from pathlib import Path\n",
        "import matplotlib.pyplot as plt\n",
        "import numpy as np\n",
        "from torch.utils.data import DataLoader\n",
        "from torchvision import datasets, transforms\n",
        "import torch.optim\n",
        "import torch.nn.functional as F"
      ],
      "metadata": {
        "id": "KsDKkNmJH26Q"
      },
      "execution_count": 5,
      "outputs": []
    },
    {
      "cell_type": "markdown",
      "source": [
        "## Data Preprocessing"
      ],
      "metadata": {
        "id": "BI2fzJiSsXap"
      }
    },
    {
      "cell_type": "code",
      "source": [
        "data_path = Path(\"\")\n",
        "\n",
        "# If image folder doesn't exist commence download\n",
        "if data_path.is_dir():\n",
        "  print(f\"{data_path} directory already exists... skipping download\")\n",
        "else:\n",
        "  print(f\"Image path doesn't exist creating one...\")\n",
        "  data_path.mkdir(parents = True, exist_ok = True)\n",
        "\n",
        "with open(data_path/\"data.zip\", \"wb\") as f:\n",
        "  request = requests.get(\"https://github.com/yuvvantalreja/CAPTCHA-Image-Recognition-using-CRNN-and-BiGRU/raw/main/data.zip\")\n",
        "  print(\"Downloading data\")\n",
        "  f.write(request.content)\n",
        "\n",
        "\n",
        "with zipfile.ZipFile(data_path/\"data.zip\", \"r\") as zip_ref:\n",
        "  print(\"Unzipping data\")\n",
        "  zip_ref.extractall(data_path)"
      ],
      "metadata": {
        "colab": {
          "base_uri": "https://localhost:8080/"
        },
        "id": "eAeIjcKLH28f",
        "outputId": "de0c0ef9-f00c-4552-f0ba-ac04a4ae7633"
      },
      "execution_count": 6,
      "outputs": [
        {
          "output_type": "stream",
          "name": "stdout",
          "text": [
            ". directory already exists... skipping download\n",
            "Downloading data\n",
            "Unzipping data\n"
          ]
        }
      ]
    },
    {
      "cell_type": "code",
      "source": [
        "image_fns = os.listdir(data_path/\"data\")\n",
        "print(len(image_fns))\n",
        "print(np.unique([len(image_fn.split(\".\")[0]) for image_fn in image_fns]))"
      ],
      "metadata": {
        "colab": {
          "base_uri": "https://localhost:8080/"
        },
        "id": "csp4-98nfp4j",
        "outputId": "3a14f41c-2f51-43b7-ca6c-cd3b62cb941a"
      },
      "execution_count": 7,
      "outputs": [
        {
          "output_type": "stream",
          "name": "stdout",
          "text": [
            "1071\n",
            "[0 5]\n"
          ]
        }
      ]
    },
    {
      "cell_type": "code",
      "source": [
        "image_fns = [fn for fn in image_fns if len(fn.split(\".\")[0]) == 5]"
      ],
      "metadata": {
        "id": "knmG_5Pdf_0F"
      },
      "execution_count": 8,
      "outputs": []
    },
    {
      "cell_type": "code",
      "source": [
        "image_ns = [image_fn.split(\".\")[0] for image_fn in image_fns]\n",
        "image_ns = \"\".join(image_ns)\n",
        "letters = sorted(list(set(list(image_ns))))\n",
        "print(len(letters))\n",
        "print(letters)"
      ],
      "metadata": {
        "colab": {
          "base_uri": "https://localhost:8080/"
        },
        "id": "JjH1q4fzgH02",
        "outputId": "c330ef29-f504-4341-cbfa-fffdf581957c"
      },
      "execution_count": 9,
      "outputs": [
        {
          "output_type": "stream",
          "name": "stdout",
          "text": [
            "19\n",
            "['2', '3', '4', '5', '6', '7', '8', 'b', 'c', 'd', 'e', 'f', 'g', 'm', 'n', 'p', 'w', 'x', 'y']\n"
          ]
        }
      ]
    },
    {
      "cell_type": "code",
      "source": [
        "vocabulary = [\"-\"] + letters\n",
        "print(len(vocabulary))\n",
        "print(vocabulary)\n",
        "idx2char = {k:v for k,v in enumerate(vocabulary, start=0)}\n",
        "print(idx2char)\n",
        "char2idx = {v:k for k,v in idx2char.items()}\n",
        "print(char2idx)"
      ],
      "metadata": {
        "colab": {
          "base_uri": "https://localhost:8080/"
        },
        "id": "RNmdE-SegMIm",
        "outputId": "07c96bab-9bba-4c48-8b2b-e65f3016f05f"
      },
      "execution_count": 10,
      "outputs": [
        {
          "output_type": "stream",
          "name": "stdout",
          "text": [
            "20\n",
            "['-', '2', '3', '4', '5', '6', '7', '8', 'b', 'c', 'd', 'e', 'f', 'g', 'm', 'n', 'p', 'w', 'x', 'y']\n",
            "{0: '-', 1: '2', 2: '3', 3: '4', 4: '5', 5: '6', 6: '7', 7: '8', 8: 'b', 9: 'c', 10: 'd', 11: 'e', 12: 'f', 13: 'g', 14: 'm', 15: 'n', 16: 'p', 17: 'w', 18: 'x', 19: 'y'}\n",
            "{'-': 0, '2': 1, '3': 2, '4': 3, '5': 4, '6': 5, '7': 6, '8': 7, 'b': 8, 'c': 9, 'd': 10, 'e': 11, 'f': 12, 'g': 13, 'm': 14, 'n': 15, 'p': 16, 'w': 17, 'x': 18, 'y': 19}\n"
          ]
        }
      ]
    },
    {
      "cell_type": "code",
      "source": [
        "import random\n",
        "from PIL import Image\n",
        "\n",
        "image_path_list = list(data_path.glob(\"*/*.png\"))\n",
        "image_path_list[0]"
      ],
      "metadata": {
        "colab": {
          "base_uri": "https://localhost:8080/"
        },
        "id": "e1bYyiEbH2-m",
        "outputId": "8f30dcb3-71f8-46fc-9ff5-b36b76f7bf26"
      },
      "execution_count": 11,
      "outputs": [
        {
          "output_type": "execute_result",
          "data": {
            "text/plain": [
              "PosixPath('data/y2436.png')"
            ]
          },
          "metadata": {},
          "execution_count": 11
        }
      ]
    },
    {
      "cell_type": "code",
      "source": [
        "# Split into train and test data\n",
        "from sklearn.model_selection import train_test_split\n",
        "\n",
        "train_set, test_set = train_test_split(image_path_list, test_size = 0.2, train_size = 0.8, random_state = 42)\n",
        "\n",
        "len(train_set), len(test_set)"
      ],
      "metadata": {
        "colab": {
          "base_uri": "https://localhost:8080/"
        },
        "id": "4-MktdM1H3A3",
        "outputId": "8a82a327-4d63-46bc-fbff-57050ba98d76"
      },
      "execution_count": 12,
      "outputs": [
        {
          "output_type": "execute_result",
          "data": {
            "text/plain": [
              "(832, 208)"
            ]
          },
          "metadata": {},
          "execution_count": 12
        }
      ]
    },
    {
      "cell_type": "code",
      "source": [
        "random.seed(42)\n",
        "random_img = random.choice(image_path_list)\n",
        "img = Image.open(random_img).convert('RGB')\n",
        "print(f\"Image Label: {str(random_img.stem)}\")\n",
        "img"
      ],
      "metadata": {
        "colab": {
          "base_uri": "https://localhost:8080/",
          "height": 104
        },
        "id": "cSTEicbYTdbT",
        "outputId": "652ebbc0-d072-4b82-8102-a94e84a78d49"
      },
      "execution_count": 13,
      "outputs": [
        {
          "output_type": "stream",
          "name": "stdout",
          "text": [
            "Image Label: pf4nb\n"
          ]
        },
        {
          "output_type": "execute_result",
          "data": {
            "text/plain": [
              "<PIL.Image.Image image mode=RGB size=200x50>"
            ],
            "image/png": "[encoded data removed]",
            "image/jpeg": "[encoded data removed]"
          },
          "metadata": {},
          "execution_count": 13
        }
      ]
    },
    {
      "cell_type": "code",
      "source": [
        "img_as_array = np.asarray(img)\n",
        "\n",
        "plt.figure(figsize = (4, 3))\n",
        "plt.imshow(img_as_array)\n",
        "plt.axis(False)\n",
        "plt.title(f\"Image_Label: {str(random_img.stem)} | Image Shape: {img_as_array.shape}\")"
      ],
      "metadata": {
        "colab": {
          "base_uri": "https://localhost:8080/",
          "height": 173
        },
        "id": "S6opsgLQln5q",
        "outputId": "3bc64199-f976-42af-c015-b066acd6e2d0"
      },
      "execution_count": 14,
      "outputs": [
        {
          "output_type": "execute_result",
          "data": {
            "text/plain": [
              "Text(0.5, 1.0, 'Image_Label: pf4nb | Image Shape: (50, 200, 3)')"
            ]
          },
          "metadata": {},
          "execution_count": 14
        },
        {
          "output_type": "display_data",
          "data": {
            "text/plain": [
              "<Figure size 400x300 with 1 Axes>"
            ],
            "image/png": "[encoded data removed]"
          },
          "metadata": {}
        }
      ]
    },
    {
      "cell_type": "code",
      "source": [
        "import os\n",
        "import pathlib\n",
        "import torch\n",
        "from PIL import Image\n",
        "from torch.utils.data import Dataset\n",
        "from torchvision import transforms\n",
        "from typing import Tuple, Dict, List"
      ],
      "metadata": {
        "id": "yr-KqKJuUK-G"
      },
      "execution_count": 15,
      "outputs": []
    },
    {
      "cell_type": "code",
      "source": [
        "# Creating custom dataset\n",
        "\n",
        "class CaptchaDataset(Dataset):\n",
        "  def __init__(self, data_dir: str, image_fns: list, augment: bool = False):\n",
        "    self.data_dir = data_dir\n",
        "    self.image_fns = image_fns\n",
        "    self.augment = augment\n",
        "\n",
        "  def __len__(self):\n",
        "    return len(self.image_fns)\n",
        "\n",
        "  def __getitem__(self, input: int):\n",
        "    image_fn = self.image_fns[input]\n",
        "    image = Image.open(image_fn).convert('RGB')\n",
        "    image = self.transform(image)\n",
        "    text = str(image_fn.stem)\n",
        "    return image, text\n",
        "\n",
        "  def transform(self, image):\n",
        "        ops = []\n",
        "        if self.augment:\n",
        "          ops.extend([\n",
        "            transforms.RandomAffine(degrees=8, translate=(0.05, 0.1), shear=5, fill=255),\n",
        "            transforms.RandomPerspective(distortion_scale=0.2, p=0.3),\n",
        "          ])\n",
        "        ops.extend([\n",
        "          transforms.Resize((32, 160)),\n",
        "          transforms.ToTensor(),\n",
        "          transforms.Normalize(mean=(0.485, 0.456, 0.406), std=(0.229, 0.224, 0.225))\n",
        "        ])\n",
        "        return transforms.Compose(ops)(image)"
      ],
      "metadata": {
        "id": "lM3-c8rcH3a6"
      },
      "execution_count": 16,
      "outputs": []
    },
    {
      "cell_type": "code",
      "source": [
        "train_dataset = CaptchaDataset(\"data/\", train_set, augment=True)\n",
        "test_dataset = CaptchaDataset(\"data/\", test_set, augment=False)\n",
        "train_dataset.__getitem__(0)"
      ],
      "metadata": {
        "colab": {
          "base_uri": "https://localhost:8080/"
        },
        "id": "S1lZq8tssaOz",
        "outputId": "98311e12-386e-4f1d-9719-ec489ca5ea97"
      },
      "execution_count": 17,
      "outputs": [
        {
          "output_type": "execute_result",
          "data": {
            "text/plain": [
              "(tensor([[[-2.1179, -2.1179, -2.1179,  ..., -2.1179, -2.1179, -2.1179],\n",
              "          [-2.1179, -2.1179, -2.1179,  ..., -2.1179, -2.1179, -2.1179],\n",
              "          [-2.1179, -2.1179, -2.1179,  ..., -2.1179, -2.1179, -2.1179],\n",
              "          ...,\n",
              "          [-2.1179, -2.1179, -2.1179,  ..., -2.1179, -2.1179, -2.1179],\n",
              "          [-2.1179, -2.1179, -2.1179,  ..., -2.1179, -2.1179, -2.1179],\n",
              "          [-2.1179, -2.1179, -2.1179,  ..., -2.1179, -2.1179, -2.1179]],\n",
              " \n",
              "         [[-2.0357, -2.0357, -2.0357,  ..., -2.0357, -2.0357, -2.0357],\n",
              "          [-2.0357, -2.0357, -2.0357,  ..., -2.0357, -2.0357, -2.0357],\n",
              "          [-2.0357, -2.0357, -2.0357,  ..., -2.0357, -2.0357, -2.0357],\n",
              "          ...,\n",
              "          [-2.0357, -2.0357, -2.0357,  ..., -2.0357, -2.0357, -2.0357],\n",
              "          [-2.0357, -2.0357, -2.0357,  ..., -2.0357, -2.0357, -2.0357],\n",
              "          [-2.0357, -2.0357, -2.0357,  ..., -2.0357, -2.0357, -2.0357]],\n",
              " \n",
              "         [[-1.8044, -1.8044, -1.8044,  ..., -1.8044, -1.8044, -1.8044],\n",
              "          [-1.8044, -1.8044, -1.8044,  ..., -1.8044, -1.8044, -1.8044],\n",
              "          [-1.8044, -1.8044, -1.8044,  ..., -1.8044, -1.8044, -1.8044],\n",
              "          ...,\n",
              "          [-1.8044, -1.8044, -1.8044,  ..., -1.8044, -1.8044, -1.8044],\n",
              "          [-1.8044, -1.8044, -1.8044,  ..., -1.8044, -1.8044, -1.8044],\n",
              "          [-1.8044, -1.8044, -1.8044,  ..., -1.8044, -1.8044, -1.8044]]]),\n",
              " 'yf347')"
            ]
          },
          "metadata": {},
          "execution_count": 17
        }
      ]
    },
    {
      "cell_type": "code",
      "source": [
        "torch.manual_seed(0)\n",
        "fig = plt.figure(figsize = (9, 9))\n",
        "rows, cols = 3, 3\n",
        "\n",
        "for i in range(1, rows*cols + 1):\n",
        "  random_idx = torch.randint(0, train_dataset.__len__(), size = [1]).item()\n",
        "  image, labels = train_dataset[random_idx]\n",
        "  fig.add_subplot(rows, cols, i)\n",
        "  plt.imshow(image.squeeze().permute(1, 2, 0))\n",
        "  plt.title(train_set[random_idx].stem)\n",
        "  plt.axis(True)"
      ],
      "metadata": {
        "colab": {
          "base_uri": "https://localhost:8080/",
          "height": 784
        },
        "id": "LVzJQdfVmemY",
        "outputId": "52ef4516-5c60-448c-b1f8-73d57db8ee68"
      },
      "execution_count": 18,
      "outputs": [
        {
          "output_type": "stream",
          "name": "stderr",
          "text": [
            "WARNING:matplotlib.image:Clipping input data to the valid range for imshow with RGB data ([0..1] for floats or [0..255] for integers). Got range [-2.117904..2.64].\n",
            "WARNING:matplotlib.image:Clipping input data to the valid range for imshow with RGB data ([0..1] for floats or [0..255] for integers). Got range [-2.117904..2.64].\n",
            "WARNING:matplotlib.image:Clipping input data to the valid range for imshow with RGB data ([0..1] for floats or [0..255] for integers). Got range [-2.117904..2.64].\n",
            "WARNING:matplotlib.image:Clipping input data to the valid range for imshow with RGB data ([0..1] for floats or [0..255] for integers). Got range [-2.117904..2.64].\n",
            "WARNING:matplotlib.image:Clipping input data to the valid range for imshow with RGB data ([0..1] for floats or [0..255] for integers). Got range [-2.117904..2.64].\n",
            "WARNING:matplotlib.image:Clipping input data to the valid range for imshow with RGB data ([0..1] for floats or [0..255] for integers). Got range [-2.117904..2.64].\n",
            "WARNING:matplotlib.image:Clipping input data to the valid range for imshow with RGB data ([0..1] for floats or [0..255] for integers). Got range [-2.117904..2.64].\n",
            "WARNING:matplotlib.image:Clipping input data to the valid range for imshow with RGB data ([0..1] for floats or [0..255] for integers). Got range [-2.117904..2.64].\n",
            "WARNING:matplotlib.image:Clipping input data to the valid range for imshow with RGB data ([0..1] for floats or [0..255] for integers). Got range [-2.117904..2.64].\n"
          ]
        },
        {
          "output_type": "display_data",
          "data": {
            "text/plain": [
              "<Figure size 900x900 with 9 Axes>"
            ],
            "image/png": "[encoded data removed]"
          },
          "metadata": {}
        }
      ]
    },
    {
      "cell_type": "code",
      "source": [
        "os.cpu_count()"
      ],
      "metadata": {
        "colab": {
          "base_uri": "https://localhost:8080/"
        },
        "id": "V8fOGD9Eo1i4",
        "outputId": "6afe3746-1240-42bc-e7ff-8ec53abae090"
      },
      "execution_count": 19,
      "outputs": [
        {
          "output_type": "execute_result",
          "data": {
            "text/plain": [
              "2"
            ]
          },
          "metadata": {},
          "execution_count": 19
        }
      ]
    },
    {
      "cell_type": "code",
      "source": [
        "# Dataloader\n",
        "\n",
        "BATCH_SIZE = 16\n",
        "\n",
        "train_dataloader = DataLoader(train_dataset, BATCH_SIZE, num_workers = os.cpu_count(), shuffle = True)\n",
        "test_dataloader = DataLoader(test_dataset, BATCH_SIZE, num_workers = os.cpu_count(), shuffle = False)\n",
        "\n",
        "train_dataloader, test_dataloader"
      ],
      "metadata": {
        "colab": {
          "base_uri": "https://localhost:8080/"
        },
        "id": "pibFq0kneZiQ",
        "outputId": "8d69ccfd-70c5-4834-b3af-74ba02b0be7e"
      },
      "execution_count": 20,
      "outputs": [
        {
          "output_type": "execute_result",
          "data": {
            "text/plain": [
              "(<torch.utils.data.dataloader.DataLoader at 0x7c1b158f14d0>,\n",
              " <torch.utils.data.dataloader.DataLoader at 0x7c1b12aa2e10>)"
            ]
          },
          "metadata": {},
          "execution_count": 20
        }
      ]
    },
    {
      "cell_type": "code",
      "source": [
        "len(train_dataloader), len(test_dataloader)"
      ],
      "metadata": {
        "colab": {
          "base_uri": "https://localhost:8080/"
        },
        "id": "HyIXcIBFeZkM",
        "outputId": "4018ea9c-1c9e-45f6-f844-d40962290660"
      },
      "execution_count": 21,
      "outputs": [
        {
          "output_type": "execute_result",
          "data": {
            "text/plain": [
              "(52, 13)"
            ]
          },
          "metadata": {},
          "execution_count": 21
        }
      ]
    },
    {
      "cell_type": "code",
      "source": [
        "image_batch, text_batch = iter(train_dataloader).__next__()\n",
        "print(image_batch.shape, len(text_batch))"
      ],
      "metadata": {
        "id": "29YtfY0VL1q6",
        "colab": {
          "base_uri": "https://localhost:8080/"
        },
        "outputId": "a4f040d6-f91a-4ce9-d653-2469c81d61b6"
      },
      "execution_count": 22,
      "outputs": [
        {
          "output_type": "stream",
          "name": "stdout",
          "text": [
            "torch.Size([16, 3, 32, 160]) 16\n"
          ]
        }
      ]
    },
    {
      "cell_type": "code",
      "source": [
        "image_batch[0]"
      ],
      "metadata": {
        "colab": {
          "base_uri": "https://localhost:8080/"
        },
        "id": "W-_T-gr3QrR7",
        "outputId": "b54761cd-06e3-48b9-cbb6-1ce02b9b70d8"
      },
      "execution_count": 23,
      "outputs": [
        {
          "output_type": "execute_result",
          "data": {
            "text/plain": [
              "tensor([[[1.2043, 1.2043, 1.2214,  ..., 2.2489, 2.2489, 2.2489],\n",
              "         [1.2043, 1.2043, 1.2214,  ..., 2.2489, 2.2489, 2.2489],\n",
              "         [1.2043, 1.2043, 1.2214,  ..., 2.2489, 2.2489, 2.2489],\n",
              "         ...,\n",
              "         [2.2489, 2.2489, 2.2489,  ..., 2.2489, 2.2489, 2.2489],\n",
              "         [2.2489, 2.2489, 2.2489,  ..., 2.2489, 2.2489, 2.2489],\n",
              "         [2.2489, 2.2489, 2.2489,  ..., 2.2489, 2.2489, 2.2489]],\n",
              "\n",
              "        [[1.3606, 1.3606, 1.3782,  ..., 2.4286, 2.4286, 2.4286],\n",
              "         [1.3606, 1.3606, 1.3782,  ..., 2.4286, 2.4286, 2.4286],\n",
              "         [1.3606, 1.3606, 1.3782,  ..., 2.4286, 2.4286, 2.4286],\n",
              "         ...,\n",
              "         [2.4286, 2.4286, 2.4286,  ..., 2.4286, 2.4286, 2.4286],\n",
              "         [2.4286, 2.4286, 2.4286,  ..., 2.4286, 2.4286, 2.4286],\n",
              "         [2.4286, 2.4286, 2.4286,  ..., 2.4286, 2.4286, 2.4286]],\n",
              "\n",
              "        [[1.5768, 1.5768, 1.5942,  ..., 2.6400, 2.6400, 2.6400],\n",
              "         [1.5768, 1.5768, 1.5942,  ..., 2.6400, 2.6400, 2.6400],\n",
              "         [1.5768, 1.5768, 1.5942,  ..., 2.6400, 2.6400, 2.6400],\n",
              "         ...,\n",
              "         [2.6400, 2.6400, 2.6400,  ..., 2.6400, 2.6400, 2.6400],\n",
              "         [2.6400, 2.6400, 2.6400,  ..., 2.6400, 2.6400, 2.6400],\n",
              "         [2.6400, 2.6400, 2.6400,  ..., 2.6400, 2.6400, 2.6400]]])"
            ]
          },
          "metadata": {},
          "execution_count": 23
        }
      ]
    },
    {
      "cell_type": "markdown",
      "source": [
        "## Model Creation"
      ],
      "metadata": {
        "id": "d24fA3zLscWr"
      }
    },
    {
      "cell_type": "code",
      "source": [
        "num_chars = len(char2idx)\n",
        "rnn_hidden_units = 256"
      ],
      "metadata": {
        "id": "Ti2C3W8xH3dL"
      },
      "execution_count": 24,
      "outputs": []
    },
    {
      "cell_type": "code",
      "source": [
        "from torchvision.models import resnet18\n",
        "resnet = resnet18(pretrained = True)\n",
        "resnet.maxpool = nn.Identity()\n",
        "list(resnet.children())[:-3]"
      ],
      "metadata": {
        "id": "x6GiViv3H3ff",
        "colab": {
          "base_uri": "https://localhost:8080/"
        },
        "outputId": "21bf12f7-b6a1-47a0-b837-54b134cc7787"
      },
      "execution_count": 25,
      "outputs": [
        {
          "output_type": "stream",
          "name": "stderr",
          "text": [
            "/usr/local/lib/python3.11/dist-packages/torchvision/models/_utils.py:208: UserWarning: The parameter 'pretrained' is deprecated since 0.13 and may be removed in the future, please use 'weights' instead.\n",
            "  warnings.warn(\n",
            "/usr/local/lib/python3.11/dist-packages/torchvision/models/_utils.py:223: UserWarning: Arguments other than a weight enum or `None` for 'weights' are deprecated since 0.13 and may be removed in the future. The current behavior is equivalent to passing `weights=ResNet18_Weights.IMAGENET1K_V1`. You can also use `weights=ResNet18_Weights.DEFAULT` to get the most up-to-date weights.\n",
            "  warnings.warn(msg)\n"
          ]
        },
        {
          "output_type": "execute_result",
          "data": {
            "text/plain": [
              "[Conv2d(3, 64, kernel_size=(7, 7), stride=(2, 2), padding=(3, 3), bias=False),\n",
              " BatchNorm2d(64, eps=1e-05, momentum=0.1, affine=True, track_running_stats=True),\n",
              " ReLU(inplace=True),\n",
              " Identity(),\n",
              " Sequential(\n",
              "   (0): BasicBlock(\n",
              "     (conv1): Conv2d(64, 64, kernel_size=(3, 3), stride=(1, 1), padding=(1, 1), bias=False)\n",
              "     (bn1): BatchNorm2d(64, eps=1e-05, momentum=0.1, affine=True, track_running_stats=True)\n",
              "     (relu): ReLU(inplace=True)\n",
              "     (conv2): Conv2d(64, 64, kernel_size=(3, 3), stride=(1, 1), padding=(1, 1), bias=False)\n",
              "     (bn2): BatchNorm2d(64, eps=1e-05, momentum=0.1, affine=True, track_running_stats=True)\n",
              "   )\n",
              "   (1): BasicBlock(\n",
              "     (conv1): Conv2d(64, 64, kernel_size=(3, 3), stride=(1, 1), padding=(1, 1), bias=False)\n",
              "     (bn1): BatchNorm2d(64, eps=1e-05, momentum=0.1, affine=True, track_running_stats=True)\n",
              "     (relu): ReLU(inplace=True)\n",
              "     (conv2): Conv2d(64, 64, kernel_size=(3, 3), stride=(1, 1), padding=(1, 1), bias=False)\n",
              "     (bn2): BatchNorm2d(64, eps=1e-05, momentum=0.1, affine=True, track_running_stats=True)\n",
              "   )\n",
              " ),\n",
              " Sequential(\n",
              "   (0): BasicBlock(\n",
              "     (conv1): Conv2d(64, 128, kernel_size=(3, 3), stride=(2, 2), padding=(1, 1), bias=False)\n",
              "     (bn1): BatchNorm2d(128, eps=1e-05, momentum=0.1, affine=True, track_running_stats=True)\n",
              "     (relu): ReLU(inplace=True)\n",
              "     (conv2): Conv2d(128, 128, kernel_size=(3, 3), stride=(1, 1), padding=(1, 1), bias=False)\n",
              "     (bn2): BatchNorm2d(128, eps=1e-05, momentum=0.1, affine=True, track_running_stats=True)\n",
              "     (downsample): Sequential(\n",
              "       (0): Conv2d(64, 128, kernel_size=(1, 1), stride=(2, 2), bias=False)\n",
              "       (1): BatchNorm2d(128, eps=1e-05, momentum=0.1, affine=True, track_running_stats=True)\n",
              "     )\n",
              "   )\n",
              "   (1): BasicBlock(\n",
              "     (conv1): Conv2d(128, 128, kernel_size=(3, 3), stride=(1, 1), padding=(1, 1), bias=False)\n",
              "     (bn1): BatchNorm2d(128, eps=1e-05, momentum=0.1, affine=True, track_running_stats=True)\n",
              "     (relu): ReLU(inplace=True)\n",
              "     (conv2): Conv2d(128, 128, kernel_size=(3, 3), stride=(1, 1), padding=(1, 1), bias=False)\n",
              "     (bn2): BatchNorm2d(128, eps=1e-05, momentum=0.1, affine=True, track_running_stats=True)\n",
              "   )\n",
              " ),\n",
              " Sequential(\n",
              "   (0): BasicBlock(\n",
              "     (conv1): Conv2d(128, 256, kernel_size=(3, 3), stride=(2, 2), padding=(1, 1), bias=False)\n",
              "     (bn1): BatchNorm2d(256, eps=1e-05, momentum=0.1, affine=True, track_running_stats=True)\n",
              "     (relu): ReLU(inplace=True)\n",
              "     (conv2): Conv2d(256, 256, kernel_size=(3, 3), stride=(1, 1), padding=(1, 1), bias=False)\n",
              "     (bn2): BatchNorm2d(256, eps=1e-05, momentum=0.1, affine=True, track_running_stats=True)\n",
              "     (downsample): Sequential(\n",
              "       (0): Conv2d(128, 256, kernel_size=(1, 1), stride=(2, 2), bias=False)\n",
              "       (1): BatchNorm2d(256, eps=1e-05, momentum=0.1, affine=True, track_running_stats=True)\n",
              "     )\n",
              "   )\n",
              "   (1): BasicBlock(\n",
              "     (conv1): Conv2d(256, 256, kernel_size=(3, 3), stride=(1, 1), padding=(1, 1), bias=False)\n",
              "     (bn1): BatchNorm2d(256, eps=1e-05, momentum=0.1, affine=True, track_running_stats=True)\n",
              "     (relu): ReLU(inplace=True)\n",
              "     (conv2): Conv2d(256, 256, kernel_size=(3, 3), stride=(1, 1), padding=(1, 1), bias=False)\n",
              "     (bn2): BatchNorm2d(256, eps=1e-05, momentum=0.1, affine=True, track_running_stats=True)\n",
              "   )\n",
              " )]"
            ]
          },
          "metadata": {},
          "execution_count": 25
        }
      ]
    },
    {
      "cell_type": "markdown",
      "source": [
        "* ResNet documentation: https://pytorch.org/vision/main/models/generated/torchvision.models.resnet18.html\n",
        "* GRU Documentation: https://pytorch.org/docs/stable/generated/torch.nn.GRU.html\n",
        "* GRU vs BiGRU: https://pub.aimind.so/what-is-the-difference-between-a-gru-and-a-bigru-fbde0fbe2950\n",
        "* BiGRU Explained (Papers with Code): https://paperswithcode.com/method/bigru\n",
        "* Paper on combining ResNet and BiGRU Techniques for OCR:  https://www.internationaljournalssrg.org/IJECE/2024/Volume11-Issue1/IJECE-V11I1P101.pdf"
      ],
      "metadata": {
        "id": "qwayYhWxCvf3"
      }
    },
    {
      "cell_type": "code",
      "source": [
        "class CRNN(nn.Module):\n",
        "  def __init__(self, num_chars, rnn_hidden_units = 256, dropout = 0.1): # dropout --> used to reduce overfitting and memorization of trends in the data\n",
        "    super().__init__()\n",
        "    self.num_chars = num_chars\n",
        "    self.rnn_hidden_units = rnn_hidden_units\n",
        "    self.dropout = dropout\n",
        "\n",
        "    resnet_modules = list(resnet.children())[:-3] # Using all except last 3 blocks of ResNet\n",
        "    self.CNN1 = nn.Sequential(*resnet_modules)\n",
        "\n",
        "    self.CNN2 = nn.Sequential(\n",
        "        nn.Conv2d(256, 256, kernel_size = (3, 6), stride = 1, padding = 1),\n",
        "        nn.BatchNorm2d(256),\n",
        "        nn.ReLU(inplace = True)\n",
        "    )\n",
        "    self.linear1 = nn.LazyLinear(256)\n",
        "\n",
        "    # RNN (BiGRU)\n",
        "\n",
        "    self.rnn1 = nn.GRU(input_size = rnn_hidden_units,\n",
        "                       hidden_size = rnn_hidden_units,\n",
        "                       bidirectional = True,\n",
        "                       batch_first = True\n",
        "                       )\n",
        "    self.rnn2 = nn.GRU(input_size = rnn_hidden_units,\n",
        "                       hidden_size = rnn_hidden_units,\n",
        "                       bidirectional = True,\n",
        "                       batch_first = True\n",
        "                       )\n",
        "    self.linear2 = nn.Linear(self.rnn_hidden_units * 2, num_chars) # Why hidden_units * 2 ???\n",
        "\n",
        "  def forward(self, batch):\n",
        "        batch = self.CNN1(batch)\n",
        "        # print(batch.size()) # torch.Size([-1, 256, 4, 13])\n",
        "\n",
        "        batch = self.CNN2(batch) # [batch_size, channels, height, width]\n",
        "        # print(batch.size())# torch.Size([-1, 256, 4, 10])\n",
        "\n",
        "        batch = batch.permute(0, 3, 1, 2) # [batch_size, width, channels, height]\n",
        "        # print(batch.size()) # torch.Size([-1, 10, 256, 4])\n",
        "\n",
        "        batch_size = batch.size(0)\n",
        "        T = batch.size(1)\n",
        "        batch = batch.view(batch_size, T, -1) # [batch_size, T==width, num_features==channels*height]\n",
        "        # print(batch.size()) # torch.Size([-1, 10, 1024])\n",
        "\n",
        "        batch = self.linear1(batch)\n",
        "        # print(batch.size()) # torch.Size([-1, 10, 256])\n",
        "\n",
        "        batch, hidden = self.rnn1(batch)\n",
        "        feature_size = batch.size(2)\n",
        "        batch = batch[:, :, :feature_size//2] + batch[:, :, feature_size//2:]\n",
        "        # print(batch.size()) # torch.Size([-1, 10, 256])\n",
        "\n",
        "        batch, hidden = self.rnn2(batch)\n",
        "        # print(batch.size()) # torch.Size([-1, 10, 512])\n",
        "\n",
        "        batch = self.linear2(batch)\n",
        "        # print(batch.size()) # torch.Size([-1, 10, 20])\n",
        "\n",
        "        batch = batch.permute(1, 0, 2) # [T==10, batch_size, num_classes==num_features]\n",
        "        # print(batch.size()) # torch.Size([10, -1, 20])\n",
        "\n",
        "        return batch"
      ],
      "metadata": {
        "id": "xPeXtqPVH3hu"
      },
      "execution_count": 26,
      "outputs": []
    },
    {
      "cell_type": "code",
      "source": [
        "# Initializing of weights using Xavier Uniform prevents vanishing or exploding gradients during training\n",
        "def weights_init(m):\n",
        "    classname = m.__class__.__name__\n",
        "    if type(m) in [nn.Linear, nn.Conv2d, nn.Conv1d]:\n",
        "        torch.nn.init.xavier_uniform_(m.weight)\n",
        "        if m.bias is not None:\n",
        "            m.bias.data.fill_(0.01)\n",
        "    elif classname.find('BatchNorm') != -1:\n",
        "        m.weight.data.normal_(1.0, 0.02)\n",
        "        m.bias.data.fill_(0)"
      ],
      "metadata": {
        "id": "ff5wJ-EIH3kC"
      },
      "execution_count": 27,
      "outputs": []
    },
    {
      "cell_type": "code",
      "source": [
        "crnn = CRNN(num_chars, rnn_hidden_units=rnn_hidden_units)\n",
        "crnn.apply(weights_init)\n",
        "crnn = crnn.to(device)"
      ],
      "metadata": {
        "id": "fKtWxdiGCDnl"
      },
      "execution_count": 28,
      "outputs": []
    },
    {
      "cell_type": "code",
      "source": [
        "text_batch_logits = crnn(image_batch.to(device))\n",
        "print(text_batch)\n",
        "print(text_batch_logits.shape)"
      ],
      "metadata": {
        "colab": {
          "base_uri": "https://localhost:8080/"
        },
        "id": "Tjndgk1rGuUq",
        "outputId": "80686481-1530-4f22-a22c-e7c961d03516"
      },
      "execution_count": 29,
      "outputs": [
        {
          "output_type": "stream",
          "name": "stdout",
          "text": [
            "('pm47f', 'nbcgb', '6m5eg', 'dfnx4', '43gey', 'f364x', 'gnc3n', '8d4wm', '25egp', 'nf7bn', 'x347n', '6ecbn', 'x7746', 'een23', 'wd2gb', 'pdyc8')\n",
            "torch.Size([17, 16, 20])\n"
          ]
        }
      ]
    },
    {
      "cell_type": "code",
      "source": [
        "# Loss Definitions\n",
        "loss_fn = nn.CTCLoss(blank = 0)"
      ],
      "metadata": {
        "id": "9URZqJM5Fui1"
      },
      "execution_count": 30,
      "outputs": []
    },
    {
      "cell_type": "code",
      "source": [
        "def encode_text_batch(text_batch):\n",
        "\n",
        "    text_batch_targets_lens = [len(text) for text in text_batch]\n",
        "    text_batch_targets_lens = torch.IntTensor(text_batch_targets_lens).to(device)\n",
        "\n",
        "    text_batch_concat = \"\".join(text_batch)\n",
        "    text_batch_targets = [char2idx[c] for c in text_batch_concat]\n",
        "    text_batch_targets = torch.IntTensor(text_batch_targets).to(device)\n",
        "\n",
        "    return text_batch_targets, text_batch_targets_lens"
      ],
      "metadata": {
        "id": "vUXd2dHkF8Pa"
      },
      "execution_count": 31,
      "outputs": []
    },
    {
      "cell_type": "code",
      "source": [
        "def compute_loss(text_batch, text_batch_logits):\n",
        "    \"\"\"\n",
        "    text_batch: list of strings of length equal to batch size\n",
        "    text_batch_logits: Tensor of size([T, batch_size, num_classes])\n",
        "    \"\"\"\n",
        "    # Replace potential NaN or infinite values with 0 before applying log_softmax\n",
        "    text_batch_logps = F.log_softmax(torch.nan_to_num(text_batch_logits), 2) # [T, batch_size, num_classes]\n",
        "    text_batch_logps_lens = torch.full(size=(text_batch_logps.size(1),),\n",
        "                                       fill_value=text_batch_logps.size(0),\n",
        "                                       dtype=torch.int32).to(device) # [batch_size]\n",
        "    #print(text_batch_logps.shape)\n",
        "    #print(text_batch_logps_lens)\n",
        "    text_batch_targets, text_batch_targets_lens = encode_text_batch(text_batch)\n",
        "    #print(text_batch_targets)\n",
        "    #print(text_batch_targets_lens)\n",
        "    loss = loss_fn(text_batch_logps, text_batch_targets, text_batch_logps_lens, text_batch_targets_lens)\n",
        "\n",
        "    return loss"
      ],
      "metadata": {
        "id": "a0UzTQDmF8RN"
      },
      "execution_count": 32,
      "outputs": []
    },
    {
      "cell_type": "code",
      "source": [
        "compute_loss(text_batch, text_batch_logits)"
      ],
      "metadata": {
        "colab": {
          "base_uri": "https://localhost:8080/"
        },
        "id": "BufpV8OaF8UA",
        "outputId": "80073418-4d87-45a7-9b58-f13b4dcbca76"
      },
      "execution_count": 33,
      "outputs": [
        {
          "output_type": "execute_result",
          "data": {
            "text/plain": [
              "tensor(7.4620, device='cuda:0', grad_fn=<MeanBackward0>)"
            ]
          },
          "metadata": {},
          "execution_count": 33
        }
      ]
    },
    {
      "cell_type": "markdown",
      "source": [
        "## Training"
      ],
      "metadata": {
        "id": "Uq7UMowaHuBm"
      }
    },
    {
      "cell_type": "code",
      "source": [
        "epochs = 80\n",
        "lr = 0.001\n",
        "decay = 0.0001\n",
        "clip_norm = 5"
      ],
      "metadata": {
        "id": "TLSlRfXUF8WW"
      },
      "execution_count": 34,
      "outputs": []
    },
    {
      "cell_type": "code",
      "source": [
        "optimizer = torch.optim.Adam(params = crnn.parameters(), lr = lr, weight_decay = decay)\n",
        "lr_scheduler = torch.optim.lr_scheduler.ReduceLROnPlateau(optimizer, verbose=True, patience=5) # makes lr dynamic to prevent vanishing/exploding gradients\n",
        "optimizer"
      ],
      "metadata": {
        "colab": {
          "base_uri": "https://localhost:8080/"
        },
        "id": "LLJltMK2IIsJ",
        "outputId": "bc648a5a-a065-4cb3-fe16-f6a755e81253"
      },
      "execution_count": 35,
      "outputs": [
        {
          "output_type": "stream",
          "name": "stderr",
          "text": [
            "/usr/local/lib/python3.11/dist-packages/torch/optim/lr_scheduler.py:62: UserWarning: The verbose parameter is deprecated. Please use get_last_lr() to access the learning rate.\n",
            "  warnings.warn(\n"
          ]
        },
        {
          "output_type": "execute_result",
          "data": {
            "text/plain": [
              "Adam (\n",
              "Parameter Group 0\n",
              "    amsgrad: False\n",
              "    betas: (0.9, 0.999)\n",
              "    capturable: False\n",
              "    differentiable: False\n",
              "    eps: 1e-08\n",
              "    foreach: None\n",
              "    fused: None\n",
              "    lr: 0.001\n",
              "    maximize: False\n",
              "    weight_decay: 0.0001\n",
              ")"
            ]
          },
          "metadata": {},
          "execution_count": 35
        }
      ]
    },
    {
      "cell_type": "code",
      "source": [
        "from timeit import default_timer as timer\n",
        "def print_total_time(start, end):\n",
        "    total_time = total_time = end-start\n",
        "    print(f\"Train time on {device}: {total_time: .3f} seconds\")\n",
        "    return total_time"
      ],
      "metadata": {
        "id": "89Oqh4z7FirD"
      },
      "execution_count": 36,
      "outputs": []
    },
    {
      "cell_type": "code",
      "source": [
        "# Training loop\n",
        "\n",
        "# Structure: optimizer.zero_grad() --> training logits --> computing loss --> backpropagation --> gradient descent\n",
        "\n",
        "epoch_losses = []\n",
        "iteration_losses = []\n",
        "num_updates_epochs = []\n",
        "\n",
        "start_time = timer()\n",
        "for epoch in range(1, epochs + 1):\n",
        "\n",
        "  epoch_loss_list = []\n",
        "  num_updates_epoch = 0\n",
        "\n",
        "  for image_batch, text_batch in train_dataloader:\n",
        "    optimizer.zero_grad()\n",
        "    text_batch_logits = crnn(image_batch.to(device))\n",
        "    loss = compute_loss(text_batch, text_batch_logits)\n",
        "    iteration_loss = loss.item()\n",
        "\n",
        "    num_updates_epoch += 1\n",
        "    iteration_losses.append(iteration_loss)\n",
        "    epoch_loss_list.append(iteration_loss)\n",
        "    loss.backward()\n",
        "\n",
        "    # Gradient clipping used to prevent exploding gradients during training nn.\n",
        "    # This becomes when the gradients become too large leading to instability and divergence during training.\n",
        "\n",
        "    nn.utils.clip_grad_norm(crnn.parameters(), clip_norm)\n",
        "    optimizer.step()\n",
        "\n",
        "  epoch_loss = np.mean(epoch_loss_list)\n",
        "  epoch_losses.append(epoch_loss)\n",
        "  num_updates_epochs.append(num_updates_epoch)\n",
        "  lr_scheduler.step(epoch_loss)\n",
        "  if epoch % 5 == 0:\n",
        "    print(f\"Epoch: {epoch} | Validation Loss: {epoch_loss} | Updates: {num_updates_epoch}\")\n",
        "end_time = timer()\n",
        "print(print_total_time(start_time, end_time))"
      ],
      "metadata": {
        "colab": {
          "base_uri": "https://localhost:8080/"
        },
        "id": "AM5r8vnAF8a0",
        "outputId": "7383fc2e-5207-47df-b20d-8e044a4401ba"
      },
      "execution_count": 37,
      "outputs": [
        {
          "output_type": "stream",
          "name": "stderr",
          "text": [
            "/tmp/ipython-input-2720027829.py:29: FutureWarning: `torch.nn.utils.clip_grad_norm` is now deprecated in favor of `torch.nn.utils.clip_grad_norm_`.\n",
            "  nn.utils.clip_grad_norm(crnn.parameters(), clip_norm)\n"
          ]
        },
        {
          "output_type": "stream",
          "name": "stdout",
          "text": [
            "Epoch: 5 | Validation Loss: 2.9527624524556675 | Updates: 52\n",
            "Epoch: 10 | Validation Loss: 2.2010738597466397 | Updates: 52\n",
            "Epoch: 15 | Validation Loss: 0.473567566046348 | Updates: 52\n",
            "Epoch: 20 | Validation Loss: 0.24561020001195943 | Updates: 52\n",
            "Epoch: 25 | Validation Loss: 0.10597893602859515 | Updates: 52\n",
            "Epoch: 30 | Validation Loss: 0.0859628718597098 | Updates: 52\n",
            "Epoch: 35 | Validation Loss: 0.08293372657723151 | Updates: 52\n",
            "Epoch: 40 | Validation Loss: 0.07120283277562031 | Updates: 52\n",
            "Epoch: 45 | Validation Loss: 0.08675470127939032 | Updates: 52\n",
            "Epoch: 50 | Validation Loss: 0.025395217136694834 | Updates: 52\n",
            "Epoch: 55 | Validation Loss: 0.016701049755703516 | Updates: 52\n",
            "Epoch: 60 | Validation Loss: 0.010016469405784916 | Updates: 52\n",
            "Epoch: 65 | Validation Loss: 0.005971181855644458 | Updates: 52\n",
            "Epoch: 70 | Validation Loss: 0.00928364548823223 | Updates: 52\n",
            "Epoch: 75 | Validation Loss: 0.013707087764767213 | Updates: 52\n",
            "Epoch: 80 | Validation Loss: 0.007332408305956051 | Updates: 52\n",
            "Train time on cuda:  163.287 seconds\n",
            "163.28710305100003\n"
          ]
        }
      ]
    },
    {
      "cell_type": "code",
      "source": [
        "fig, (ax1, ax2) = plt.subplots(1,2, figsize = (10, 7))\n",
        "\n",
        "ax1.plot(epoch_losses)\n",
        "ax1.set_xlabel(\"Epochs\")\n",
        "ax1.set_ylabel(\"Loss\")\n",
        "\n",
        "ax2.plot(iteration_losses)\n",
        "ax2.set_xlabel(\"Iterations\")\n",
        "ax2.set_ylabel(\"Loss\")"
      ],
      "metadata": {
        "colab": {
          "base_uri": "https://localhost:8080/",
          "height": 656
        },
        "id": "YJP9NpnMIU1e",
        "outputId": "c7d977c0-6fb6-445c-b292-1f491f876e27"
      },
      "execution_count": 44,
      "outputs": [
        {
          "output_type": "execute_result",
          "data": {
            "text/plain": [
              "Text(0, 0.5, 'Loss')"
            ]
          },
          "metadata": {},
          "execution_count": 44
        },
        {
          "output_type": "display_data",
          "data": {
            "text/plain": [
              "<Figure size 1000x700 with 2 Axes>"
            ],
            "image/png": "[encoded data removed]"
          },
          "metadata": {}
        }
      ]
    },
    {
      "cell_type": "code",
      "source": [
        "# # Saving the model\n",
        "# MODEL_PATH = Path(\"MODELS\")\n",
        "\n",
        "# MODEL_PATH.mkdir(parents = True, exist_ok = True)\n",
        "\n",
        "# MODEL_NAME = 'weights01.pt'\n",
        "# MODEL_SAVE_PATH = MODEL_PATH/MODEL_NAME\n",
        "# # torch.save(model, Path)\n",
        "# print(MODEL_SAVE_PATH)\n",
        "# torch.save(crnn.state_dict(), MODEL_SAVE_PATH)"
      ],
      "metadata": {
        "id": "TyCgKENOIU3Y"
      },
      "execution_count": null,
      "outputs": []
    },
    {
      "cell_type": "markdown",
      "source": [
        "## Making Predictions"
      ],
      "metadata": {
        "id": "h4_fwgEnLYZY"
      }
    },
    {
      "cell_type": "code",
      "source": [
        "# Import trained weights from github"
      ],
      "metadata": {
        "id": "1lh-AANgRvse"
      },
      "execution_count": null,
      "outputs": []
    },
    {
      "cell_type": "code",
      "source": [
        "# model = CRNN(num_chars, rnn_hidden_units=rnn_hidden_units)\n",
        "# model.load_state_dict(torch.load(f = \"/content/weights01.pt\", map_location=torch.device(device)))"
      ],
      "metadata": {
        "id": "7HN5h35_PHot"
      },
      "execution_count": null,
      "outputs": []
    },
    {
      "cell_type": "code",
      "source": [
        "def decode_predictions(text_batch_logits):\n",
        "    tokens = text_batch_logits.argmax(2).cpu().numpy().T  # [batch_size, T]\n",
        "    decoded = []\n",
        "    for seq in tokens:\n",
        "        prev = None\n",
        "        chars = []\n",
        "        for idx in seq:\n",
        "            if idx != 0 and idx != prev:\n",
        "                chars.append(idx2char[idx])\n",
        "            prev = idx\n",
        "        decoded.append(\"\".join(chars))\n",
        "    return decoded"
      ],
      "metadata": {
        "id": "a7rOocnZIU5o"
      },
      "execution_count": 45,
      "outputs": []
    },
    {
      "cell_type": "code",
      "source": [
        "train_loader = DataLoader(train_dataset, batch_size=16, num_workers=1, shuffle=False)\n",
        "crnn.eval()\n",
        "total_label_list = []\n",
        "total_prediction_list = []\n",
        "with torch.inference_mode():\n",
        "  for image_batch, text_batch in tqdm(test_dataloader, leave=True):\n",
        "        text_batch_logits = crnn(image_batch.to(device)) # [T, batch_size, num_classes==num_features]\n",
        "        text_batch_pred = decode_predictions(text_batch_logits.cpu())\n",
        "        total_prediction_list.append(text_batch_pred)\n",
        "        total_label_list.append(text_batch)"
      ],
      "metadata": {
        "colab": {
          "base_uri": "https://localhost:8080/",
          "height": 69,
          "referenced_widgets": [
            "5ccaf21a98ab471c805d88e8a94adb6c",
            "8217aac6c8a14d329cf705795b80ff6e",
            "68552f17148949849272d93a1a7a68ec",
            "2c91054861c8495087fdb5efad6f57b4",
            "a3717eb2c3bf4dbf83a8b02e15a6acd7",
            "148b58890df14ba28cf16f9b01e08001",
            "f751ef06c65f44829f0fd158a7f8f7e1",
            "24220fa187fb45019b884b048b14b54b",
            "1210ee25f6764e5f8ca2d287f00a9cde",
            "9536e319fa204b4db7c54afe8f196433",
            "b392e1f916d84c3db51a1a55b52c4342"
          ]
        },
        "id": "OzrJyz-zIU7n",
        "outputId": "cc25c4ba-b995-4d8e-803c-3ad1d47d9f99"
      },
      "execution_count": 46,
      "outputs": [
        {
          "output_type": "display_data",
          "data": {
            "text/plain": [
              "  0%|          | 0/13 [00:00<?, ?it/s]"
            ],
            "application/vnd.jupyter.widget-view+json": {
              "version_major": 2,
              "version_minor": 0,
              "model_id": "5ccaf21a98ab471c805d88e8a94adb6c"
            }
          },
          "metadata": {}
        }
      ]
    },
    {
      "cell_type": "code",
      "source": [
        "len(total_label_list), len(total_prediction_list)"
      ],
      "metadata": {
        "colab": {
          "base_uri": "https://localhost:8080/"
        },
        "id": "24aR_dsSb0la",
        "outputId": "7e784183-c19e-41fe-f1d5-f5a493719eba"
      },
      "execution_count": 47,
      "outputs": [
        {
          "output_type": "execute_result",
          "data": {
            "text/plain": [
              "(13, 13)"
            ]
          },
          "metadata": {},
          "execution_count": 47
        }
      ]
    },
    {
      "cell_type": "code",
      "source": [
        "test_loader = DataLoader(test_dataset, batch_size=16, num_workers=1, shuffle=False)\n",
        "crnn.eval()\n",
        "total_test_label_list = []\n",
        "total_test_pred_list = []\n",
        "with torch.inference_mode():\n",
        "  for image_batch, text_batch in tqdm(test_dataloader, leave=True):\n",
        "        text_batch_logits = crnn(image_batch.to(device)) # [T, batch_size, num_classes==num_features]\n",
        "        text_batch_pred = decode_predictions(text_batch_logits.cpu())\n",
        "        total_test_pred_list.append(text_batch_pred)\n",
        "        total_test_label_list.append(text_batch)"
      ],
      "metadata": {
        "colab": {
          "base_uri": "https://localhost:8080/",
          "height": 69,
          "referenced_widgets": [
            "e5edf1283ca0425fbcca7f1d8edf9b6d",
            "99e2394c4ca84723978d5dfb4b1f42a5",
            "40b5f9c51130449db530f75d42c61f46",
            "7acd0bb7b02246b6a2037f2af8724b06",
            "9d9f84f4518c4c8db1521180db092f55",
            "6a78fd1190ce46faa3289344ed0a1e09",
            "09c9cdc695d04639b6bc1360f3ab0c1b",
            "383b963873224b2f85db0084299095e0",
            "9a5434a741514db9b2d899cf0e3e814a",
            "f8fa27ca74494b17817b1e0dc27931b1",
            "b7f9b96e76324fa183ef3af06681ae07"
          ]
        },
        "id": "dc7I8kW2gsZw",
        "outputId": "5f6104b0-13cf-4ef9-8899-b93b2e8529b8"
      },
      "execution_count": 48,
      "outputs": [
        {
          "output_type": "display_data",
          "data": {
            "text/plain": [
              "  0%|          | 0/13 [00:00<?, ?it/s]"
            ],
            "application/vnd.jupyter.widget-view+json": {
              "version_major": 2,
              "version_minor": 0,
              "model_id": "e5edf1283ca0425fbcca7f1d8edf9b6d"
            }
          },
          "metadata": {}
        }
      ]
    },
    {
      "cell_type": "code",
      "source": [
        "len(total_test_label_list), len(total_test_pred_list)"
      ],
      "metadata": {
        "colab": {
          "base_uri": "https://localhost:8080/"
        },
        "id": "rl2_9Qd1hCbV",
        "outputId": "8c71a44c-6766-4955-aa6e-3d817a3823c1"
      },
      "execution_count": 49,
      "outputs": [
        {
          "output_type": "execute_result",
          "data": {
            "text/plain": [
              "(13, 13)"
            ]
          },
          "metadata": {},
          "execution_count": 49
        }
      ]
    },
    {
      "cell_type": "code",
      "source": [
        "import pandas as pd\n",
        "results_train = pd.DataFrame(columns=['actual', 'prediction'])\n",
        "train_loader = DataLoader(train_dataset, batch_size=16, num_workers=1, shuffle=False)\n",
        "with torch.no_grad():\n",
        "    for image_batch, text_batch in tqdm(train_loader, leave=True):\n",
        "        text_batch_logits = crnn(image_batch.to(device)) # [T, batch_size, num_classes==num_features]\n",
        "        text_batch_pred = decode_predictions(text_batch_logits.cpu())\n",
        "        #print(text_batch, text_batch_pred)\n",
        "        df = pd.DataFrame(columns=['actual', 'prediction'])\n",
        "        df['actual'] = text_batch\n",
        "        df['prediction'] = text_batch_pred\n",
        "        results_train = pd.concat([results_train, df])\n",
        "results_train = results_train.reset_index(drop=True)"
      ],
      "metadata": {
        "colab": {
          "base_uri": "https://localhost:8080/",
          "height": 69,
          "referenced_widgets": [
            "99ed297f3610403987bb77fb51692d03",
            "63176847173d45d3b74bc8adec06310f",
            "b5c4a30fb9844d22a0fb1b5c0403c17e",
            "6081f63cf7d84c858c555347fc24158c",
            "e16b966165f7471e8e9f7c281fb0177a",
            "27040797340c47e88690213eb03e2345",
            "692451a7339243ed98ba2d3f9eaaea84",
            "0c2111d3d28c4cc8a379f83b2cfd4fa3",
            "62758ec562234b10b87876420b9bbbea",
            "6ece79d764004a86a9a3f66d29c7878d",
            "f998af39cace40b599ac7decc7c1ab8f"
          ]
        },
        "id": "-IkLFWVzahl-",
        "outputId": "0bf7d4d5-8b8e-4343-c72b-39adb611fbe8"
      },
      "execution_count": 50,
      "outputs": [
        {
          "output_type": "display_data",
          "data": {
            "text/plain": [
              "  0%|          | 0/52 [00:00<?, ?it/s]"
            ],
            "application/vnd.jupyter.widget-view+json": {
              "version_major": 2,
              "version_minor": 0,
              "model_id": "99ed297f3610403987bb77fb51692d03"
            }
          },
          "metadata": {}
        }
      ]
    },
    {
      "cell_type": "code",
      "source": [
        "print(results_train.shape)\n",
        "results_train"
      ],
      "metadata": {
        "colab": {
          "base_uri": "https://localhost:8080/",
          "height": 453
        },
        "id": "bHN8m_5Oap9i",
        "outputId": "a79fc552-0a6b-4eeb-f8df-3ff1b7ca9938"
      },
      "execution_count": 51,
      "outputs": [
        {
          "output_type": "stream",
          "name": "stdout",
          "text": [
            "(832, 2)\n"
          ]
        },
        {
          "output_type": "execute_result",
          "data": {
            "text/plain": [
              "    actual prediction\n",
              "0    yf347      yf347\n",
              "1    5n245      5n245\n",
              "2    nfndw      nfndw\n",
              "3    5n3w4      5n3w4\n",
              "4    43gey      43gey\n",
              "..     ...        ...\n",
              "827  3wnd3      3wnd3\n",
              "828  pyf65      pyf65\n",
              "829  pg2yx      pg2yx\n",
              "830  n6nn2      n6nn2\n",
              "831  fcne6      fcne6\n",
              "\n",
              "[832 rows x 2 columns]"
            ],
            "text/html": [
              "\n",
              "  <div id=\"df-4ccb6a4f-0378-45ff-8213-77ca6780758e\" class=\"colab-df-container\">\n",
              "    <div>\n",
              "<style scoped>\n",
              "    .dataframe tbody tr th:only-of-type {\n",
              "        vertical-align: middle;\n",
              "    }\n",
              "\n",
              "    .dataframe tbody tr th {\n",
              "        vertical-align: top;\n",
              "    }\n",
              "\n",
              "    .dataframe thead th {\n",
              "        text-align: right;\n",
              "    }\n",
              "</style>\n",
              "<table border=\"1\" class=\"dataframe\">\n",
              "  <thead>\n",
              "    <tr style=\"text-align: right;\">\n",
              "      <th></th>\n",
              "      <th>actual</th>\n",
              "      <th>prediction</th>\n",
              "    </tr>\n",
              "  </thead>\n",
              "  <tbody>\n",
              "    <tr>\n",
              "      <th>0</th>\n",
              "      <td>yf347</td>\n",
              "      <td>yf347</td>\n",
              "    </tr>\n",
              "    <tr>\n",
              "      <th>1</th>\n",
              "      <td>5n245</td>\n",
              "      <td>5n245</td>\n",
              "    </tr>\n",
              "    <tr>\n",
              "      <th>2</th>\n",
              "      <td>nfndw</td>\n",
              "      <td>nfndw</td>\n",
              "    </tr>\n",
              "    <tr>\n",
              "      <th>3</th>\n",
              "      <td>5n3w4</td>\n",
              "      <td>5n3w4</td>\n",
              "    </tr>\n",
              "    <tr>\n",
              "      <th>4</th>\n",
              "      <td>43gey</td>\n",
              "      <td>43gey</td>\n",
              "    </tr>\n",
              "    <tr>\n",
              "      <th>...</th>\n",
              "      <td>...</td>\n",
              "      <td>...</td>\n",
              "    </tr>\n",
              "    <tr>\n",
              "      <th>827</th>\n",
              "      <td>3wnd3</td>\n",
              "      <td>3wnd3</td>\n",
              "    </tr>\n",
              "    <tr>\n",
              "      <th>828</th>\n",
              "      <td>pyf65</td>\n",
              "      <td>pyf65</td>\n",
              "    </tr>\n",
              "    <tr>\n",
              "      <th>829</th>\n",
              "      <td>pg2yx</td>\n",
              "      <td>pg2yx</td>\n",
              "    </tr>\n",
              "    <tr>\n",
              "      <th>830</th>\n",
              "      <td>n6nn2</td>\n",
              "      <td>n6nn2</td>\n",
              "    </tr>\n",
              "    <tr>\n",
              "      <th>831</th>\n",
              "      <td>fcne6</td>\n",
              "      <td>fcne6</td>\n",
              "    </tr>\n",
              "  </tbody>\n",
              "</table>\n",
              "<p>832 rows × 2 columns</p>\n",
              "</div>\n",
              "    <div class=\"colab-df-buttons\">\n",
              "\n",
              "  <div class=\"colab-df-container\">\n",
              "    <button class=\"colab-df-convert\" onclick=\"convertToInteractive('df-4ccb6a4f-0378-45ff-8213-77ca6780758e')\"\n",
              "            title=\"Convert this dataframe to an interactive table.\"\n",
              "            style=\"display:none;\">\n",
              "\n",
              "  <svg xmlns=\"http://www.w3.org/2000/svg\" height=\"24px\" viewBox=\"0 -960 960 960\">\n",
              "    <path d=\"M120-120v-720h720v720H120Zm60-500h600v-160H180v160Zm220 220h160v-160H400v160Zm0 220h160v-160H400v160ZM180-400h160v-160H180v160Zm440 0h160v-160H620v160ZM180-180h160v-160H180v160Zm440 0h160v-160H620v160Z\"/>\n",
              "  </svg>\n",
              "    </button>\n",
              "\n",
              "  <style>\n",
              "    .colab-df-container {\n",
              "      display:flex;\n",
              "      gap: 12px;\n",
              "    }\n",
              "\n",
              "    .colab-df-convert {\n",
              "      background-color: #E8F0FE;\n",
              "      border: none;\n",
              "      border-radius: 50%;\n",
              "      cursor: pointer;\n",
              "      display: none;\n",
              "      fill: #1967D2;\n",
              "      height: 32px;\n",
              "      padding: 0 0 0 0;\n",
              "      width: 32px;\n",
              "    }\n",
              "\n",
              "    .colab-df-convert:hover {\n",
              "      background-color: #E2EBFA;\n",
              "      box-shadow: 0px 1px 2px rgba(60, 64, 67, 0.3), 0px 1px 3px 1px rgba(60, 64, 67, 0.15);\n",
              "      fill: #174EA6;\n",
              "    }\n",
              "\n",
              "    .colab-df-buttons div {\n",
              "      margin-bottom: 4px;\n",
              "    }\n",
              "\n",
              "    [theme=dark] .colab-df-convert {\n",
              "      background-color: #3B4455;\n",
              "      fill: #D2E3FC;\n",
              "    }\n",
              "\n",
              "    [theme=dark] .colab-df-convert:hover {\n",
              "      background-color: #434B5C;\n",
              "      box-shadow: 0px 1px 3px 1px rgba(0, 0, 0, 0.15);\n",
              "      filter: drop-shadow(0px 1px 2px rgba(0, 0, 0, 0.3));\n",
              "      fill: #FFFFFF;\n",
              "    }\n",
              "  </style>\n",
              "\n",
              "    <script>\n",
              "      const buttonEl =\n",
              "        document.querySelector('#df-4ccb6a4f-0378-45ff-8213-77ca6780758e button.colab-df-convert');\n",
              "      buttonEl.style.display =\n",
              "        google.colab.kernel.accessAllowed ? 'block' : 'none';\n",
              "\n",
              "      async function convertToInteractive(key) {\n",
              "        const element = document.querySelector('#df-4ccb6a4f-0378-45ff-8213-77ca6780758e');\n",
              "        const dataTable =\n",
              "          await google.colab.kernel.invokeFunction('convertToInteractive',\n",
              "                                                    [key], {});\n",
              "        if (!dataTable) return;\n",
              "\n",
              "        const docLinkHtml = 'Like what you see? Visit the ' +\n",
              "          '<a target=\"_blank\" href=https://colab.research.google.com/notebooks/data_table.ipynb>data table notebook</a>'\n",
              "          + ' to learn more about interactive tables.';\n",
              "        element.innerHTML = '';\n",
              "        dataTable['output_type'] = 'display_data';\n",
              "        await google.colab.output.renderOutput(dataTable, element);\n",
              "        const docLink = document.createElement('div');\n",
              "        docLink.innerHTML = docLinkHtml;\n",
              "        element.appendChild(docLink);\n",
              "      }\n",
              "    </script>\n",
              "  </div>\n",
              "\n",
              "\n",
              "    <div id=\"df-3a7b94bc-6c60-4c65-bcd9-07030860f339\">\n",
              "      <button class=\"colab-df-quickchart\" onclick=\"quickchart('df-3a7b94bc-6c60-4c65-bcd9-07030860f339')\"\n",
              "                title=\"Suggest charts\"\n",
              "                style=\"display:none;\">\n",
              "\n",
              "<svg xmlns=\"http://www.w3.org/2000/svg\" height=\"24px\"viewBox=\"0 0 24 24\"\n",
              "     width=\"24px\">\n",
              "    <g>\n",
              "        <path d=\"M19 3H5c-1.1 0-2 .9-2 2v14c0 1.1.9 2 2 2h14c1.1 0 2-.9 2-2V5c0-1.1-.9-2-2-2zM9 17H7v-7h2v7zm4 0h-2V7h2v10zm4 0h-2v-4h2v4z\"/>\n",
              "    </g>\n",
              "</svg>\n",
              "      </button>\n",
              "\n",
              "<style>\n",
              "  .colab-df-quickchart {\n",
              "      --bg-color: #E8F0FE;\n",
              "      --fill-color: #1967D2;\n",
              "      --hover-bg-color: #E2EBFA;\n",
              "      --hover-fill-color: #174EA6;\n",
              "      --disabled-fill-color: #AAA;\n",
              "      --disabled-bg-color: #DDD;\n",
              "  }\n",
              "\n",
              "  [theme=dark] .colab-df-quickchart {\n",
              "      --bg-color: #3B4455;\n",
              "      --fill-color: #D2E3FC;\n",
              "      --hover-bg-color: #434B5C;\n",
              "      --hover-fill-color: #FFFFFF;\n",
              "      --disabled-bg-color: #3B4455;\n",
              "      --disabled-fill-color: #666;\n",
              "  }\n",
              "\n",
              "  .colab-df-quickchart {\n",
              "    background-color: var(--bg-color);\n",
              "    border: none;\n",
              "    border-radius: 50%;\n",
              "    cursor: pointer;\n",
              "    display: none;\n",
              "    fill: var(--fill-color);\n",
              "    height: 32px;\n",
              "    padding: 0;\n",
              "    width: 32px;\n",
              "  }\n",
              "\n",
              "  .colab-df-quickchart:hover {\n",
              "    background-color: var(--hover-bg-color);\n",
              "    box-shadow: 0 1px 2px rgba(60, 64, 67, 0.3), 0 1px 3px 1px rgba(60, 64, 67, 0.15);\n",
              "    fill: var(--button-hover-fill-color);\n",
              "  }\n",
              "\n",
              "  .colab-df-quickchart-complete:disabled,\n",
              "  .colab-df-quickchart-complete:disabled:hover {\n",
              "    background-color: var(--disabled-bg-color);\n",
              "    fill: var(--disabled-fill-color);\n",
              "    box-shadow: none;\n",
              "  }\n",
              "\n",
              "  .colab-df-spinner {\n",
              "    border: 2px solid var(--fill-color);\n",
              "    border-color: transparent;\n",
              "    border-bottom-color: var(--fill-color);\n",
              "    animation:\n",
              "      spin 1s steps(1) infinite;\n",
              "  }\n",
              "\n",
              "  @keyframes spin {\n",
              "    0% {\n",
              "      border-color: transparent;\n",
              "      border-bottom-color: var(--fill-color);\n",
              "      border-left-color: var(--fill-color);\n",
              "    }\n",
              "    20% {\n",
              "      border-color: transparent;\n",
              "      border-left-color: var(--fill-color);\n",
              "      border-top-color: var(--fill-color);\n",
              "    }\n",
              "    30% {\n",
              "      border-color: transparent;\n",
              "      border-left-color: var(--fill-color);\n",
              "      border-top-color: var(--fill-color);\n",
              "      border-right-color: var(--fill-color);\n",
              "    }\n",
              "    40% {\n",
              "      border-color: transparent;\n",
              "      border-right-color: var(--fill-color);\n",
              "      border-top-color: var(--fill-color);\n",
              "    }\n",
              "    60% {\n",
              "      border-color: transparent;\n",
              "      border-right-color: var(--fill-color);\n",
              "    }\n",
              "    80% {\n",
              "      border-color: transparent;\n",
              "      border-right-color: var(--fill-color);\n",
              "      border-bottom-color: var(--fill-color);\n",
              "    }\n",
              "    90% {\n",
              "      border-color: transparent;\n",
              "      border-bottom-color: var(--fill-color);\n",
              "    }\n",
              "  }\n",
              "</style>\n",
              "\n",
              "      <script>\n",
              "        async function quickchart(key) {\n",
              "          const quickchartButtonEl =\n",
              "            document.querySelector('#' + key + ' button');\n",
              "          quickchartButtonEl.disabled = true;  // To prevent multiple clicks.\n",
              "          quickchartButtonEl.classList.add('colab-df-spinner');\n",
              "          try {\n",
              "            const charts = await google.colab.kernel.invokeFunction(\n",
              "                'suggestCharts', [key], {});\n",
              "          } catch (error) {\n",
              "            console.error('Error during call to suggestCharts:', error);\n",
              "          }\n",
              "          quickchartButtonEl.classList.remove('colab-df-spinner');\n",
              "          quickchartButtonEl.classList.add('colab-df-quickchart-complete');\n",
              "        }\n",
              "        (() => {\n",
              "          let quickchartButtonEl =\n",
              "            document.querySelector('#df-3a7b94bc-6c60-4c65-bcd9-07030860f339 button');\n",
              "          quickchartButtonEl.style.display =\n",
              "            google.colab.kernel.accessAllowed ? 'block' : 'none';\n",
              "        })();\n",
              "      </script>\n",
              "    </div>\n",
              "\n",
              "  <div id=\"id_bcf07fce-a57c-4bc8-b700-9da653984775\">\n",
              "    <style>\n",
              "      .colab-df-generate {\n",
              "        background-color: #E8F0FE;\n",
              "        border: none;\n",
              "        border-radius: 50%;\n",
              "        cursor: pointer;\n",
              "        display: none;\n",
              "        fill: #1967D2;\n",
              "        height: 32px;\n",
              "        padding: 0 0 0 0;\n",
              "        width: 32px;\n",
              "      }\n",
              "\n",
              "      .colab-df-generate:hover {\n",
              "        background-color: #E2EBFA;\n",
              "        box-shadow: 0px 1px 2px rgba(60, 64, 67, 0.3), 0px 1px 3px 1px rgba(60, 64, 67, 0.15);\n",
              "        fill: #174EA6;\n",
              "      }\n",
              "\n",
              "      [theme=dark] .colab-df-generate {\n",
              "        background-color: #3B4455;\n",
              "        fill: #D2E3FC;\n",
              "      }\n",
              "\n",
              "      [theme=dark] .colab-df-generate:hover {\n",
              "        background-color: #434B5C;\n",
              "        box-shadow: 0px 1px 3px 1px rgba(0, 0, 0, 0.15);\n",
              "        filter: drop-shadow(0px 1px 2px rgba(0, 0, 0, 0.3));\n",
              "        fill: #FFFFFF;\n",
              "      }\n",
              "    </style>\n",
              "    <button class=\"colab-df-generate\" onclick=\"generateWithVariable('results_train')\"\n",
              "            title=\"Generate code using this dataframe.\"\n",
              "            style=\"display:none;\">\n",
              "\n",
              "  <svg xmlns=\"http://www.w3.org/2000/svg\" height=\"24px\"viewBox=\"0 0 24 24\"\n",
              "       width=\"24px\">\n",
              "    <path d=\"M7,19H8.4L18.45,9,17,7.55,7,17.6ZM5,21V16.75L18.45,3.32a2,2,0,0,1,2.83,0l1.4,1.43a1.91,1.91,0,0,1,.58,1.4,1.91,1.91,0,0,1-.58,1.4L9.25,21ZM18.45,9,17,7.55Zm-12,3A5.31,5.31,0,0,0,4.9,8.1,5.31,5.31,0,0,0,1,6.5,5.31,5.31,0,0,0,4.9,4.9,5.31,5.31,0,0,0,6.5,1,5.31,5.31,0,0,0,8.1,4.9,5.31,5.31,0,0,0,12,6.5,5.46,5.46,0,0,0,6.5,12Z\"/>\n",
              "  </svg>\n",
              "    </button>\n",
              "    <script>\n",
              "      (() => {\n",
              "      const buttonEl =\n",
              "        document.querySelector('#id_bcf07fce-a57c-4bc8-b700-9da653984775 button.colab-df-generate');\n",
              "      buttonEl.style.display =\n",
              "        google.colab.kernel.accessAllowed ? 'block' : 'none';\n",
              "\n",
              "      buttonEl.onclick = () => {\n",
              "        google.colab.notebook.generateWithVariable('results_train');\n",
              "      }\n",
              "      })();\n",
              "    </script>\n",
              "  </div>\n",
              "\n",
              "    </div>\n",
              "  </div>\n"
            ],
            "application/vnd.google.colaboratory.intrinsic+json": {
              "type": "dataframe",
              "variable_name": "results_train",
              "summary": "{\n  \"name\": \"results_train\",\n  \"rows\": 832,\n  \"fields\": [\n    {\n      \"column\": \"actual\",\n      \"properties\": {\n        \"dtype\": \"string\",\n        \"num_unique_values\": 832,\n        \"samples\": [\n          \"bbymy\",\n          \"4exnn\",\n          \"6ydyp\"\n        ],\n        \"semantic_type\": \"\",\n        \"description\": \"\"\n      }\n    },\n    {\n      \"column\": \"prediction\",\n      \"properties\": {\n        \"dtype\": \"string\",\n        \"num_unique_values\": 832,\n        \"samples\": [\n          \"bbymy\",\n          \"4exnn\",\n          \"6ydyp\"\n        ],\n        \"semantic_type\": \"\",\n        \"description\": \"\"\n      }\n    }\n  ]\n}"
            }
          },
          "metadata": {},
          "execution_count": 51
        }
      ]
    },
    {
      "cell_type": "code",
      "source": [
        "text_batch_pred[1]"
      ],
      "metadata": {
        "colab": {
          "base_uri": "https://localhost:8080/",
          "height": 56
        },
        "id": "_6dUp_4zWDPH",
        "outputId": "a202d310-a156-40b7-a253-444a156cacb9"
      },
      "execution_count": 65,
      "outputs": [
        {
          "output_type": "execute_result",
          "data": {
            "text/plain": [
              "'cgcgb'"
            ],
            "application/vnd.google.colaboratory.intrinsic+json": {
              "type": "string"
            }
          },
          "metadata": {},
          "execution_count": 65
        }
      ]
    },
    {
      "cell_type": "code",
      "source": [
        "total_prediction_list[0][0]"
      ],
      "metadata": {
        "colab": {
          "base_uri": "https://localhost:8080/",
          "height": 56
        },
        "id": "cOKntf_Jc6nX",
        "outputId": "66349616-4b39-4273-a8bb-be55e72207ac"
      },
      "execution_count": 66,
      "outputs": [
        {
          "output_type": "execute_result",
          "data": {
            "text/plain": [
              "'mx8bb'"
            ],
            "application/vnd.google.colaboratory.intrinsic+json": {
              "type": "string"
            }
          },
          "metadata": {},
          "execution_count": 66
        }
      ]
    },
    {
      "cell_type": "code",
      "metadata": {
        "colab": {
          "base_uri": "https://localhost:8080/"
        },
        "id": "eff92834",
        "outputId": "d2afdea1-001d-4b56-a971-1be8f54faa00"
      },
      "source": [
        "import itertools\n",
        "\n",
        "# Flatten the list of lists for easier comparison\n",
        "total_test_label_list_flat = list(itertools.chain(*total_test_label_list))\n",
        "total_test_pred_list_flat = list(itertools.chain(*total_test_pred_list))\n",
        "\n",
        "# Calculate accuracy\n",
        "correct_predictions = sum(1 for actual, predicted in zip(total_test_label_list_flat, total_test_pred_list_flat) if actual == predicted)\n",
        "total_predictions = len(total_test_label_list_flat)\n",
        "accuracy = correct_predictions / total_predictions if total_predictions > 0 else 0\n",
        "\n",
        "print(f\"Test Set Accuracy: {accuracy:.4f}\")"
      ],
      "execution_count": 73,
      "outputs": [
        {
          "output_type": "stream",
          "name": "stdout",
          "text": [
            "Test Set Accuracy: 0.9952\n"
          ]
        }
      ]
    },
    {
      "cell_type": "code",
      "source": [
        "misclassified_images = []\n",
        "\n",
        "for actual, predicted in zip(total_test_label_list_flat, total_test_pred_list_flat):\n",
        "    if actual != predicted:\n",
        "        misclassified_images.append({'actual': actual, 'predicted': predicted})\n",
        "\n",
        "print(f\"Number of misclassified images: {len(misclassified_images)}\")\n",
        "if misclassified_images:\n",
        "    print(\"First 5 misclassified images:\")\n",
        "    display(misclassified_images[:5])"
      ],
      "metadata": {
        "colab": {
          "base_uri": "https://localhost:8080/",
          "height": 88
        },
        "id": "6IpDKejjowF5",
        "outputId": "061c3fbf-049b-41e7-ce2c-fe6366adfdac"
      },
      "execution_count": 103,
      "outputs": [
        {
          "output_type": "stream",
          "name": "stdout",
          "text": [
            "Number of misclassified images: 1\n",
            "First 5 misclassified images:\n"
          ]
        },
        {
          "output_type": "display_data",
          "data": {
            "text/plain": [
              "[{'actual': 'wgnwp', 'predicted': 'wgmwp'}]"
            ]
          },
          "metadata": {}
        }
      ]
    },
    {
      "cell_type": "code",
      "metadata": {
        "colab": {
          "base_uri": "https://localhost:8080/",
          "height": 88
        },
        "id": "8bdc35ca",
        "outputId": "41aa3cc4-2782-4381-ae77-3e1049bc923e"
      },
      "source": [
        "import matplotlib.pyplot as plt\n",
        "from PIL import Image\n",
        "\n",
        "for misclassified in misclassified_images:\n",
        "  image_path = None\n",
        "  for image in test_set:\n",
        "    # print(image.stem)\n",
        "    if misclassified['actual'] == image.stem:\n",
        "      image_path = image;\n",
        "\n",
        "plot = Image.open(image_path)\n",
        "plot"
      ],
      "execution_count": 102,
      "outputs": [
        {
          "output_type": "execute_result",
          "data": {
            "text/plain": [
              "<PIL.PngImagePlugin.PngImageFile image mode=RGBA size=200x50>"
            ],
            "image/png": "[encoded data removed]"
          },
          "metadata": {},
          "execution_count": 102
        }
      ]
    },
    {
      "cell_type": "markdown",
      "metadata": {
        "id": "23908e0e"
      },
      "source": [
        "**Reasoning**:\n",
        "Use the actual labels and predictions from the test set to compute precision, recall, and F1-score for each character using the `classification_report` function.\n",
        "\n"
      ]
    },
    {
      "cell_type": "code",
      "metadata": {
        "colab": {
          "base_uri": "https://localhost:8080/"
        },
        "id": "35037d59",
        "outputId": "4f40236d-5f22-4b72-cda6-f5501dfb795d"
      },
      "source": [
        "from sklearn.metrics import classification_report\n",
        "import itertools\n",
        "\n",
        "total_test_label_list_chars = list(itertools.chain(*total_test_label_list_flat))\n",
        "total_test_pred_list_chars = list(itertools.chain(*total_test_pred_list_flat))\n",
        "\n",
        "report = classification_report(total_test_label_list_chars, total_test_pred_list_chars, labels=vocabulary, zero_division=0)\n",
        "\n",
        "print(report)"
      ],
      "execution_count": 101,
      "outputs": [
        {
          "output_type": "stream",
          "name": "stdout",
          "text": [
            "              precision    recall  f1-score   support\n",
            "\n",
            "           -       0.00      0.00      0.00         0\n",
            "           2       1.00      1.00      1.00        47\n",
            "           3       1.00      1.00      1.00        53\n",
            "           4       1.00      1.00      1.00        41\n",
            "           5       1.00      1.00      1.00        58\n",
            "           6       1.00      1.00      1.00        42\n",
            "           7       1.00      1.00      1.00        52\n",
            "           8       1.00      1.00      1.00        54\n",
            "           b       1.00      1.00      1.00        57\n",
            "           c       1.00      1.00      1.00        49\n",
            "           d       1.00      1.00      1.00        50\n",
            "           e       1.00      1.00      1.00        38\n",
            "           f       1.00      1.00      1.00        59\n",
            "           g       1.00      1.00      1.00        50\n",
            "           m       0.98      1.00      0.99        62\n",
            "           n       1.00      0.99      1.00       111\n",
            "           p       1.00      1.00      1.00        54\n",
            "           w       1.00      1.00      1.00        59\n",
            "           x       1.00      1.00      1.00        59\n",
            "           y       1.00      1.00      1.00        45\n",
            "\n",
            "    accuracy                           1.00      1040\n",
            "   macro avg       0.95      0.95      0.95      1040\n",
            "weighted avg       1.00      1.00      1.00      1040\n",
            "\n"
          ]
        }
      ]
    }
  ]
}