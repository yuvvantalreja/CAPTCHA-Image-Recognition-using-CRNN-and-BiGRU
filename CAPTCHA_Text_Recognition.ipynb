{
  "nbformat": 4,
  "nbformat_minor": 0,
  "metadata": {
    "colab": {
      "provenance": [],
      "gpuType": "T4",
      "authorship_tag": "ABX9TyM6x3lWcito3Q3U27GtPO2b",
      "include_colab_link": true
    },
    "kernelspec": {
      "name": "python3",
      "display_name": "Python 3"
    },
    "language_info": {
      "name": "python"
    },
    "widgets": {
      "application/vnd.jupyter.widget-state+json": {
        "02888ea93876448b80a704a685ba070b": {
          "model_module": "@jupyter-widgets/controls",
          "model_name": "HBoxModel",
          "model_module_version": "1.5.0",
          "state": {
            "_dom_classes": [],
            "_model_module": "@jupyter-widgets/controls",
            "_model_module_version": "1.5.0",
            "_model_name": "HBoxModel",
            "_view_count": null,
            "_view_module": "@jupyter-widgets/controls",
            "_view_module_version": "1.5.0",
            "_view_name": "HBoxView",
            "box_style": "",
            "children": [
              "IPY_MODEL_00f39de1f10f4a27a1d5ea299f2f5f1f",
              "IPY_MODEL_49128714677a403b85e601bf7b054e3c",
              "IPY_MODEL_a2a61e6e56084b9189069adb216060cd"
            ],
            "layout": "IPY_MODEL_9ead9fba204649c79ce3f9fedb5f1b96"
          }
        },
        "00f39de1f10f4a27a1d5ea299f2f5f1f": {
          "model_module": "@jupyter-widgets/controls",
          "model_name": "HTMLModel",
          "model_module_version": "1.5.0",
          "state": {
            "_dom_classes": [],
            "_model_module": "@jupyter-widgets/controls",
            "_model_module_version": "1.5.0",
            "_model_name": "HTMLModel",
            "_view_count": null,
            "_view_module": "@jupyter-widgets/controls",
            "_view_module_version": "1.5.0",
            "_view_name": "HTMLView",
            "description": "",
            "description_tooltip": null,
            "layout": "IPY_MODEL_691eb83d647f4302bcce25d647b914a8",
            "placeholder": "​",
            "style": "IPY_MODEL_02622536f1f743dda6fa7a6941f41222",
            "value": "100%"
          }
        },
        "49128714677a403b85e601bf7b054e3c": {
          "model_module": "@jupyter-widgets/controls",
          "model_name": "FloatProgressModel",
          "model_module_version": "1.5.0",
          "state": {
            "_dom_classes": [],
            "_model_module": "@jupyter-widgets/controls",
            "_model_module_version": "1.5.0",
            "_model_name": "FloatProgressModel",
            "_view_count": null,
            "_view_module": "@jupyter-widgets/controls",
            "_view_module_version": "1.5.0",
            "_view_name": "ProgressView",
            "bar_style": "success",
            "description": "",
            "description_tooltip": null,
            "layout": "IPY_MODEL_3f6c36ccafe64460ac3810b1e5180a9e",
            "max": 13,
            "min": 0,
            "orientation": "horizontal",
            "style": "IPY_MODEL_985a01e7592b49eeb3593798c6412ee6",
            "value": 13
          }
        },
        "a2a61e6e56084b9189069adb216060cd": {
          "model_module": "@jupyter-widgets/controls",
          "model_name": "HTMLModel",
          "model_module_version": "1.5.0",
          "state": {
            "_dom_classes": [],
            "_model_module": "@jupyter-widgets/controls",
            "_model_module_version": "1.5.0",
            "_model_name": "HTMLModel",
            "_view_count": null,
            "_view_module": "@jupyter-widgets/controls",
            "_view_module_version": "1.5.0",
            "_view_name": "HTMLView",
            "description": "",
            "description_tooltip": null,
            "layout": "IPY_MODEL_f8108dca5c15443094e436d85a545627",
            "placeholder": "​",
            "style": "IPY_MODEL_ce3414f65ab14eea97aeb6a748b3c377",
            "value": " 13/13 [00:00&lt;00:00, 27.42it/s]"
          }
        },
        "9ead9fba204649c79ce3f9fedb5f1b96": {
          "model_module": "@jupyter-widgets/base",
          "model_name": "LayoutModel",
          "model_module_version": "1.2.0",
          "state": {
            "_model_module": "@jupyter-widgets/base",
            "_model_module_version": "1.2.0",
            "_model_name": "LayoutModel",
            "_view_count": null,
            "_view_module": "@jupyter-widgets/base",
            "_view_module_version": "1.2.0",
            "_view_name": "LayoutView",
            "align_content": null,
            "align_items": null,
            "align_self": null,
            "border": null,
            "bottom": null,
            "display": null,
            "flex": null,
            "flex_flow": null,
            "grid_area": null,
            "grid_auto_columns": null,
            "grid_auto_flow": null,
            "grid_auto_rows": null,
            "grid_column": null,
            "grid_gap": null,
            "grid_row": null,
            "grid_template_areas": null,
            "grid_template_columns": null,
            "grid_template_rows": null,
            "height": null,
            "justify_content": null,
            "justify_items": null,
            "left": null,
            "margin": null,
            "max_height": null,
            "max_width": null,
            "min_height": null,
            "min_width": null,
            "object_fit": null,
            "object_position": null,
            "order": null,
            "overflow": null,
            "overflow_x": null,
            "overflow_y": null,
            "padding": null,
            "right": null,
            "top": null,
            "visibility": null,
            "width": null
          }
        },
        "691eb83d647f4302bcce25d647b914a8": {
          "model_module": "@jupyter-widgets/base",
          "model_name": "LayoutModel",
          "model_module_version": "1.2.0",
          "state": {
            "_model_module": "@jupyter-widgets/base",
            "_model_module_version": "1.2.0",
            "_model_name": "LayoutModel",
            "_view_count": null,
            "_view_module": "@jupyter-widgets/base",
            "_view_module_version": "1.2.0",
            "_view_name": "LayoutView",
            "align_content": null,
            "align_items": null,
            "align_self": null,
            "border": null,
            "bottom": null,
            "display": null,
            "flex": null,
            "flex_flow": null,
            "grid_area": null,
            "grid_auto_columns": null,
            "grid_auto_flow": null,
            "grid_auto_rows": null,
            "grid_column": null,
            "grid_gap": null,
            "grid_row": null,
            "grid_template_areas": null,
            "grid_template_columns": null,
            "grid_template_rows": null,
            "height": null,
            "justify_content": null,
            "justify_items": null,
            "left": null,
            "margin": null,
            "max_height": null,
            "max_width": null,
            "min_height": null,
            "min_width": null,
            "object_fit": null,
            "object_position": null,
            "order": null,
            "overflow": null,
            "overflow_x": null,
            "overflow_y": null,
            "padding": null,
            "right": null,
            "top": null,
            "visibility": null,
            "width": null
          }
        },
        "02622536f1f743dda6fa7a6941f41222": {
          "model_module": "@jupyter-widgets/controls",
          "model_name": "DescriptionStyleModel",
          "model_module_version": "1.5.0",
          "state": {
            "_model_module": "@jupyter-widgets/controls",
            "_model_module_version": "1.5.0",
            "_model_name": "DescriptionStyleModel",
            "_view_count": null,
            "_view_module": "@jupyter-widgets/base",
            "_view_module_version": "1.2.0",
            "_view_name": "StyleView",
            "description_width": ""
          }
        },
        "3f6c36ccafe64460ac3810b1e5180a9e": {
          "model_module": "@jupyter-widgets/base",
          "model_name": "LayoutModel",
          "model_module_version": "1.2.0",
          "state": {
            "_model_module": "@jupyter-widgets/base",
            "_model_module_version": "1.2.0",
            "_model_name": "LayoutModel",
            "_view_count": null,
            "_view_module": "@jupyter-widgets/base",
            "_view_module_version": "1.2.0",
            "_view_name": "LayoutView",
            "align_content": null,
            "align_items": null,
            "align_self": null,
            "border": null,
            "bottom": null,
            "display": null,
            "flex": null,
            "flex_flow": null,
            "grid_area": null,
            "grid_auto_columns": null,
            "grid_auto_flow": null,
            "grid_auto_rows": null,
            "grid_column": null,
            "grid_gap": null,
            "grid_row": null,
            "grid_template_areas": null,
            "grid_template_columns": null,
            "grid_template_rows": null,
            "height": null,
            "justify_content": null,
            "justify_items": null,
            "left": null,
            "margin": null,
            "max_height": null,
            "max_width": null,
            "min_height": null,
            "min_width": null,
            "object_fit": null,
            "object_position": null,
            "order": null,
            "overflow": null,
            "overflow_x": null,
            "overflow_y": null,
            "padding": null,
            "right": null,
            "top": null,
            "visibility": null,
            "width": null
          }
        },
        "985a01e7592b49eeb3593798c6412ee6": {
          "model_module": "@jupyter-widgets/controls",
          "model_name": "ProgressStyleModel",
          "model_module_version": "1.5.0",
          "state": {
            "_model_module": "@jupyter-widgets/controls",
            "_model_module_version": "1.5.0",
            "_model_name": "ProgressStyleModel",
            "_view_count": null,
            "_view_module": "@jupyter-widgets/base",
            "_view_module_version": "1.2.0",
            "_view_name": "StyleView",
            "bar_color": null,
            "description_width": ""
          }
        },
        "f8108dca5c15443094e436d85a545627": {
          "model_module": "@jupyter-widgets/base",
          "model_name": "LayoutModel",
          "model_module_version": "1.2.0",
          "state": {
            "_model_module": "@jupyter-widgets/base",
            "_model_module_version": "1.2.0",
            "_model_name": "LayoutModel",
            "_view_count": null,
            "_view_module": "@jupyter-widgets/base",
            "_view_module_version": "1.2.0",
            "_view_name": "LayoutView",
            "align_content": null,
            "align_items": null,
            "align_self": null,
            "border": null,
            "bottom": null,
            "display": null,
            "flex": null,
            "flex_flow": null,
            "grid_area": null,
            "grid_auto_columns": null,
            "grid_auto_flow": null,
            "grid_auto_rows": null,
            "grid_column": null,
            "grid_gap": null,
            "grid_row": null,
            "grid_template_areas": null,
            "grid_template_columns": null,
            "grid_template_rows": null,
            "height": null,
            "justify_content": null,
            "justify_items": null,
            "left": null,
            "margin": null,
            "max_height": null,
            "max_width": null,
            "min_height": null,
            "min_width": null,
            "object_fit": null,
            "object_position": null,
            "order": null,
            "overflow": null,
            "overflow_x": null,
            "overflow_y": null,
            "padding": null,
            "right": null,
            "top": null,
            "visibility": null,
            "width": null
          }
        },
        "ce3414f65ab14eea97aeb6a748b3c377": {
          "model_module": "@jupyter-widgets/controls",
          "model_name": "DescriptionStyleModel",
          "model_module_version": "1.5.0",
          "state": {
            "_model_module": "@jupyter-widgets/controls",
            "_model_module_version": "1.5.0",
            "_model_name": "DescriptionStyleModel",
            "_view_count": null,
            "_view_module": "@jupyter-widgets/base",
            "_view_module_version": "1.2.0",
            "_view_name": "StyleView",
            "description_width": ""
          }
        },
        "67faea47e8d1461b93d684ee12b691dd": {
          "model_module": "@jupyter-widgets/controls",
          "model_name": "HBoxModel",
          "model_module_version": "1.5.0",
          "state": {
            "_dom_classes": [],
            "_model_module": "@jupyter-widgets/controls",
            "_model_module_version": "1.5.0",
            "_model_name": "HBoxModel",
            "_view_count": null,
            "_view_module": "@jupyter-widgets/controls",
            "_view_module_version": "1.5.0",
            "_view_name": "HBoxView",
            "box_style": "",
            "children": [
              "IPY_MODEL_4a3579f03bdf4ffdb66f908e1dfcf3fb",
              "IPY_MODEL_492deb0eeade44898cacbde8789b9c6b",
              "IPY_MODEL_1768d1fbffae4a129e2638f352635731"
            ],
            "layout": "IPY_MODEL_ccba492cb18d4d19903c50bc1b1a8b9f"
          }
        },
        "4a3579f03bdf4ffdb66f908e1dfcf3fb": {
          "model_module": "@jupyter-widgets/controls",
          "model_name": "HTMLModel",
          "model_module_version": "1.5.0",
          "state": {
            "_dom_classes": [],
            "_model_module": "@jupyter-widgets/controls",
            "_model_module_version": "1.5.0",
            "_model_name": "HTMLModel",
            "_view_count": null,
            "_view_module": "@jupyter-widgets/controls",
            "_view_module_version": "1.5.0",
            "_view_name": "HTMLView",
            "description": "",
            "description_tooltip": null,
            "layout": "IPY_MODEL_5b80e2d604ac404e8b330f73e92c9002",
            "placeholder": "​",
            "style": "IPY_MODEL_97136f247efe4cbc8768d5b10e7288a0",
            "value": "100%"
          }
        },
        "492deb0eeade44898cacbde8789b9c6b": {
          "model_module": "@jupyter-widgets/controls",
          "model_name": "FloatProgressModel",
          "model_module_version": "1.5.0",
          "state": {
            "_dom_classes": [],
            "_model_module": "@jupyter-widgets/controls",
            "_model_module_version": "1.5.0",
            "_model_name": "FloatProgressModel",
            "_view_count": null,
            "_view_module": "@jupyter-widgets/controls",
            "_view_module_version": "1.5.0",
            "_view_name": "ProgressView",
            "bar_style": "success",
            "description": "",
            "description_tooltip": null,
            "layout": "IPY_MODEL_4bcf72b927ef404cbc67718115d0fb1c",
            "max": 13,
            "min": 0,
            "orientation": "horizontal",
            "style": "IPY_MODEL_8ce394a01b05421583613044cd53b36f",
            "value": 13
          }
        },
        "1768d1fbffae4a129e2638f352635731": {
          "model_module": "@jupyter-widgets/controls",
          "model_name": "HTMLModel",
          "model_module_version": "1.5.0",
          "state": {
            "_dom_classes": [],
            "_model_module": "@jupyter-widgets/controls",
            "_model_module_version": "1.5.0",
            "_model_name": "HTMLModel",
            "_view_count": null,
            "_view_module": "@jupyter-widgets/controls",
            "_view_module_version": "1.5.0",
            "_view_name": "HTMLView",
            "description": "",
            "description_tooltip": null,
            "layout": "IPY_MODEL_5028019d36804a7da7f79cb9749a7b65",
            "placeholder": "​",
            "style": "IPY_MODEL_61aa842df36d463a9f58d945cf3235f6",
            "value": " 13/13 [00:00&lt;00:00, 27.13it/s]"
          }
        },
        "ccba492cb18d4d19903c50bc1b1a8b9f": {
          "model_module": "@jupyter-widgets/base",
          "model_name": "LayoutModel",
          "model_module_version": "1.2.0",
          "state": {
            "_model_module": "@jupyter-widgets/base",
            "_model_module_version": "1.2.0",
            "_model_name": "LayoutModel",
            "_view_count": null,
            "_view_module": "@jupyter-widgets/base",
            "_view_module_version": "1.2.0",
            "_view_name": "LayoutView",
            "align_content": null,
            "align_items": null,
            "align_self": null,
            "border": null,
            "bottom": null,
            "display": null,
            "flex": null,
            "flex_flow": null,
            "grid_area": null,
            "grid_auto_columns": null,
            "grid_auto_flow": null,
            "grid_auto_rows": null,
            "grid_column": null,
            "grid_gap": null,
            "grid_row": null,
            "grid_template_areas": null,
            "grid_template_columns": null,
            "grid_template_rows": null,
            "height": null,
            "justify_content": null,
            "justify_items": null,
            "left": null,
            "margin": null,
            "max_height": null,
            "max_width": null,
            "min_height": null,
            "min_width": null,
            "object_fit": null,
            "object_position": null,
            "order": null,
            "overflow": null,
            "overflow_x": null,
            "overflow_y": null,
            "padding": null,
            "right": null,
            "top": null,
            "visibility": null,
            "width": null
          }
        },
        "5b80e2d604ac404e8b330f73e92c9002": {
          "model_module": "@jupyter-widgets/base",
          "model_name": "LayoutModel",
          "model_module_version": "1.2.0",
          "state": {
            "_model_module": "@jupyter-widgets/base",
            "_model_module_version": "1.2.0",
            "_model_name": "LayoutModel",
            "_view_count": null,
            "_view_module": "@jupyter-widgets/base",
            "_view_module_version": "1.2.0",
            "_view_name": "LayoutView",
            "align_content": null,
            "align_items": null,
            "align_self": null,
            "border": null,
            "bottom": null,
            "display": null,
            "flex": null,
            "flex_flow": null,
            "grid_area": null,
            "grid_auto_columns": null,
            "grid_auto_flow": null,
            "grid_auto_rows": null,
            "grid_column": null,
            "grid_gap": null,
            "grid_row": null,
            "grid_template_areas": null,
            "grid_template_columns": null,
            "grid_template_rows": null,
            "height": null,
            "justify_content": null,
            "justify_items": null,
            "left": null,
            "margin": null,
            "max_height": null,
            "max_width": null,
            "min_height": null,
            "min_width": null,
            "object_fit": null,
            "object_position": null,
            "order": null,
            "overflow": null,
            "overflow_x": null,
            "overflow_y": null,
            "padding": null,
            "right": null,
            "top": null,
            "visibility": null,
            "width": null
          }
        },
        "97136f247efe4cbc8768d5b10e7288a0": {
          "model_module": "@jupyter-widgets/controls",
          "model_name": "DescriptionStyleModel",
          "model_module_version": "1.5.0",
          "state": {
            "_model_module": "@jupyter-widgets/controls",
            "_model_module_version": "1.5.0",
            "_model_name": "DescriptionStyleModel",
            "_view_count": null,
            "_view_module": "@jupyter-widgets/base",
            "_view_module_version": "1.2.0",
            "_view_name": "StyleView",
            "description_width": ""
          }
        },
        "4bcf72b927ef404cbc67718115d0fb1c": {
          "model_module": "@jupyter-widgets/base",
          "model_name": "LayoutModel",
          "model_module_version": "1.2.0",
          "state": {
            "_model_module": "@jupyter-widgets/base",
            "_model_module_version": "1.2.0",
            "_model_name": "LayoutModel",
            "_view_count": null,
            "_view_module": "@jupyter-widgets/base",
            "_view_module_version": "1.2.0",
            "_view_name": "LayoutView",
            "align_content": null,
            "align_items": null,
            "align_self": null,
            "border": null,
            "bottom": null,
            "display": null,
            "flex": null,
            "flex_flow": null,
            "grid_area": null,
            "grid_auto_columns": null,
            "grid_auto_flow": null,
            "grid_auto_rows": null,
            "grid_column": null,
            "grid_gap": null,
            "grid_row": null,
            "grid_template_areas": null,
            "grid_template_columns": null,
            "grid_template_rows": null,
            "height": null,
            "justify_content": null,
            "justify_items": null,
            "left": null,
            "margin": null,
            "max_height": null,
            "max_width": null,
            "min_height": null,
            "min_width": null,
            "object_fit": null,
            "object_position": null,
            "order": null,
            "overflow": null,
            "overflow_x": null,
            "overflow_y": null,
            "padding": null,
            "right": null,
            "top": null,
            "visibility": null,
            "width": null
          }
        },
        "8ce394a01b05421583613044cd53b36f": {
          "model_module": "@jupyter-widgets/controls",
          "model_name": "ProgressStyleModel",
          "model_module_version": "1.5.0",
          "state": {
            "_model_module": "@jupyter-widgets/controls",
            "_model_module_version": "1.5.0",
            "_model_name": "ProgressStyleModel",
            "_view_count": null,
            "_view_module": "@jupyter-widgets/base",
            "_view_module_version": "1.2.0",
            "_view_name": "StyleView",
            "bar_color": null,
            "description_width": ""
          }
        },
        "5028019d36804a7da7f79cb9749a7b65": {
          "model_module": "@jupyter-widgets/base",
          "model_name": "LayoutModel",
          "model_module_version": "1.2.0",
          "state": {
            "_model_module": "@jupyter-widgets/base",
            "_model_module_version": "1.2.0",
            "_model_name": "LayoutModel",
            "_view_count": null,
            "_view_module": "@jupyter-widgets/base",
            "_view_module_version": "1.2.0",
            "_view_name": "LayoutView",
            "align_content": null,
            "align_items": null,
            "align_self": null,
            "border": null,
            "bottom": null,
            "display": null,
            "flex": null,
            "flex_flow": null,
            "grid_area": null,
            "grid_auto_columns": null,
            "grid_auto_flow": null,
            "grid_auto_rows": null,
            "grid_column": null,
            "grid_gap": null,
            "grid_row": null,
            "grid_template_areas": null,
            "grid_template_columns": null,
            "grid_template_rows": null,
            "height": null,
            "justify_content": null,
            "justify_items": null,
            "left": null,
            "margin": null,
            "max_height": null,
            "max_width": null,
            "min_height": null,
            "min_width": null,
            "object_fit": null,
            "object_position": null,
            "order": null,
            "overflow": null,
            "overflow_x": null,
            "overflow_y": null,
            "padding": null,
            "right": null,
            "top": null,
            "visibility": null,
            "width": null
          }
        },
        "61aa842df36d463a9f58d945cf3235f6": {
          "model_module": "@jupyter-widgets/controls",
          "model_name": "DescriptionStyleModel",
          "model_module_version": "1.5.0",
          "state": {
            "_model_module": "@jupyter-widgets/controls",
            "_model_module_version": "1.5.0",
            "_model_name": "DescriptionStyleModel",
            "_view_count": null,
            "_view_module": "@jupyter-widgets/base",
            "_view_module_version": "1.2.0",
            "_view_name": "StyleView",
            "description_width": ""
          }
        },
        "95e143c12ef64decb6a9c2ef604fd821": {
          "model_module": "@jupyter-widgets/controls",
          "model_name": "HBoxModel",
          "model_module_version": "1.5.0",
          "state": {
            "_dom_classes": [],
            "_model_module": "@jupyter-widgets/controls",
            "_model_module_version": "1.5.0",
            "_model_name": "HBoxModel",
            "_view_count": null,
            "_view_module": "@jupyter-widgets/controls",
            "_view_module_version": "1.5.0",
            "_view_name": "HBoxView",
            "box_style": "",
            "children": [
              "IPY_MODEL_6a62cc8550814df893753e6163088302",
              "IPY_MODEL_661c6bde14814865a6db0348352f8147",
              "IPY_MODEL_69cc0cc027db45dc98f5a0258b019e11"
            ],
            "layout": "IPY_MODEL_8c647b652fed49c482fc91c1039d3855"
          }
        },
        "6a62cc8550814df893753e6163088302": {
          "model_module": "@jupyter-widgets/controls",
          "model_name": "HTMLModel",
          "model_module_version": "1.5.0",
          "state": {
            "_dom_classes": [],
            "_model_module": "@jupyter-widgets/controls",
            "_model_module_version": "1.5.0",
            "_model_name": "HTMLModel",
            "_view_count": null,
            "_view_module": "@jupyter-widgets/controls",
            "_view_module_version": "1.5.0",
            "_view_name": "HTMLView",
            "description": "",
            "description_tooltip": null,
            "layout": "IPY_MODEL_ab87eb4bc4644c0eac83673aa5f412b8",
            "placeholder": "​",
            "style": "IPY_MODEL_51bda8f499994d4a980eb8fa2bc69eaf",
            "value": "100%"
          }
        },
        "661c6bde14814865a6db0348352f8147": {
          "model_module": "@jupyter-widgets/controls",
          "model_name": "FloatProgressModel",
          "model_module_version": "1.5.0",
          "state": {
            "_dom_classes": [],
            "_model_module": "@jupyter-widgets/controls",
            "_model_module_version": "1.5.0",
            "_model_name": "FloatProgressModel",
            "_view_count": null,
            "_view_module": "@jupyter-widgets/controls",
            "_view_module_version": "1.5.0",
            "_view_name": "ProgressView",
            "bar_style": "success",
            "description": "",
            "description_tooltip": null,
            "layout": "IPY_MODEL_b427d736a3ca446c9c0b89f05355b265",
            "max": 52,
            "min": 0,
            "orientation": "horizontal",
            "style": "IPY_MODEL_88f481749a3c4247a9f86a87a6203185",
            "value": 52
          }
        },
        "69cc0cc027db45dc98f5a0258b019e11": {
          "model_module": "@jupyter-widgets/controls",
          "model_name": "HTMLModel",
          "model_module_version": "1.5.0",
          "state": {
            "_dom_classes": [],
            "_model_module": "@jupyter-widgets/controls",
            "_model_module_version": "1.5.0",
            "_model_name": "HTMLModel",
            "_view_count": null,
            "_view_module": "@jupyter-widgets/controls",
            "_view_module_version": "1.5.0",
            "_view_name": "HTMLView",
            "description": "",
            "description_tooltip": null,
            "layout": "IPY_MODEL_23dfa8aa6d2b4c769a76e6859723a15e",
            "placeholder": "​",
            "style": "IPY_MODEL_ea586ec95b2346c1badb57ea6e33d2ab",
            "value": " 52/52 [00:02&lt;00:00, 27.81it/s]"
          }
        },
        "8c647b652fed49c482fc91c1039d3855": {
          "model_module": "@jupyter-widgets/base",
          "model_name": "LayoutModel",
          "model_module_version": "1.2.0",
          "state": {
            "_model_module": "@jupyter-widgets/base",
            "_model_module_version": "1.2.0",
            "_model_name": "LayoutModel",
            "_view_count": null,
            "_view_module": "@jupyter-widgets/base",
            "_view_module_version": "1.2.0",
            "_view_name": "LayoutView",
            "align_content": null,
            "align_items": null,
            "align_self": null,
            "border": null,
            "bottom": null,
            "display": null,
            "flex": null,
            "flex_flow": null,
            "grid_area": null,
            "grid_auto_columns": null,
            "grid_auto_flow": null,
            "grid_auto_rows": null,
            "grid_column": null,
            "grid_gap": null,
            "grid_row": null,
            "grid_template_areas": null,
            "grid_template_columns": null,
            "grid_template_rows": null,
            "height": null,
            "justify_content": null,
            "justify_items": null,
            "left": null,
            "margin": null,
            "max_height": null,
            "max_width": null,
            "min_height": null,
            "min_width": null,
            "object_fit": null,
            "object_position": null,
            "order": null,
            "overflow": null,
            "overflow_x": null,
            "overflow_y": null,
            "padding": null,
            "right": null,
            "top": null,
            "visibility": null,
            "width": null
          }
        },
        "ab87eb4bc4644c0eac83673aa5f412b8": {
          "model_module": "@jupyter-widgets/base",
          "model_name": "LayoutModel",
          "model_module_version": "1.2.0",
          "state": {
            "_model_module": "@jupyter-widgets/base",
            "_model_module_version": "1.2.0",
            "_model_name": "LayoutModel",
            "_view_count": null,
            "_view_module": "@jupyter-widgets/base",
            "_view_module_version": "1.2.0",
            "_view_name": "LayoutView",
            "align_content": null,
            "align_items": null,
            "align_self": null,
            "border": null,
            "bottom": null,
            "display": null,
            "flex": null,
            "flex_flow": null,
            "grid_area": null,
            "grid_auto_columns": null,
            "grid_auto_flow": null,
            "grid_auto_rows": null,
            "grid_column": null,
            "grid_gap": null,
            "grid_row": null,
            "grid_template_areas": null,
            "grid_template_columns": null,
            "grid_template_rows": null,
            "height": null,
            "justify_content": null,
            "justify_items": null,
            "left": null,
            "margin": null,
            "max_height": null,
            "max_width": null,
            "min_height": null,
            "min_width": null,
            "object_fit": null,
            "object_position": null,
            "order": null,
            "overflow": null,
            "overflow_x": null,
            "overflow_y": null,
            "padding": null,
            "right": null,
            "top": null,
            "visibility": null,
            "width": null
          }
        },
        "51bda8f499994d4a980eb8fa2bc69eaf": {
          "model_module": "@jupyter-widgets/controls",
          "model_name": "DescriptionStyleModel",
          "model_module_version": "1.5.0",
          "state": {
            "_model_module": "@jupyter-widgets/controls",
            "_model_module_version": "1.5.0",
            "_model_name": "DescriptionStyleModel",
            "_view_count": null,
            "_view_module": "@jupyter-widgets/base",
            "_view_module_version": "1.2.0",
            "_view_name": "StyleView",
            "description_width": ""
          }
        },
        "b427d736a3ca446c9c0b89f05355b265": {
          "model_module": "@jupyter-widgets/base",
          "model_name": "LayoutModel",
          "model_module_version": "1.2.0",
          "state": {
            "_model_module": "@jupyter-widgets/base",
            "_model_module_version": "1.2.0",
            "_model_name": "LayoutModel",
            "_view_count": null,
            "_view_module": "@jupyter-widgets/base",
            "_view_module_version": "1.2.0",
            "_view_name": "LayoutView",
            "align_content": null,
            "align_items": null,
            "align_self": null,
            "border": null,
            "bottom": null,
            "display": null,
            "flex": null,
            "flex_flow": null,
            "grid_area": null,
            "grid_auto_columns": null,
            "grid_auto_flow": null,
            "grid_auto_rows": null,
            "grid_column": null,
            "grid_gap": null,
            "grid_row": null,
            "grid_template_areas": null,
            "grid_template_columns": null,
            "grid_template_rows": null,
            "height": null,
            "justify_content": null,
            "justify_items": null,
            "left": null,
            "margin": null,
            "max_height": null,
            "max_width": null,
            "min_height": null,
            "min_width": null,
            "object_fit": null,
            "object_position": null,
            "order": null,
            "overflow": null,
            "overflow_x": null,
            "overflow_y": null,
            "padding": null,
            "right": null,
            "top": null,
            "visibility": null,
            "width": null
          }
        },
        "88f481749a3c4247a9f86a87a6203185": {
          "model_module": "@jupyter-widgets/controls",
          "model_name": "ProgressStyleModel",
          "model_module_version": "1.5.0",
          "state": {
            "_model_module": "@jupyter-widgets/controls",
            "_model_module_version": "1.5.0",
            "_model_name": "ProgressStyleModel",
            "_view_count": null,
            "_view_module": "@jupyter-widgets/base",
            "_view_module_version": "1.2.0",
            "_view_name": "StyleView",
            "bar_color": null,
            "description_width": ""
          }
        },
        "23dfa8aa6d2b4c769a76e6859723a15e": {
          "model_module": "@jupyter-widgets/base",
          "model_name": "LayoutModel",
          "model_module_version": "1.2.0",
          "state": {
            "_model_module": "@jupyter-widgets/base",
            "_model_module_version": "1.2.0",
            "_model_name": "LayoutModel",
            "_view_count": null,
            "_view_module": "@jupyter-widgets/base",
            "_view_module_version": "1.2.0",
            "_view_name": "LayoutView",
            "align_content": null,
            "align_items": null,
            "align_self": null,
            "border": null,
            "bottom": null,
            "display": null,
            "flex": null,
            "flex_flow": null,
            "grid_area": null,
            "grid_auto_columns": null,
            "grid_auto_flow": null,
            "grid_auto_rows": null,
            "grid_column": null,
            "grid_gap": null,
            "grid_row": null,
            "grid_template_areas": null,
            "grid_template_columns": null,
            "grid_template_rows": null,
            "height": null,
            "justify_content": null,
            "justify_items": null,
            "left": null,
            "margin": null,
            "max_height": null,
            "max_width": null,
            "min_height": null,
            "min_width": null,
            "object_fit": null,
            "object_position": null,
            "order": null,
            "overflow": null,
            "overflow_x": null,
            "overflow_y": null,
            "padding": null,
            "right": null,
            "top": null,
            "visibility": null,
            "width": null
          }
        },
        "ea586ec95b2346c1badb57ea6e33d2ab": {
          "model_module": "@jupyter-widgets/controls",
          "model_name": "DescriptionStyleModel",
          "model_module_version": "1.5.0",
          "state": {
            "_model_module": "@jupyter-widgets/controls",
            "_model_module_version": "1.5.0",
            "_model_name": "DescriptionStyleModel",
            "_view_count": null,
            "_view_module": "@jupyter-widgets/base",
            "_view_module_version": "1.2.0",
            "_view_name": "StyleView",
            "description_width": ""
          }
        }
      }
    },
    "accelerator": "GPU"
  },
  "cells": [
    {
      "cell_type": "markdown",
      "metadata": {
        "id": "view-in-github",
        "colab_type": "text"
      },
      "source": [
        "<a href=\"https://colab.research.google.com/github/yuvvantalreja/CAPTCHA-Image-Recognition-using-CRNN-and-BiGRU/blob/main/CAPTCHA_Text_Recognition.ipynb\" target=\"_parent\"><img src=\"https://colab.research.google.com/assets/colab-badge.svg\" alt=\"Open In Colab\"/></a>"
      ]
    },
    {
      "cell_type": "markdown",
      "source": [
        "## Importing Libraries"
      ],
      "metadata": {
        "id": "N6yRbgwJsRB3"
      }
    },
    {
      "cell_type": "code",
      "source": [
        "import torch\n",
        "from torch import nn\n",
        "\n",
        "torch.__version__"
      ],
      "metadata": {
        "colab": {
          "base_uri": "https://localhost:8080/",
          "height": 56
        },
        "id": "8tO5ycIFH21G",
        "outputId": "d20705f1-4efa-4d15-8a65-327edfda79fe"
      },
      "execution_count": 1,
      "outputs": [
        {
          "output_type": "execute_result",
          "data": {
            "text/plain": [
              "'2.6.0+cu124'"
            ],
            "application/vnd.google.colaboratory.intrinsic+json": {
              "type": "string"
            }
          },
          "metadata": {},
          "execution_count": 1
        }
      ]
    },
    {
      "cell_type": "code",
      "source": [
        "device = \"cuda\" if torch.cuda.is_available() else \"cpu\"\n",
        "device"
      ],
      "metadata": {
        "colab": {
          "base_uri": "https://localhost:8080/",
          "height": 56
        },
        "id": "9EYlpF29H23v",
        "outputId": "6510a862-918d-4911-bda1-ffb43b5f978b"
      },
      "execution_count": 2,
      "outputs": [
        {
          "output_type": "execute_result",
          "data": {
            "text/plain": [
              "'cuda'"
            ],
            "application/vnd.google.colaboratory.intrinsic+json": {
              "type": "string"
            }
          },
          "metadata": {},
          "execution_count": 2
        }
      ]
    },
    {
      "cell_type": "code",
      "source": [
        "!nvidia-smi"
      ],
      "metadata": {
        "colab": {
          "base_uri": "https://localhost:8080/"
        },
        "id": "he3PxxbIUgQY",
        "outputId": "240974dc-6a3a-4c5a-953a-d7d3efad4355"
      },
      "execution_count": 3,
      "outputs": [
        {
          "output_type": "stream",
          "name": "stdout",
          "text": [
            "Wed Aug 13 18:34:53 2025       \n",
            "+-----------------------------------------------------------------------------------------+\n",
            "| NVIDIA-SMI 550.54.15              Driver Version: 550.54.15      CUDA Version: 12.4     |\n",
            "|-----------------------------------------+------------------------+----------------------+\n",
            "| GPU  Name                 Persistence-M | Bus-Id          Disp.A | Volatile Uncorr. ECC |\n",
            "| Fan  Temp   Perf          Pwr:Usage/Cap |           Memory-Usage | GPU-Util  Compute M. |\n",
            "|                                         |                        |               MIG M. |\n",
            "|=========================================+========================+======================|\n",
            "|   0  Tesla T4                       Off |   00000000:00:04.0 Off |                    0 |\n",
            "| N/A   70C    P8             17W /   70W |       2MiB /  15360MiB |      0%      Default |\n",
            "|                                         |                        |                  N/A |\n",
            "+-----------------------------------------+------------------------+----------------------+\n",
            "                                                                                         \n",
            "+-----------------------------------------------------------------------------------------+\n",
            "| Processes:                                                                              |\n",
            "|  GPU   GI   CI        PID   Type   Process name                              GPU Memory |\n",
            "|        ID   ID                                                               Usage      |\n",
            "|=========================================================================================|\n",
            "|  No running processes found                                                             |\n",
            "+-----------------------------------------------------------------------------------------+\n"
          ]
        }
      ]
    },
    {
      "cell_type": "code",
      "source": [
        "import requests\n",
        "import os\n",
        "import zipfile\n",
        "from tqdm.auto import tqdm\n",
        "from pathlib import Path\n",
        "import matplotlib.pyplot as plt\n",
        "import numpy as np\n",
        "from torch.utils.data import DataLoader\n",
        "from torchvision import datasets, transforms\n",
        "import torch.optim\n",
        "import torch.nn.functional as F"
      ],
      "metadata": {
        "id": "KsDKkNmJH26Q"
      },
      "execution_count": 4,
      "outputs": []
    },
    {
      "cell_type": "markdown",
      "source": [
        "## Data Preprocessing"
      ],
      "metadata": {
        "id": "BI2fzJiSsXap"
      }
    },
    {
      "cell_type": "code",
      "source": [
        "data_path = Path(\"\")\n",
        "\n",
        "# If image folder doesn't exist commence download\n",
        "if data_path.is_dir():\n",
        "  print(f\"{data_path} directory already exists... skipping download\")\n",
        "else:\n",
        "  print(f\"Image path doesn't exist creating one...\")\n",
        "  data_path.mkdir(parents = True, exist_ok = True)\n",
        "\n",
        "with open(data_path/\"data.zip\", \"wb\") as f:\n",
        "  request = requests.get(\"https://github.com/yuvvantalreja/CAPTCHA-Image-Recognition-using-CRNN-and-BiGRU/raw/main/data.zip\")\n",
        "  print(\"Downloading data\")\n",
        "  f.write(request.content)\n",
        "\n",
        "\n",
        "with zipfile.ZipFile(data_path/\"data.zip\", \"r\") as zip_ref:\n",
        "  print(\"Unzipping data\")\n",
        "  zip_ref.extractall(data_path)"
      ],
      "metadata": {
        "colab": {
          "base_uri": "https://localhost:8080/"
        },
        "id": "eAeIjcKLH28f",
        "outputId": "56a39188-ab5f-4b43-9d4e-33d5f61d2a52"
      },
      "execution_count": 5,
      "outputs": [
        {
          "output_type": "stream",
          "name": "stdout",
          "text": [
            ". directory already exists... skipping download\n",
            "Downloading data\n",
            "Unzipping data\n"
          ]
        }
      ]
    },
    {
      "cell_type": "code",
      "source": [
        "image_fns = os.listdir(data_path/\"data\")\n",
        "print(len(image_fns))\n",
        "print(np.unique([len(image_fn.split(\".\")[0]) for image_fn in image_fns]))"
      ],
      "metadata": {
        "colab": {
          "base_uri": "https://localhost:8080/"
        },
        "id": "csp4-98nfp4j",
        "outputId": "9acb9229-7a94-4fd4-e4a3-838f7e965e25"
      },
      "execution_count": 6,
      "outputs": [
        {
          "output_type": "stream",
          "name": "stdout",
          "text": [
            "1071\n",
            "[0 5]\n"
          ]
        }
      ]
    },
    {
      "cell_type": "code",
      "source": [
        "image_fns = [fn for fn in image_fns if len(fn.split(\".\")[0]) == 5]"
      ],
      "metadata": {
        "id": "knmG_5Pdf_0F"
      },
      "execution_count": 7,
      "outputs": []
    },
    {
      "cell_type": "code",
      "source": [
        "image_ns = [image_fn.split(\".\")[0] for image_fn in image_fns]\n",
        "image_ns = \"\".join(image_ns)\n",
        "letters = sorted(list(set(list(image_ns))))\n",
        "print(len(letters))\n",
        "print(letters)"
      ],
      "metadata": {
        "colab": {
          "base_uri": "https://localhost:8080/"
        },
        "id": "JjH1q4fzgH02",
        "outputId": "83b3f18a-42f6-41b7-b626-a874aa40f43d"
      },
      "execution_count": 8,
      "outputs": [
        {
          "output_type": "stream",
          "name": "stdout",
          "text": [
            "19\n",
            "['2', '3', '4', '5', '6', '7', '8', 'b', 'c', 'd', 'e', 'f', 'g', 'm', 'n', 'p', 'w', 'x', 'y']\n"
          ]
        }
      ]
    },
    {
      "cell_type": "code",
      "source": [
        "vocabulary = [\"-\"] + letters\n",
        "print(len(vocabulary))\n",
        "print(vocabulary)\n",
        "idx2char = {k:v for k,v in enumerate(vocabulary, start=0)}\n",
        "print(idx2char)\n",
        "char2idx = {v:k for k,v in idx2char.items()}\n",
        "print(char2idx)"
      ],
      "metadata": {
        "colab": {
          "base_uri": "https://localhost:8080/"
        },
        "id": "RNmdE-SegMIm",
        "outputId": "ca29a6a7-116d-4794-a316-40a57f965dd7"
      },
      "execution_count": 9,
      "outputs": [
        {
          "output_type": "stream",
          "name": "stdout",
          "text": [
            "20\n",
            "['-', '2', '3', '4', '5', '6', '7', '8', 'b', 'c', 'd', 'e', 'f', 'g', 'm', 'n', 'p', 'w', 'x', 'y']\n",
            "{0: '-', 1: '2', 2: '3', 3: '4', 4: '5', 5: '6', 6: '7', 7: '8', 8: 'b', 9: 'c', 10: 'd', 11: 'e', 12: 'f', 13: 'g', 14: 'm', 15: 'n', 16: 'p', 17: 'w', 18: 'x', 19: 'y'}\n",
            "{'-': 0, '2': 1, '3': 2, '4': 3, '5': 4, '6': 5, '7': 6, '8': 7, 'b': 8, 'c': 9, 'd': 10, 'e': 11, 'f': 12, 'g': 13, 'm': 14, 'n': 15, 'p': 16, 'w': 17, 'x': 18, 'y': 19}\n"
          ]
        }
      ]
    },
    {
      "cell_type": "code",
      "source": [
        "import random\n",
        "from PIL import Image\n",
        "\n",
        "image_path_list = list(data_path.glob(\"*/*.png\"))\n",
        "image_path_list[0]"
      ],
      "metadata": {
        "colab": {
          "base_uri": "https://localhost:8080/"
        },
        "id": "e1bYyiEbH2-m",
        "outputId": "221d9e0e-82fc-4a4e-d04a-8b7998bdb748"
      },
      "execution_count": 10,
      "outputs": [
        {
          "output_type": "execute_result",
          "data": {
            "text/plain": [
              "PosixPath('data/y2436.png')"
            ]
          },
          "metadata": {},
          "execution_count": 10
        }
      ]
    },
    {
      "cell_type": "code",
      "source": [
        "# Split into train and test data\n",
        "from sklearn.model_selection import train_test_split\n",
        "\n",
        "train_set, test_set = train_test_split(image_path_list, test_size = 0.2, train_size = 0.8, random_state = 42)\n",
        "\n",
        "len(train_set), len(test_set)"
      ],
      "metadata": {
        "colab": {
          "base_uri": "https://localhost:8080/"
        },
        "id": "4-MktdM1H3A3",
        "outputId": "d0e6471c-44ef-4d01-b9d0-38e6421b1321"
      },
      "execution_count": 11,
      "outputs": [
        {
          "output_type": "execute_result",
          "data": {
            "text/plain": [
              "(832, 208)"
            ]
          },
          "metadata": {},
          "execution_count": 11
        }
      ]
    },
    {
      "cell_type": "code",
      "source": [
        "random.seed(42)\n",
        "random_img = random.choice(image_path_list)\n",
        "img = Image.open(random_img).convert('RGB')\n",
        "print(f\"Image Label: {str(random_img.stem)}\")\n",
        "img"
      ],
      "metadata": {
        "colab": {
          "base_uri": "https://localhost:8080/",
          "height": 104
        },
        "id": "cSTEicbYTdbT",
        "outputId": "4102e0de-14e5-4950-bd9a-6162bd7598f1"
      },
      "execution_count": 12,
      "outputs": [
        {
          "output_type": "stream",
          "name": "stdout",
          "text": [
            "Image Label: pf4nb\n"
          ]
        },
        {
          "output_type": "execute_result",
          "data": {
            "text/plain": [
              "<PIL.Image.Image image mode=RGB size=200x50>"
            ],
            "image/png": "[encoded data removed]",
            "image/jpeg": "[encoded data removed]"
          },
          "metadata": {},
          "execution_count": 12
        }
      ]
    },
    {
      "cell_type": "code",
      "source": [
        "img_as_array = np.asarray(img)\n",
        "\n",
        "plt.figure(figsize = (4, 3))\n",
        "plt.imshow(img_as_array)\n",
        "plt.axis(False)\n",
        "plt.title(f\"Image_Label: {str(random_img.stem)} | Image Shape: {img_as_array.shape}\")"
      ],
      "metadata": {
        "colab": {
          "base_uri": "https://localhost:8080/",
          "height": 173
        },
        "id": "S6opsgLQln5q",
        "outputId": "c749a321-73c5-4073-9e04-9215067b0d03"
      },
      "execution_count": 13,
      "outputs": [
        {
          "output_type": "execute_result",
          "data": {
            "text/plain": [
              "Text(0.5, 1.0, 'Image_Label: pf4nb | Image Shape: (50, 200, 3)')"
            ]
          },
          "metadata": {},
          "execution_count": 13
        },
        {
          "output_type": "display_data",
          "data": {
            "text/plain": [
              "<Figure size 400x300 with 1 Axes>"
            ],
            "image/png": "[encoded data removed]"
          },
          "metadata": {}
        }
      ]
    },
    {
      "cell_type": "code",
      "source": [
        "import os\n",
        "import pathlib\n",
        "import torch\n",
        "from PIL import Image\n",
        "from torch.utils.data import Dataset\n",
        "from torchvision import transforms\n",
        "from typing import Tuple, Dict, List"
      ],
      "metadata": {
        "id": "yr-KqKJuUK-G"
      },
      "execution_count": 14,
      "outputs": []
    },
    {
      "cell_type": "code",
      "source": [
        "# Creating custom dataset\n",
        "\n",
        "class CaptchaDataset(Dataset):\n",
        "  def __init__(self, data_dir: str, image_fns: list, augment: bool = False):\n",
        "    self.data_dir = data_dir\n",
        "    self.image_fns = image_fns\n",
        "    self.augment = augment\n",
        "\n",
        "  def __len__(self):\n",
        "    return len(self.image_fns)\n",
        "\n",
        "  def __getitem__(self, input: int):\n",
        "    image_fn = self.image_fns[input]\n",
        "    image = Image.open(image_fn).convert('RGB')\n",
        "    image = self.transform(image)\n",
        "    text = str(image_fn.stem)\n",
        "    return image, text\n",
        "\n",
        "  def transform(self, image):\n",
        "        ops = []\n",
        "        if self.augment:\n",
        "          ops.extend([\n",
        "            transforms.RandomAffine(degrees=8, translate=(0.05, 0.1), shear=5, fill=255),\n",
        "            transforms.RandomPerspective(distortion_scale=0.2, p=0.3),\n",
        "          ])\n",
        "        ops.extend([\n",
        "          transforms.Resize((32, 160)),\n",
        "          transforms.ToTensor(),\n",
        "          transforms.Normalize(mean=(0.485, 0.456, 0.406), std=(0.229, 0.224, 0.225))\n",
        "        ])\n",
        "        return transforms.Compose(ops)(image)"
      ],
      "metadata": {
        "id": "lM3-c8rcH3a6"
      },
      "execution_count": 15,
      "outputs": []
    },
    {
      "cell_type": "code",
      "source": [
        "train_dataset = CaptchaDataset(\"data/\", train_set, augment=True)\n",
        "test_dataset = CaptchaDataset(\"data/\", test_set, augment=False)\n",
        "train_dataset.__getitem__(0)"
      ],
      "metadata": {
        "colab": {
          "base_uri": "https://localhost:8080/"
        },
        "id": "S1lZq8tssaOz",
        "outputId": "fba23156-0a6a-4f23-fa6e-8757d11d0444"
      },
      "execution_count": 16,
      "outputs": [
        {
          "output_type": "execute_result",
          "data": {
            "text/plain": [
              "(tensor([[[-2.1179, -2.1179, -2.1179,  ..., -2.1179, -2.1179, -2.1179],\n",
              "          [-2.1179, -2.1179, -2.1179,  ..., -2.1179, -2.1179, -2.1179],\n",
              "          [-2.1179, -2.1179, -2.1179,  ..., -2.1179, -2.1179, -2.1179],\n",
              "          ...,\n",
              "          [-2.1179, -2.1179, -2.1179,  ..., -2.1179, -2.1179, -2.1179],\n",
              "          [-2.1179, -2.1179, -2.1179,  ..., -2.1179, -2.1179, -2.1179],\n",
              "          [-2.1179, -2.1179, -2.1179,  ..., -2.1179, -2.1179, -2.1179]],\n",
              " \n",
              "         [[-2.0357, -2.0357, -2.0357,  ..., -2.0357, -2.0357, -2.0357],\n",
              "          [-2.0357, -2.0357, -2.0357,  ..., -2.0357, -2.0357, -2.0357],\n",
              "          [-2.0357, -2.0357, -2.0357,  ..., -2.0357, -2.0357, -2.0357],\n",
              "          ...,\n",
              "          [-2.0357, -2.0357, -2.0357,  ..., -2.0357, -2.0357, -2.0357],\n",
              "          [-2.0357, -2.0357, -2.0357,  ..., -2.0357, -2.0357, -2.0357],\n",
              "          [-2.0357, -2.0357, -2.0357,  ..., -2.0357, -2.0357, -2.0357]],\n",
              " \n",
              "         [[-1.8044, -1.8044, -1.8044,  ..., -1.8044, -1.8044, -1.8044],\n",
              "          [-1.8044, -1.8044, -1.8044,  ..., -1.8044, -1.8044, -1.8044],\n",
              "          [-1.8044, -1.8044, -1.8044,  ..., -1.8044, -1.8044, -1.8044],\n",
              "          ...,\n",
              "          [-1.8044, -1.8044, -1.8044,  ..., -1.8044, -1.8044, -1.8044],\n",
              "          [-1.8044, -1.8044, -1.8044,  ..., -1.8044, -1.8044, -1.8044],\n",
              "          [-1.8044, -1.8044, -1.8044,  ..., -1.8044, -1.8044, -1.8044]]]),\n",
              " 'yf347')"
            ]
          },
          "metadata": {},
          "execution_count": 16
        }
      ]
    },
    {
      "cell_type": "code",
      "source": [
        "torch.manual_seed(0)\n",
        "fig = plt.figure(figsize = (9, 9))\n",
        "rows, cols = 3, 3\n",
        "\n",
        "for i in range(1, rows*cols + 1):\n",
        "  random_idx = torch.randint(0, train_dataset.__len__(), size = [1]).item()\n",
        "  image, labels = train_dataset[random_idx]\n",
        "  fig.add_subplot(rows, cols, i)\n",
        "  plt.imshow(image.squeeze().permute(1, 2, 0))\n",
        "  plt.title(train_set[random_idx].stem)\n",
        "  plt.axis(True)"
      ],
      "metadata": {
        "colab": {
          "base_uri": "https://localhost:8080/",
          "height": 784
        },
        "id": "LVzJQdfVmemY",
        "outputId": "4bbfcc2f-0bc7-4590-8461-e7344a5f13f5"
      },
      "execution_count": 17,
      "outputs": [
        {
          "output_type": "stream",
          "name": "stderr",
          "text": [
            "WARNING:matplotlib.image:Clipping input data to the valid range for imshow with RGB data ([0..1] for floats or [0..255] for integers). Got range [-2.117904..2.64].\n",
            "WARNING:matplotlib.image:Clipping input data to the valid range for imshow with RGB data ([0..1] for floats or [0..255] for integers). Got range [-2.117904..2.64].\n",
            "WARNING:matplotlib.image:Clipping input data to the valid range for imshow with RGB data ([0..1] for floats or [0..255] for integers). Got range [-2.117904..2.64].\n",
            "WARNING:matplotlib.image:Clipping input data to the valid range for imshow with RGB data ([0..1] for floats or [0..255] for integers). Got range [-2.117904..2.64].\n",
            "WARNING:matplotlib.image:Clipping input data to the valid range for imshow with RGB data ([0..1] for floats or [0..255] for integers). Got range [-2.117904..2.64].\n",
            "WARNING:matplotlib.image:Clipping input data to the valid range for imshow with RGB data ([0..1] for floats or [0..255] for integers). Got range [-2.117904..2.64].\n",
            "WARNING:matplotlib.image:Clipping input data to the valid range for imshow with RGB data ([0..1] for floats or [0..255] for integers). Got range [-2.117904..2.64].\n",
            "WARNING:matplotlib.image:Clipping input data to the valid range for imshow with RGB data ([0..1] for floats or [0..255] for integers). Got range [-2.117904..2.64].\n",
            "WARNING:matplotlib.image:Clipping input data to the valid range for imshow with RGB data ([0..1] for floats or [0..255] for integers). Got range [-2.117904..2.64].\n"
          ]
        },
        {
          "output_type": "display_data",
          "data": {
            "text/plain": [
              "<Figure size 900x900 with 9 Axes>"
            ],
            "image/png": "[encoded data removed]"
          },
          "metadata": {}
        }
      ]
    },
    {
      "cell_type": "code",
      "source": [
        "os.cpu_count()"
      ],
      "metadata": {
        "colab": {
          "base_uri": "https://localhost:8080/"
        },
        "id": "V8fOGD9Eo1i4",
        "outputId": "c195b8a9-e386-496c-dc77-11e561c6c325"
      },
      "execution_count": 18,
      "outputs": [
        {
          "output_type": "execute_result",
          "data": {
            "text/plain": [
              "2"
            ]
          },
          "metadata": {},
          "execution_count": 18
        }
      ]
    },
    {
      "cell_type": "code",
      "source": [
        "# Dataloader\n",
        "\n",
        "BATCH_SIZE = 16\n",
        "\n",
        "train_dataloader = DataLoader(train_dataset, BATCH_SIZE, num_workers = os.cpu_count(), shuffle = True)\n",
        "test_dataloader = DataLoader(test_dataset, BATCH_SIZE, num_workers = os.cpu_count(), shuffle = False)\n",
        "\n",
        "train_dataloader, test_dataloader"
      ],
      "metadata": {
        "colab": {
          "base_uri": "https://localhost:8080/"
        },
        "id": "pibFq0kneZiQ",
        "outputId": "41df9190-8714-46ef-899c-5b1f4f91f34f"
      },
      "execution_count": 19,
      "outputs": [
        {
          "output_type": "execute_result",
          "data": {
            "text/plain": [
              "(<torch.utils.data.dataloader.DataLoader at 0x78031c87a510>,\n",
              " <torch.utils.data.dataloader.DataLoader at 0x78031e986590>)"
            ]
          },
          "metadata": {},
          "execution_count": 19
        }
      ]
    },
    {
      "cell_type": "code",
      "source": [
        "len(train_dataloader), len(test_dataloader)"
      ],
      "metadata": {
        "colab": {
          "base_uri": "https://localhost:8080/"
        },
        "id": "HyIXcIBFeZkM",
        "outputId": "0796c1d8-804d-4800-eeb8-092f6b27d9c4"
      },
      "execution_count": 20,
      "outputs": [
        {
          "output_type": "execute_result",
          "data": {
            "text/plain": [
              "(52, 13)"
            ]
          },
          "metadata": {},
          "execution_count": 20
        }
      ]
    },
    {
      "cell_type": "code",
      "source": [
        "image_batch, text_batch = iter(train_dataloader).__next__()\n",
        "print(image_batch.shape, len(text_batch))"
      ],
      "metadata": {
        "id": "29YtfY0VL1q6",
        "colab": {
          "base_uri": "https://localhost:8080/"
        },
        "outputId": "c84a5a77-19ee-4ef7-eca1-bf8e574fbe53"
      },
      "execution_count": 21,
      "outputs": [
        {
          "output_type": "stream",
          "name": "stdout",
          "text": [
            "torch.Size([16, 3, 32, 160]) 16\n"
          ]
        }
      ]
    },
    {
      "cell_type": "code",
      "source": [
        "image_batch[0]"
      ],
      "metadata": {
        "colab": {
          "base_uri": "https://localhost:8080/"
        },
        "id": "W-_T-gr3QrR7",
        "outputId": "58365b7c-072a-4255-90ea-b8e74b0d3ca8"
      },
      "execution_count": 22,
      "outputs": [
        {
          "output_type": "execute_result",
          "data": {
            "text/plain": [
              "tensor([[[1.2043, 1.2043, 1.2214,  ..., 2.2489, 2.2489, 2.2489],\n",
              "         [1.2043, 1.2043, 1.2214,  ..., 2.2489, 2.2489, 2.2489],\n",
              "         [1.2043, 1.2043, 1.2214,  ..., 2.2489, 2.2489, 2.2489],\n",
              "         ...,\n",
              "         [2.2489, 2.2489, 2.2489,  ..., 2.2489, 2.2489, 2.2489],\n",
              "         [2.2489, 2.2489, 2.2489,  ..., 2.2489, 2.2489, 2.2489],\n",
              "         [2.2489, 2.2489, 2.2489,  ..., 2.2489, 2.2489, 2.2489]],\n",
              "\n",
              "        [[1.3606, 1.3606, 1.3782,  ..., 2.4286, 2.4286, 2.4286],\n",
              "         [1.3606, 1.3606, 1.3782,  ..., 2.4286, 2.4286, 2.4286],\n",
              "         [1.3606, 1.3606, 1.3782,  ..., 2.4286, 2.4286, 2.4286],\n",
              "         ...,\n",
              "         [2.4286, 2.4286, 2.4286,  ..., 2.4286, 2.4286, 2.4286],\n",
              "         [2.4286, 2.4286, 2.4286,  ..., 2.4286, 2.4286, 2.4286],\n",
              "         [2.4286, 2.4286, 2.4286,  ..., 2.4286, 2.4286, 2.4286]],\n",
              "\n",
              "        [[1.5768, 1.5768, 1.5942,  ..., 2.6400, 2.6400, 2.6400],\n",
              "         [1.5768, 1.5768, 1.5942,  ..., 2.6400, 2.6400, 2.6400],\n",
              "         [1.5768, 1.5768, 1.5942,  ..., 2.6400, 2.6400, 2.6400],\n",
              "         ...,\n",
              "         [2.6400, 2.6400, 2.6400,  ..., 2.6400, 2.6400, 2.6400],\n",
              "         [2.6400, 2.6400, 2.6400,  ..., 2.6400, 2.6400, 2.6400],\n",
              "         [2.6400, 2.6400, 2.6400,  ..., 2.6400, 2.6400, 2.6400]]])"
            ]
          },
          "metadata": {},
          "execution_count": 22
        }
      ]
    },
    {
      "cell_type": "markdown",
      "source": [
        "## Model Creation"
      ],
      "metadata": {
        "id": "d24fA3zLscWr"
      }
    },
    {
      "cell_type": "code",
      "source": [
        "num_chars = len(char2idx)\n",
        "rnn_hidden_units = 256"
      ],
      "metadata": {
        "id": "Ti2C3W8xH3dL"
      },
      "execution_count": 23,
      "outputs": []
    },
    {
      "cell_type": "code",
      "source": [
        "from torchvision.models import resnet18\n",
        "resnet = resnet18(pretrained = True)\n",
        "resnet.maxpool = nn.Identity()\n",
        "list(resnet.children())[:-3]"
      ],
      "metadata": {
        "id": "x6GiViv3H3ff",
        "colab": {
          "base_uri": "https://localhost:8080/"
        },
        "outputId": "5853a707-dd72-4efc-d4fa-3d7f994a1144"
      },
      "execution_count": 24,
      "outputs": [
        {
          "output_type": "stream",
          "name": "stderr",
          "text": [
            "/usr/local/lib/python3.11/dist-packages/torchvision/models/_utils.py:208: UserWarning: The parameter 'pretrained' is deprecated since 0.13 and may be removed in the future, please use 'weights' instead.\n",
            "  warnings.warn(\n",
            "/usr/local/lib/python3.11/dist-packages/torchvision/models/_utils.py:223: UserWarning: Arguments other than a weight enum or `None` for 'weights' are deprecated since 0.13 and may be removed in the future. The current behavior is equivalent to passing `weights=ResNet18_Weights.IMAGENET1K_V1`. You can also use `weights=ResNet18_Weights.DEFAULT` to get the most up-to-date weights.\n",
            "  warnings.warn(msg)\n"
          ]
        },
        {
          "output_type": "execute_result",
          "data": {
            "text/plain": [
              "[Conv2d(3, 64, kernel_size=(7, 7), stride=(2, 2), padding=(3, 3), bias=False),\n",
              " BatchNorm2d(64, eps=1e-05, momentum=0.1, affine=True, track_running_stats=True),\n",
              " ReLU(inplace=True),\n",
              " Identity(),\n",
              " Sequential(\n",
              "   (0): BasicBlock(\n",
              "     (conv1): Conv2d(64, 64, kernel_size=(3, 3), stride=(1, 1), padding=(1, 1), bias=False)\n",
              "     (bn1): BatchNorm2d(64, eps=1e-05, momentum=0.1, affine=True, track_running_stats=True)\n",
              "     (relu): ReLU(inplace=True)\n",
              "     (conv2): Conv2d(64, 64, kernel_size=(3, 3), stride=(1, 1), padding=(1, 1), bias=False)\n",
              "     (bn2): BatchNorm2d(64, eps=1e-05, momentum=0.1, affine=True, track_running_stats=True)\n",
              "   )\n",
              "   (1): BasicBlock(\n",
              "     (conv1): Conv2d(64, 64, kernel_size=(3, 3), stride=(1, 1), padding=(1, 1), bias=False)\n",
              "     (bn1): BatchNorm2d(64, eps=1e-05, momentum=0.1, affine=True, track_running_stats=True)\n",
              "     (relu): ReLU(inplace=True)\n",
              "     (conv2): Conv2d(64, 64, kernel_size=(3, 3), stride=(1, 1), padding=(1, 1), bias=False)\n",
              "     (bn2): BatchNorm2d(64, eps=1e-05, momentum=0.1, affine=True, track_running_stats=True)\n",
              "   )\n",
              " ),\n",
              " Sequential(\n",
              "   (0): BasicBlock(\n",
              "     (conv1): Conv2d(64, 128, kernel_size=(3, 3), stride=(2, 2), padding=(1, 1), bias=False)\n",
              "     (bn1): BatchNorm2d(128, eps=1e-05, momentum=0.1, affine=True, track_running_stats=True)\n",
              "     (relu): ReLU(inplace=True)\n",
              "     (conv2): Conv2d(128, 128, kernel_size=(3, 3), stride=(1, 1), padding=(1, 1), bias=False)\n",
              "     (bn2): BatchNorm2d(128, eps=1e-05, momentum=0.1, affine=True, track_running_stats=True)\n",
              "     (downsample): Sequential(\n",
              "       (0): Conv2d(64, 128, kernel_size=(1, 1), stride=(2, 2), bias=False)\n",
              "       (1): BatchNorm2d(128, eps=1e-05, momentum=0.1, affine=True, track_running_stats=True)\n",
              "     )\n",
              "   )\n",
              "   (1): BasicBlock(\n",
              "     (conv1): Conv2d(128, 128, kernel_size=(3, 3), stride=(1, 1), padding=(1, 1), bias=False)\n",
              "     (bn1): BatchNorm2d(128, eps=1e-05, momentum=0.1, affine=True, track_running_stats=True)\n",
              "     (relu): ReLU(inplace=True)\n",
              "     (conv2): Conv2d(128, 128, kernel_size=(3, 3), stride=(1, 1), padding=(1, 1), bias=False)\n",
              "     (bn2): BatchNorm2d(128, eps=1e-05, momentum=0.1, affine=True, track_running_stats=True)\n",
              "   )\n",
              " ),\n",
              " Sequential(\n",
              "   (0): BasicBlock(\n",
              "     (conv1): Conv2d(128, 256, kernel_size=(3, 3), stride=(2, 2), padding=(1, 1), bias=False)\n",
              "     (bn1): BatchNorm2d(256, eps=1e-05, momentum=0.1, affine=True, track_running_stats=True)\n",
              "     (relu): ReLU(inplace=True)\n",
              "     (conv2): Conv2d(256, 256, kernel_size=(3, 3), stride=(1, 1), padding=(1, 1), bias=False)\n",
              "     (bn2): BatchNorm2d(256, eps=1e-05, momentum=0.1, affine=True, track_running_stats=True)\n",
              "     (downsample): Sequential(\n",
              "       (0): Conv2d(128, 256, kernel_size=(1, 1), stride=(2, 2), bias=False)\n",
              "       (1): BatchNorm2d(256, eps=1e-05, momentum=0.1, affine=True, track_running_stats=True)\n",
              "     )\n",
              "   )\n",
              "   (1): BasicBlock(\n",
              "     (conv1): Conv2d(256, 256, kernel_size=(3, 3), stride=(1, 1), padding=(1, 1), bias=False)\n",
              "     (bn1): BatchNorm2d(256, eps=1e-05, momentum=0.1, affine=True, track_running_stats=True)\n",
              "     (relu): ReLU(inplace=True)\n",
              "     (conv2): Conv2d(256, 256, kernel_size=(3, 3), stride=(1, 1), padding=(1, 1), bias=False)\n",
              "     (bn2): BatchNorm2d(256, eps=1e-05, momentum=0.1, affine=True, track_running_stats=True)\n",
              "   )\n",
              " )]"
            ]
          },
          "metadata": {},
          "execution_count": 24
        }
      ]
    },
    {
      "cell_type": "markdown",
      "source": [
        "* ResNet documentation: https://pytorch.org/vision/main/models/generated/torchvision.models.resnet18.html\n",
        "* GRU Documentation: https://pytorch.org/docs/stable/generated/torch.nn.GRU.html\n",
        "* GRU vs BiGRU: https://pub.aimind.so/what-is-the-difference-between-a-gru-and-a-bigru-fbde0fbe2950\n",
        "* BiGRU Explained (Papers with Code): https://paperswithcode.com/method/bigru\n",
        "* Paper on combining ResNet and BiGRU Techniques for OCR:  https://www.internationaljournalssrg.org/IJECE/2024/Volume11-Issue1/IJECE-V11I1P101.pdf"
      ],
      "metadata": {
        "id": "qwayYhWxCvf3"
      }
    },
    {
      "cell_type": "code",
      "source": [
        "class CRNN(nn.Module):\n",
        "  def __init__(self, num_chars, rnn_hidden_units = 256, dropout = 0.1): # dropout --> used to reduce overfitting and memorization of trends in the data\n",
        "    super().__init__()\n",
        "    self.num_chars = num_chars\n",
        "    self.rnn_hidden_units = rnn_hidden_units\n",
        "    self.dropout = dropout\n",
        "\n",
        "    resnet_modules = list(resnet.children())[:-3] # Using all except last 3 blocks of ResNet\n",
        "    self.CNN1 = nn.Sequential(*resnet_modules)\n",
        "\n",
        "    self.CNN2 = nn.Sequential(\n",
        "        nn.Conv2d(256, 256, kernel_size = (3, 6), stride = 1, padding = 1),\n",
        "        nn.BatchNorm2d(256),\n",
        "        nn.ReLU(inplace = True)\n",
        "    )\n",
        "    self.linear1 = nn.LazyLinear(256)\n",
        "\n",
        "    # RNN (BiGRU)\n",
        "\n",
        "    self.rnn1 = nn.GRU(input_size = rnn_hidden_units,\n",
        "                       hidden_size = rnn_hidden_units,\n",
        "                       bidirectional = True,\n",
        "                       batch_first = True\n",
        "                       )\n",
        "    self.rnn2 = nn.GRU(input_size = rnn_hidden_units,\n",
        "                       hidden_size = rnn_hidden_units,\n",
        "                       bidirectional = True,\n",
        "                       batch_first = True\n",
        "                       )\n",
        "    self.linear2 = nn.Linear(self.rnn_hidden_units * 2, num_chars) # Why hidden_units * 2 ???\n",
        "\n",
        "  def forward(self, batch):\n",
        "        batch = self.CNN1(batch)\n",
        "        # print(batch.size()) # torch.Size([-1, 256, 4, 13])\n",
        "\n",
        "        batch = self.CNN2(batch) # [batch_size, channels, height, width]\n",
        "        # print(batch.size())# torch.Size([-1, 256, 4, 10])\n",
        "\n",
        "        batch = batch.permute(0, 3, 1, 2) # [batch_size, width, channels, height]\n",
        "        # print(batch.size()) # torch.Size([-1, 10, 256, 4])\n",
        "\n",
        "        batch_size = batch.size(0)\n",
        "        T = batch.size(1)\n",
        "        batch = batch.view(batch_size, T, -1) # [batch_size, T==width, num_features==channels*height]\n",
        "        # print(batch.size()) # torch.Size([-1, 10, 1024])\n",
        "\n",
        "        batch = self.linear1(batch)\n",
        "        # print(batch.size()) # torch.Size([-1, 10, 256])\n",
        "\n",
        "        batch, hidden = self.rnn1(batch)\n",
        "        feature_size = batch.size(2)\n",
        "        batch = batch[:, :, :feature_size//2] + batch[:, :, feature_size//2:]\n",
        "        # print(batch.size()) # torch.Size([-1, 10, 256])\n",
        "\n",
        "        batch, hidden = self.rnn2(batch)\n",
        "        # print(batch.size()) # torch.Size([-1, 10, 512])\n",
        "\n",
        "        batch = self.linear2(batch)\n",
        "        # print(batch.size()) # torch.Size([-1, 10, 20])\n",
        "\n",
        "        batch = batch.permute(1, 0, 2) # [T==10, batch_size, num_classes==num_features]\n",
        "        # print(batch.size()) # torch.Size([10, -1, 20])\n",
        "\n",
        "        return batch"
      ],
      "metadata": {
        "id": "xPeXtqPVH3hu"
      },
      "execution_count": 25,
      "outputs": []
    },
    {
      "cell_type": "code",
      "source": [
        "# Initializing of weights using Xavier Uniform prevents vanishing or exploding gradients during training\n",
        "def weights_init(m):\n",
        "    classname = m.__class__.__name__\n",
        "    if type(m) in [nn.Linear, nn.Conv2d, nn.Conv1d]:\n",
        "        torch.nn.init.xavier_uniform_(m.weight)\n",
        "        if m.bias is not None:\n",
        "            m.bias.data.fill_(0.01)\n",
        "    elif classname.find('BatchNorm') != -1:\n",
        "        m.weight.data.normal_(1.0, 0.02)\n",
        "        m.bias.data.fill_(0)"
      ],
      "metadata": {
        "id": "ff5wJ-EIH3kC"
      },
      "execution_count": 26,
      "outputs": []
    },
    {
      "cell_type": "code",
      "source": [
        "crnn = CRNN(num_chars, rnn_hidden_units=rnn_hidden_units)\n",
        "crnn.apply(weights_init)\n",
        "crnn = crnn.to(device)"
      ],
      "metadata": {
        "id": "fKtWxdiGCDnl"
      },
      "execution_count": 27,
      "outputs": []
    },
    {
      "cell_type": "code",
      "source": [
        "text_batch_logits = crnn(image_batch.to(device))\n",
        "print(text_batch)\n",
        "print(text_batch_logits.shape)"
      ],
      "metadata": {
        "colab": {
          "base_uri": "https://localhost:8080/"
        },
        "id": "Tjndgk1rGuUq",
        "outputId": "ef23f336-c829-499c-e237-28ec764924ec"
      },
      "execution_count": 28,
      "outputs": [
        {
          "output_type": "stream",
          "name": "stdout",
          "text": [
            "('pm47f', 'nbcgb', '6m5eg', 'dfnx4', '43gey', 'f364x', 'gnc3n', '8d4wm', '25egp', 'nf7bn', 'x347n', '6ecbn', 'x7746', 'een23', 'wd2gb', 'pdyc8')\n",
            "torch.Size([17, 16, 20])\n"
          ]
        }
      ]
    },
    {
      "cell_type": "code",
      "source": [
        "# Loss Definitions\n",
        "loss_fn = nn.CTCLoss(blank = 0)"
      ],
      "metadata": {
        "id": "9URZqJM5Fui1"
      },
      "execution_count": 29,
      "outputs": []
    },
    {
      "cell_type": "code",
      "source": [
        "def encode_text_batch(text_batch):\n",
        "\n",
        "    text_batch_targets_lens = [len(text) for text in text_batch]\n",
        "    text_batch_targets_lens = torch.IntTensor(text_batch_targets_lens).to(device)\n",
        "\n",
        "    text_batch_concat = \"\".join(text_batch)\n",
        "    text_batch_targets = [char2idx[c] for c in text_batch_concat]\n",
        "    text_batch_targets = torch.IntTensor(text_batch_targets).to(device)\n",
        "\n",
        "    return text_batch_targets, text_batch_targets_lens"
      ],
      "metadata": {
        "id": "vUXd2dHkF8Pa"
      },
      "execution_count": 30,
      "outputs": []
    },
    {
      "cell_type": "code",
      "source": [
        "def compute_loss(text_batch, text_batch_logits):\n",
        "    \"\"\"\n",
        "    text_batch: list of strings of length equal to batch size\n",
        "    text_batch_logits: Tensor of size([T, batch_size, num_classes])\n",
        "    \"\"\"\n",
        "    # Replace potential NaN or infinite values with 0 before applying log_softmax\n",
        "    text_batch_logps = F.log_softmax(torch.nan_to_num(text_batch_logits), 2) # [T, batch_size, num_classes]\n",
        "    text_batch_logps_lens = torch.full(size=(text_batch_logps.size(1),),\n",
        "                                       fill_value=text_batch_logps.size(0),\n",
        "                                       dtype=torch.int32).to(device) # [batch_size]\n",
        "    #print(text_batch_logps.shape)\n",
        "    #print(text_batch_logps_lens)\n",
        "    text_batch_targets, text_batch_targets_lens = encode_text_batch(text_batch)\n",
        "    #print(text_batch_targets)\n",
        "    #print(text_batch_targets_lens)\n",
        "    loss = loss_fn(text_batch_logps, text_batch_targets, text_batch_logps_lens, text_batch_targets_lens)\n",
        "\n",
        "    return loss"
      ],
      "metadata": {
        "id": "a0UzTQDmF8RN"
      },
      "execution_count": 31,
      "outputs": []
    },
    {
      "cell_type": "code",
      "source": [
        "compute_loss(text_batch, text_batch_logits)"
      ],
      "metadata": {
        "colab": {
          "base_uri": "https://localhost:8080/"
        },
        "id": "BufpV8OaF8UA",
        "outputId": "7f5a7464-7743-4fac-9be9-8c4456040971"
      },
      "execution_count": 32,
      "outputs": [
        {
          "output_type": "execute_result",
          "data": {
            "text/plain": [
              "tensor(7.4620, device='cuda:0', grad_fn=<MeanBackward0>)"
            ]
          },
          "metadata": {},
          "execution_count": 32
        }
      ]
    },
    {
      "cell_type": "markdown",
      "source": [
        "## Training"
      ],
      "metadata": {
        "id": "Uq7UMowaHuBm"
      }
    },
    {
      "cell_type": "code",
      "source": [
        "epochs = 80\n",
        "lr = 0.001\n",
        "decay = 0.0001\n",
        "clip_norm = 5"
      ],
      "metadata": {
        "id": "TLSlRfXUF8WW"
      },
      "execution_count": 33,
      "outputs": []
    },
    {
      "cell_type": "code",
      "source": [
        "optimizer = torch.optim.Adam(params = crnn.parameters(), lr = lr, weight_decay = decay)\n",
        "lr_scheduler = torch.optim.lr_scheduler.ReduceLROnPlateau(optimizer, verbose=True, patience=5) # makes lr dynamic to prevent vanishing/exploding gradients\n",
        "optimizer"
      ],
      "metadata": {
        "colab": {
          "base_uri": "https://localhost:8080/"
        },
        "id": "LLJltMK2IIsJ",
        "outputId": "cb39ea00-c2b6-4482-b96f-dfa346773d30"
      },
      "execution_count": 34,
      "outputs": [
        {
          "output_type": "stream",
          "name": "stderr",
          "text": [
            "/usr/local/lib/python3.11/dist-packages/torch/optim/lr_scheduler.py:62: UserWarning: The verbose parameter is deprecated. Please use get_last_lr() to access the learning rate.\n",
            "  warnings.warn(\n"
          ]
        },
        {
          "output_type": "execute_result",
          "data": {
            "text/plain": [
              "Adam (\n",
              "Parameter Group 0\n",
              "    amsgrad: False\n",
              "    betas: (0.9, 0.999)\n",
              "    capturable: False\n",
              "    differentiable: False\n",
              "    eps: 1e-08\n",
              "    foreach: None\n",
              "    fused: None\n",
              "    lr: 0.001\n",
              "    maximize: False\n",
              "    weight_decay: 0.0001\n",
              ")"
            ]
          },
          "metadata": {},
          "execution_count": 34
        }
      ]
    },
    {
      "cell_type": "code",
      "source": [
        "from timeit import default_timer as timer\n",
        "def print_total_time(start, end):\n",
        "    total_time = total_time = end-start\n",
        "    print(f\"Train time on {device}: {total_time: .3f} seconds\")\n",
        "    return total_time"
      ],
      "metadata": {
        "id": "89Oqh4z7FirD"
      },
      "execution_count": 35,
      "outputs": []
    },
    {
      "cell_type": "code",
      "source": [
        "# Training loop\n",
        "\n",
        "# Structure: optimizer.zero_grad() --> training logits --> computing loss --> backpropagation --> gradient descent\n",
        "\n",
        "epoch_losses = []\n",
        "iteration_losses = []\n",
        "num_updates_epochs = []\n",
        "\n",
        "start_time = timer()\n",
        "for epoch in range(1, epochs + 1):\n",
        "\n",
        "  epoch_loss_list = []\n",
        "  num_updates_epoch = 0\n",
        "\n",
        "  for image_batch, text_batch in train_dataloader:\n",
        "    optimizer.zero_grad()\n",
        "    text_batch_logits = crnn(image_batch.to(device))\n",
        "    loss = compute_loss(text_batch, text_batch_logits)\n",
        "    iteration_loss = loss.item()\n",
        "\n",
        "    num_updates_epoch += 1\n",
        "    iteration_losses.append(iteration_loss)\n",
        "    epoch_loss_list.append(iteration_loss)\n",
        "    loss.backward()\n",
        "\n",
        "    # Gradient clipping used to prevent exploding gradients during training nn.\n",
        "    # This becomes when the gradients become too large leading to instability and divergence during training.\n",
        "\n",
        "    nn.utils.clip_grad_norm(crnn.parameters(), clip_norm)\n",
        "    optimizer.step()\n",
        "\n",
        "  epoch_loss = np.mean(epoch_loss_list)\n",
        "  epoch_losses.append(epoch_loss)\n",
        "  num_updates_epochs.append(num_updates_epoch)\n",
        "  lr_scheduler.step(epoch_loss)\n",
        "  if epoch % 5 == 0:\n",
        "    print(f\"Epoch: {epoch} | Validation Loss: {epoch_loss} | Updates: {num_updates_epoch}\")\n",
        "end_time = timer()\n",
        "print(print_total_time(start_time, end_time))"
      ],
      "metadata": {
        "colab": {
          "base_uri": "https://localhost:8080/"
        },
        "id": "AM5r8vnAF8a0",
        "outputId": "214c7cb4-ef75-42ea-9f7b-bbe9387a7187"
      },
      "execution_count": 36,
      "outputs": [
        {
          "output_type": "stream",
          "name": "stderr",
          "text": [
            "/tmp/ipython-input-2720027829.py:29: FutureWarning: `torch.nn.utils.clip_grad_norm` is now deprecated in favor of `torch.nn.utils.clip_grad_norm_`.\n",
            "  nn.utils.clip_grad_norm(crnn.parameters(), clip_norm)\n"
          ]
        },
        {
          "output_type": "stream",
          "name": "stdout",
          "text": [
            "Epoch: 5 | Validation Loss: 2.9671057829490075 | Updates: 52\n",
            "Epoch: 10 | Validation Loss: 2.316777623616732 | Updates: 52\n",
            "Epoch: 15 | Validation Loss: 0.5518924995110586 | Updates: 52\n",
            "Epoch: 20 | Validation Loss: 0.16765674067517886 | Updates: 52\n",
            "Epoch: 25 | Validation Loss: 0.13325451540115935 | Updates: 52\n",
            "Epoch: 30 | Validation Loss: 0.06601729433840284 | Updates: 52\n",
            "Epoch: 35 | Validation Loss: 0.021919473754958466 | Updates: 52\n",
            "Epoch: 40 | Validation Loss: 0.016230760218324855 | Updates: 52\n",
            "Epoch: 45 | Validation Loss: 0.021837470511225268 | Updates: 52\n",
            "Epoch: 50 | Validation Loss: 0.020310684053513866 | Updates: 52\n",
            "Epoch: 55 | Validation Loss: 0.020738546705195822 | Updates: 52\n",
            "Epoch: 60 | Validation Loss: 0.019255646146260776 | Updates: 52\n",
            "Epoch: 65 | Validation Loss: 0.018344970509553186 | Updates: 52\n",
            "Epoch: 70 | Validation Loss: 0.019128166497326814 | Updates: 52\n",
            "Epoch: 75 | Validation Loss: 0.02028127695218875 | Updates: 52\n",
            "Epoch: 80 | Validation Loss: 0.01770732315848223 | Updates: 52\n",
            "Train time on cuda:  162.629 seconds\n",
            "162.62899660400035\n"
          ]
        }
      ]
    },
    {
      "cell_type": "code",
      "source": [
        "fig, (ax1, ax2) = plt.subplots(1,2, figsize = (10, 7))\n",
        "\n",
        "ax1.plot(epoch_losses)\n",
        "ax1.set_xlabel(\"Epochs\")\n",
        "ax1.set_ylabel(\"Loss\")\n",
        "\n",
        "ax2.plot(iteration_losses)\n",
        "ax2.set_xlabel(\"Iterations\")\n",
        "ax2.set_ylabel(\"Loss\")"
      ],
      "metadata": {
        "colab": {
          "base_uri": "https://localhost:8080/",
          "height": 656
        },
        "id": "YJP9NpnMIU1e",
        "outputId": "336bd3fc-3a39-41b5-9638-f9dee61b7a79"
      },
      "execution_count": 37,
      "outputs": [
        {
          "output_type": "execute_result",
          "data": {
            "text/plain": [
              "Text(0, 0.5, 'Loss')"
            ]
          },
          "metadata": {},
          "execution_count": 37
        },
        {
          "output_type": "display_data",
          "data": {
            "text/plain": [
              "<Figure size 1000x700 with 2 Axes>"
            ],
            "image/png": "[encoded data removed]"
          },
          "metadata": {}
        }
      ]
    },
    {
      "cell_type": "code",
      "source": [
        "# # Saving the model\n",
        "# MODEL_PATH = Path(\"MODELS\")\n",
        "\n",
        "# MODEL_PATH.mkdir(parents = True, exist_ok = True)\n",
        "\n",
        "# MODEL_NAME = 'weights01.pt'\n",
        "# MODEL_SAVE_PATH = MODEL_PATH/MODEL_NAME\n",
        "# # torch.save(model, Path)\n",
        "# print(MODEL_SAVE_PATH)\n",
        "# torch.save(crnn.state_dict(), MODEL_SAVE_PATH)"
      ],
      "metadata": {
        "id": "TyCgKENOIU3Y"
      },
      "execution_count": 38,
      "outputs": []
    },
    {
      "cell_type": "markdown",
      "source": [
        "## Making Predictions"
      ],
      "metadata": {
        "id": "h4_fwgEnLYZY"
      }
    },
    {
      "cell_type": "code",
      "source": [
        "# Import trained weights from github"
      ],
      "metadata": {
        "id": "1lh-AANgRvse"
      },
      "execution_count": 39,
      "outputs": []
    },
    {
      "cell_type": "code",
      "source": [
        "# model = CRNN(num_chars, rnn_hidden_units=rnn_hidden_units)\n",
        "# model.load_state_dict(torch.load(f = \"/content/weights01.pt\", map_location=torch.device(device)))"
      ],
      "metadata": {
        "id": "7HN5h35_PHot"
      },
      "execution_count": 40,
      "outputs": []
    },
    {
      "cell_type": "code",
      "source": [
        "def decode_predictions(text_batch_logits):\n",
        "    tokens = text_batch_logits.argmax(2).cpu().numpy().T  # [batch_size, T]\n",
        "    decoded = []\n",
        "    for seq in tokens:\n",
        "        prev = None\n",
        "        chars = []\n",
        "        for idx in seq:\n",
        "            if idx != 0 and idx != prev:\n",
        "                chars.append(idx2char[idx])\n",
        "            prev = idx\n",
        "        decoded.append(\"\".join(chars))\n",
        "    return decoded"
      ],
      "metadata": {
        "id": "a7rOocnZIU5o"
      },
      "execution_count": 41,
      "outputs": []
    },
    {
      "cell_type": "code",
      "source": [
        "train_loader = DataLoader(train_dataset, batch_size=16, num_workers=1, shuffle=False)\n",
        "crnn.eval()\n",
        "total_label_list = []\n",
        "total_prediction_list = []\n",
        "with torch.inference_mode():\n",
        "  for image_batch, text_batch in tqdm(test_dataloader, leave=True):\n",
        "        text_batch_logits = crnn(image_batch.to(device)) # [T, batch_size, num_classes==num_features]\n",
        "        text_batch_pred = decode_predictions(text_batch_logits.cpu())\n",
        "        total_prediction_list.append(text_batch_pred)\n",
        "        total_label_list.append(text_batch)"
      ],
      "metadata": {
        "colab": {
          "base_uri": "https://localhost:8080/",
          "height": 69,
          "referenced_widgets": [
            "02888ea93876448b80a704a685ba070b",
            "00f39de1f10f4a27a1d5ea299f2f5f1f",
            "49128714677a403b85e601bf7b054e3c",
            "a2a61e6e56084b9189069adb216060cd",
            "9ead9fba204649c79ce3f9fedb5f1b96",
            "691eb83d647f4302bcce25d647b914a8",
            "02622536f1f743dda6fa7a6941f41222",
            "3f6c36ccafe64460ac3810b1e5180a9e",
            "985a01e7592b49eeb3593798c6412ee6",
            "f8108dca5c15443094e436d85a545627",
            "ce3414f65ab14eea97aeb6a748b3c377"
          ]
        },
        "id": "OzrJyz-zIU7n",
        "outputId": "edcf7141-697d-411d-d476-ccff58420363"
      },
      "execution_count": 42,
      "outputs": [
        {
          "output_type": "display_data",
          "data": {
            "text/plain": [
              "  0%|          | 0/13 [00:00<?, ?it/s]"
            ],
            "application/vnd.jupyter.widget-view+json": {
              "version_major": 2,
              "version_minor": 0,
              "model_id": "02888ea93876448b80a704a685ba070b"
            }
          },
          "metadata": {}
        }
      ]
    },
    {
      "cell_type": "code",
      "source": [
        "len(total_label_list), len(total_prediction_list)"
      ],
      "metadata": {
        "colab": {
          "base_uri": "https://localhost:8080/"
        },
        "id": "24aR_dsSb0la",
        "outputId": "2e729685-0e4e-496c-a17f-0275b3a6776d"
      },
      "execution_count": 43,
      "outputs": [
        {
          "output_type": "execute_result",
          "data": {
            "text/plain": [
              "(13, 13)"
            ]
          },
          "metadata": {},
          "execution_count": 43
        }
      ]
    },
    {
      "cell_type": "code",
      "source": [
        "test_loader = DataLoader(test_dataset, batch_size=16, num_workers=1, shuffle=False)\n",
        "crnn.eval()\n",
        "total_test_label_list = []\n",
        "total_test_pred_list = []\n",
        "with torch.inference_mode():\n",
        "  for image_batch, text_batch in tqdm(test_dataloader, leave=True):\n",
        "        text_batch_logits = crnn(image_batch.to(device)) # [T, batch_size, num_classes==num_features]\n",
        "        text_batch_pred = decode_predictions(text_batch_logits.cpu())\n",
        "        total_test_pred_list.append(text_batch_pred)\n",
        "        total_test_label_list.append(text_batch)"
      ],
      "metadata": {
        "colab": {
          "base_uri": "https://localhost:8080/",
          "height": 69,
          "referenced_widgets": [
            "67faea47e8d1461b93d684ee12b691dd",
            "4a3579f03bdf4ffdb66f908e1dfcf3fb",
            "492deb0eeade44898cacbde8789b9c6b",
            "1768d1fbffae4a129e2638f352635731",
            "ccba492cb18d4d19903c50bc1b1a8b9f",
            "5b80e2d604ac404e8b330f73e92c9002",
            "97136f247efe4cbc8768d5b10e7288a0",
            "4bcf72b927ef404cbc67718115d0fb1c",
            "8ce394a01b05421583613044cd53b36f",
            "5028019d36804a7da7f79cb9749a7b65",
            "61aa842df36d463a9f58d945cf3235f6"
          ]
        },
        "id": "dc7I8kW2gsZw",
        "outputId": "b2b7fc57-b390-45f3-820b-05ce217b0624"
      },
      "execution_count": 44,
      "outputs": [
        {
          "output_type": "display_data",
          "data": {
            "text/plain": [
              "  0%|          | 0/13 [00:00<?, ?it/s]"
            ],
            "application/vnd.jupyter.widget-view+json": {
              "version_major": 2,
              "version_minor": 0,
              "model_id": "67faea47e8d1461b93d684ee12b691dd"
            }
          },
          "metadata": {}
        }
      ]
    },
    {
      "cell_type": "code",
      "source": [
        "len(total_test_label_list), len(total_test_pred_list)"
      ],
      "metadata": {
        "colab": {
          "base_uri": "https://localhost:8080/"
        },
        "id": "rl2_9Qd1hCbV",
        "outputId": "d4f4f715-3a56-4fff-d5b4-d2540140780a"
      },
      "execution_count": 45,
      "outputs": [
        {
          "output_type": "execute_result",
          "data": {
            "text/plain": [
              "(13, 13)"
            ]
          },
          "metadata": {},
          "execution_count": 45
        }
      ]
    },
    {
      "cell_type": "code",
      "source": [
        "import pandas as pd\n",
        "results_train = pd.DataFrame(columns=['actual', 'prediction'])\n",
        "train_loader = DataLoader(train_dataset, batch_size=16, num_workers=1, shuffle=False)\n",
        "with torch.no_grad():\n",
        "    for image_batch, text_batch in tqdm(train_loader, leave=True):\n",
        "        text_batch_logits = crnn(image_batch.to(device)) # [T, batch_size, num_classes==num_features]\n",
        "        text_batch_pred = decode_predictions(text_batch_logits.cpu())\n",
        "        #print(text_batch, text_batch_pred)\n",
        "        df = pd.DataFrame(columns=['actual', 'prediction'])\n",
        "        df['actual'] = text_batch\n",
        "        df['prediction'] = text_batch_pred\n",
        "        results_train = pd.concat([results_train, df])\n",
        "results_train = results_train.reset_index(drop=True)"
      ],
      "metadata": {
        "colab": {
          "base_uri": "https://localhost:8080/",
          "height": 69,
          "referenced_widgets": [
            "95e143c12ef64decb6a9c2ef604fd821",
            "6a62cc8550814df893753e6163088302",
            "661c6bde14814865a6db0348352f8147",
            "69cc0cc027db45dc98f5a0258b019e11",
            "8c647b652fed49c482fc91c1039d3855",
            "ab87eb4bc4644c0eac83673aa5f412b8",
            "51bda8f499994d4a980eb8fa2bc69eaf",
            "b427d736a3ca446c9c0b89f05355b265",
            "88f481749a3c4247a9f86a87a6203185",
            "23dfa8aa6d2b4c769a76e6859723a15e",
            "ea586ec95b2346c1badb57ea6e33d2ab"
          ]
        },
        "id": "-IkLFWVzahl-",
        "outputId": "a06319a4-ee7d-4eb4-8582-ec670b34ecf4"
      },
      "execution_count": 46,
      "outputs": [
        {
          "output_type": "display_data",
          "data": {
            "text/plain": [
              "  0%|          | 0/52 [00:00<?, ?it/s]"
            ],
            "application/vnd.jupyter.widget-view+json": {
              "version_major": 2,
              "version_minor": 0,
              "model_id": "95e143c12ef64decb6a9c2ef604fd821"
            }
          },
          "metadata": {}
        }
      ]
    },
    {
      "cell_type": "code",
      "source": [
        "print(results_train.shape)\n",
        "results_train"
      ],
      "metadata": {
        "colab": {
          "base_uri": "https://localhost:8080/",
          "height": 453
        },
        "id": "bHN8m_5Oap9i",
        "outputId": "3003f7fb-37ee-46f6-8e87-86810f3094c6"
      },
      "execution_count": 47,
      "outputs": [
        {
          "output_type": "stream",
          "name": "stdout",
          "text": [
            "(832, 2)\n"
          ]
        },
        {
          "output_type": "execute_result",
          "data": {
            "text/plain": [
              "    actual prediction\n",
              "0    yf347      yf347\n",
              "1    5n245      5n245\n",
              "2    nfndw      nfndw\n",
              "3    5n3w4      5n3w4\n",
              "4    43gey      43gey\n",
              "..     ...        ...\n",
              "827  3wnd3      3wnd3\n",
              "828  pyf65      pyf65\n",
              "829  pg2yx      pg2yx\n",
              "830  n6nn2      n6nn2\n",
              "831  fcne6      fcne6\n",
              "\n",
              "[832 rows x 2 columns]"
            ],
            "text/html": [
              "\n",
              "  <div id=\"df-14e74e4d-44ed-4894-9def-bd08f1f93418\" class=\"colab-df-container\">\n",
              "    <div>\n",
              "<style scoped>\n",
              "    .dataframe tbody tr th:only-of-type {\n",
              "        vertical-align: middle;\n",
              "    }\n",
              "\n",
              "    .dataframe tbody tr th {\n",
              "        vertical-align: top;\n",
              "    }\n",
              "\n",
              "    .dataframe thead th {\n",
              "        text-align: right;\n",
              "    }\n",
              "</style>\n",
              "<table border=\"1\" class=\"dataframe\">\n",
              "  <thead>\n",
              "    <tr style=\"text-align: right;\">\n",
              "      <th></th>\n",
              "      <th>actual</th>\n",
              "      <th>prediction</th>\n",
              "    </tr>\n",
              "  </thead>\n",
              "  <tbody>\n",
              "    <tr>\n",
              "      <th>0</th>\n",
              "      <td>yf347</td>\n",
              "      <td>yf347</td>\n",
              "    </tr>\n",
              "    <tr>\n",
              "      <th>1</th>\n",
              "      <td>5n245</td>\n",
              "      <td>5n245</td>\n",
              "    </tr>\n",
              "    <tr>\n",
              "      <th>2</th>\n",
              "      <td>nfndw</td>\n",
              "      <td>nfndw</td>\n",
              "    </tr>\n",
              "    <tr>\n",
              "      <th>3</th>\n",
              "      <td>5n3w4</td>\n",
              "      <td>5n3w4</td>\n",
              "    </tr>\n",
              "    <tr>\n",
              "      <th>4</th>\n",
              "      <td>43gey</td>\n",
              "      <td>43gey</td>\n",
              "    </tr>\n",
              "    <tr>\n",
              "      <th>...</th>\n",
              "      <td>...</td>\n",
              "      <td>...</td>\n",
              "    </tr>\n",
              "    <tr>\n",
              "      <th>827</th>\n",
              "      <td>3wnd3</td>\n",
              "      <td>3wnd3</td>\n",
              "    </tr>\n",
              "    <tr>\n",
              "      <th>828</th>\n",
              "      <td>pyf65</td>\n",
              "      <td>pyf65</td>\n",
              "    </tr>\n",
              "    <tr>\n",
              "      <th>829</th>\n",
              "      <td>pg2yx</td>\n",
              "      <td>pg2yx</td>\n",
              "    </tr>\n",
              "    <tr>\n",
              "      <th>830</th>\n",
              "      <td>n6nn2</td>\n",
              "      <td>n6nn2</td>\n",
              "    </tr>\n",
              "    <tr>\n",
              "      <th>831</th>\n",
              "      <td>fcne6</td>\n",
              "      <td>fcne6</td>\n",
              "    </tr>\n",
              "  </tbody>\n",
              "</table>\n",
              "<p>832 rows × 2 columns</p>\n",
              "</div>\n",
              "    <div class=\"colab-df-buttons\">\n",
              "      \n",
              "  <div class=\"colab-df-container\">\n",
              "    <button class=\"colab-df-convert\" onclick=\"convertToInteractive('df-14e74e4d-44ed-4894-9def-bd08f1f93418')\"\n",
              "            title=\"Convert this dataframe to an interactive table.\"\n",
              "            style=\"display:none;\">\n",
              "      \n",
              "  <svg xmlns=\"http://www.w3.org/2000/svg\" height=\"24px\" viewBox=\"0 -960 960 960\">\n",
              "    <path d=\"M120-120v-720h720v720H120Zm60-500h600v-160H180v160Zm220 220h160v-160H400v160Zm0 220h160v-160H400v160ZM180-400h160v-160H180v160Zm440 0h160v-160H620v160ZM180-180h160v-160H180v160Zm440 0h160v-160H620v160Z\"/>\n",
              "  </svg>\n",
              "    </button>\n",
              "    \n",
              "  <style>\n",
              "    .colab-df-container {\n",
              "      display:flex;\n",
              "      gap: 12px;\n",
              "    }\n",
              "\n",
              "    .colab-df-convert {\n",
              "      background-color: #E8F0FE;\n",
              "      border: none;\n",
              "      border-radius: 50%;\n",
              "      cursor: pointer;\n",
              "      display: none;\n",
              "      fill: #1967D2;\n",
              "      height: 32px;\n",
              "      padding: 0 0 0 0;\n",
              "      width: 32px;\n",
              "    }\n",
              "\n",
              "    .colab-df-convert:hover {\n",
              "      background-color: #E2EBFA;\n",
              "      box-shadow: 0px 1px 2px rgba(60, 64, 67, 0.3), 0px 1px 3px 1px rgba(60, 64, 67, 0.15);\n",
              "      fill: #174EA6;\n",
              "    }\n",
              "\n",
              "    .colab-df-buttons div {\n",
              "      margin-bottom: 4px;\n",
              "    }\n",
              "\n",
              "    [theme=dark] .colab-df-convert {\n",
              "      background-color: #3B4455;\n",
              "      fill: #D2E3FC;\n",
              "    }\n",
              "\n",
              "    [theme=dark] .colab-df-convert:hover {\n",
              "      background-color: #434B5C;\n",
              "      box-shadow: 0px 1px 3px 1px rgba(0, 0, 0, 0.15);\n",
              "      filter: drop-shadow(0px 1px 2px rgba(0, 0, 0, 0.3));\n",
              "      fill: #FFFFFF;\n",
              "    }\n",
              "  </style>\n",
              "\n",
              "    <script>\n",
              "      const buttonEl =\n",
              "        document.querySelector('#df-14e74e4d-44ed-4894-9def-bd08f1f93418 button.colab-df-convert');\n",
              "      buttonEl.style.display =\n",
              "        google.colab.kernel.accessAllowed ? 'block' : 'none';\n",
              "\n",
              "      async function convertToInteractive(key) {\n",
              "        const element = document.querySelector('#df-14e74e4d-44ed-4894-9def-bd08f1f93418');\n",
              "        const dataTable =\n",
              "          await google.colab.kernel.invokeFunction('convertToInteractive',\n",
              "                                                    [key], {});\n",
              "        if (!dataTable) return;\n",
              "\n",
              "        const docLinkHtml = 'Like what you see? Visit the ' +\n",
              "          '<a target=\"_blank\" href=https://colab.research.google.com/notebooks/data_table.ipynb>data table notebook</a>'\n",
              "          + ' to learn more about interactive tables.';\n",
              "        element.innerHTML = '';\n",
              "        dataTable['output_type'] = 'display_data';\n",
              "        await google.colab.output.renderOutput(dataTable, element);\n",
              "        const docLink = document.createElement('div');\n",
              "        docLink.innerHTML = docLinkHtml;\n",
              "        element.appendChild(docLink);\n",
              "      }\n",
              "    </script>\n",
              "  </div>\n",
              "  \n",
              "    </div>\n",
              "  </div>\n",
              "  "
            ]
          },
          "metadata": {},
          "execution_count": 47
        }
      ]
    },
    {
      "cell_type": "code",
      "source": [
        "text_batch_pred[1]"
      ],
      "metadata": {
        "colab": {
          "base_uri": "https://localhost:8080/",
          "height": 56
        },
        "id": "_6dUp_4zWDPH",
        "outputId": "19d56cb8-7013-4007-901e-e08963cbcfa1"
      },
      "execution_count": 48,
      "outputs": [
        {
          "output_type": "execute_result",
          "data": {
            "text/plain": [
              "'cgcgb'"
            ],
            "application/vnd.google.colaboratory.intrinsic+json": {
              "type": "string"
            }
          },
          "metadata": {},
          "execution_count": 48
        }
      ]
    },
    {
      "cell_type": "code",
      "source": [
        "total_prediction_list[0][0]"
      ],
      "metadata": {
        "colab": {
          "base_uri": "https://localhost:8080/",
          "height": 56
        },
        "id": "cOKntf_Jc6nX",
        "outputId": "9b1546f5-3f04-467f-89d9-a718eff1341d"
      },
      "execution_count": 49,
      "outputs": [
        {
          "output_type": "execute_result",
          "data": {
            "text/plain": [
              "'mx8bb'"
            ],
            "application/vnd.google.colaboratory.intrinsic+json": {
              "type": "string"
            }
          },
          "metadata": {},
          "execution_count": 49
        }
      ]
    },
    {
      "cell_type": "code",
      "metadata": {
        "colab": {
          "base_uri": "https://localhost:8080/"
        },
        "id": "eff92834",
        "outputId": "2bf19865-0930-4282-c438-9c986ef6b5f0"
      },
      "source": [
        "import itertools\n",
        "\n",
        "# Flatten the list of lists for easier comparison\n",
        "total_test_label_list_flat = list(itertools.chain(*total_test_label_list))\n",
        "total_test_pred_list_flat = list(itertools.chain(*total_test_pred_list))\n",
        "\n",
        "# Calculate accuracy\n",
        "correct_predictions = sum(1 for actual, predicted in zip(total_test_label_list_flat, total_test_pred_list_flat) if actual == predicted)\n",
        "total_predictions = len(total_test_label_list_flat)\n",
        "accuracy = correct_predictions / total_predictions if total_predictions > 0 else 0\n",
        "\n",
        "print(f\"Test Set Accuracy: {accuracy:.4f}\")"
      ],
      "execution_count": 50,
      "outputs": [
        {
          "output_type": "stream",
          "name": "stdout",
          "text": [
            "Test Set Accuracy: 0.9904\n"
          ]
        }
      ]
    },
    {
      "cell_type": "code",
      "source": [
        "misclassified_images = []\n",
        "\n",
        "for actual, predicted in zip(total_test_label_list_flat, total_test_pred_list_flat):\n",
        "    if actual != predicted:\n",
        "        misclassified_images.append({'actual': actual, 'predicted': predicted})\n",
        "\n",
        "print(f\"Number of misclassified images: {len(misclassified_images)}\")\n",
        "if misclassified_images:\n",
        "    print(\"First 5 misclassified images:\")\n",
        "    display(misclassified_images[:5])"
      ],
      "metadata": {
        "colab": {
          "base_uri": "https://localhost:8080/",
          "height": 104
        },
        "id": "6IpDKejjowF5",
        "outputId": "059e6765-8d78-49e8-91c6-a53ecc459429"
      },
      "execution_count": 51,
      "outputs": [
        {
          "output_type": "stream",
          "name": "stdout",
          "text": [
            "Number of misclassified images: 2\n",
            "First 5 misclassified images:\n"
          ]
        },
        {
          "output_type": "display_data",
          "data": {
            "text/plain": [
              "[{'actual': 'wgnwp', 'predicted': 'wgmwp'},\n",
              " {'actual': 'fp5wn', 'predicted': '4p5wn'}]"
            ]
          },
          "metadata": {}
        }
      ]
    },
    {
      "cell_type": "code",
      "metadata": {
        "colab": {
          "base_uri": "https://localhost:8080/",
          "height": 88
        },
        "id": "8bdc35ca",
        "outputId": "0c5613f9-a9b0-427f-ec6b-1af5c610bb94"
      },
      "source": [
        "import matplotlib.pyplot as plt\n",
        "from PIL import Image\n",
        "\n",
        "for misclassified in misclassified_images:\n",
        "  image_path = None\n",
        "  for image in test_set:\n",
        "    # print(image.stem)\n",
        "    if misclassified['actual'] == image.stem:\n",
        "      image_path = image;\n",
        "\n",
        "plot = Image.open(image_path)\n",
        "plot"
      ],
      "execution_count": 52,
      "outputs": [
        {
          "output_type": "execute_result",
          "data": {
            "text/plain": [
              "<PIL.PngImagePlugin.PngImageFile image mode=RGBA size=200x50>"
            ],
            "image/png": "[encoded data removed]"
          },
          "metadata": {},
          "execution_count": 52
        }
      ]
    },
    {
      "cell_type": "markdown",
      "metadata": {
        "id": "23908e0e"
      },
      "source": [
        "**Reasoning**:\n",
        "Use the actual labels and predictions from the test set to compute precision, recall, and F1-score for each character using the `classification_report` function.\n",
        "\n"
      ]
    },
    {
      "cell_type": "code",
      "metadata": {
        "colab": {
          "base_uri": "https://localhost:8080/"
        },
        "id": "35037d59",
        "outputId": "2c9a7136-909e-4760-a7e5-681641e9c4ad"
      },
      "source": [
        "from sklearn.metrics import classification_report\n",
        "import itertools\n",
        "\n",
        "total_test_label_list_chars = list(itertools.chain(*total_test_label_list_flat))\n",
        "total_test_pred_list_chars = list(itertools.chain(*total_test_pred_list_flat))\n",
        "\n",
        "report = classification_report(total_test_label_list_chars, total_test_pred_list_chars, labels=vocabulary, zero_division=0)\n",
        "\n",
        "print(report)"
      ],
      "execution_count": 53,
      "outputs": [
        {
          "output_type": "stream",
          "name": "stdout",
          "text": [
            "              precision    recall  f1-score   support\n",
            "\n",
            "           -       0.00      0.00      0.00         0\n",
            "           2       1.00      1.00      1.00        47\n",
            "           3       1.00      1.00      1.00        53\n",
            "           4       0.98      1.00      0.99        41\n",
            "           5       1.00      1.00      1.00        58\n",
            "           6       1.00      1.00      1.00        42\n",
            "           7       1.00      1.00      1.00        52\n",
            "           8       1.00      1.00      1.00        54\n",
            "           b       1.00      1.00      1.00        57\n",
            "           c       1.00      1.00      1.00        49\n",
            "           d       1.00      1.00      1.00        50\n",
            "           e       1.00      1.00      1.00        38\n",
            "           f       1.00      0.98      0.99        59\n",
            "           g       1.00      1.00      1.00        50\n",
            "           m       0.98      1.00      0.99        62\n",
            "           n       1.00      0.99      1.00       111\n",
            "           p       1.00      1.00      1.00        54\n",
            "           w       1.00      1.00      1.00        59\n",
            "           x       1.00      1.00      1.00        59\n",
            "           y       1.00      1.00      1.00        45\n",
            "\n",
            "    accuracy                           1.00      1040\n",
            "   macro avg       0.95      0.95      0.95      1040\n",
            "weighted avg       1.00      1.00      1.00      1040\n",
            "\n"
          ]
        }
      ]
    }
  ]
}